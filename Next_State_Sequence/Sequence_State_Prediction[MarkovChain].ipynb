{
 "cells": [
  {
   "cell_type": "markdown",
   "metadata": {},
   "source": [
    "### Import Libraries"
   ]
  },
  {
   "cell_type": "code",
   "execution_count": 2,
   "metadata": {},
   "outputs": [],
   "source": [
    "import numpy as np"
   ]
  },
  {
   "cell_type": "markdown",
   "metadata": {},
   "source": [
    "### Define States"
   ]
  },
  {
   "cell_type": "code",
   "execution_count": 3,
   "metadata": {},
   "outputs": [],
   "source": [
    "# States: 0 = Sunny, 1 = Rainy, 2 = Cloudy, 3 = Snowy\n",
    "states = [\"Sunny\", \"Rainy\", \"Cloudy\", \"Snowy\"]"
   ]
  },
  {
   "cell_type": "markdown",
   "metadata": {},
   "source": [
    "### Transition Matrix\n",
    "- (rows = current state, columns = next state)"
   ]
  },
  {
   "cell_type": "code",
   "execution_count": 4,
   "metadata": {},
   "outputs": [],
   "source": [
    "transition_matrix = [\n",
    "    [0.5, 0.2, 0.2, 0.1],  # Sunny(current_state: row_index_0) -> Sunny(next_state: col_index_0) (50%), Rainy(next_state:col_index_1) (20%), Cloudy(next_state:col_index_2) (20%), Snowy(next_state:col_index_3) (10%)\n",
    "    [0.3, 0.4, 0.2, 0.1],  # Rainy(current_state:row_index_1) -> Sunny(next_state:col_index_0) (30%), Rainy(next_state:col_index_1) (40%), Cloudy(next_state:col_index_2) (20%), Snowy(next_state:col_index_3) (10%)\n",
    "    [0.2, 0.3, 0.4, 0.1],  # Cloudy(current_state:row_index_2) -> Sunny(next_state:col_index_0) (20%), Rainy(next_state:col_index_1) (30%), Cloudy(next_state:col_index_2) (40%), Snowy(next_state:col_index_3) (10%)\n",
    "    [0.1, 0.2, 0.2, 0.5]   # Snowy(current_state:row_index_3) -> Sunny(next_state:col_index_0) (10%), Rainy(next_state:col_index_1) (20%), Cloudy(next_state:col_index_2) (20%), Snowy(next_state:col_index_3) (50%)\n",
    "]"
   ]
  },
  {
   "cell_type": "markdown",
   "metadata": {},
   "source": [
    "### Simulate Weather State Prediction\n",
    "\n",
    "- Based on `current state being [Sunny]`"
   ]
  },
  {
   "cell_type": "code",
   "execution_count": 5,
   "metadata": {},
   "outputs": [
    {
     "name": "stdout",
     "output_type": "stream",
     "text": [
      "current_state: 0\n",
      "weather_simulation: ['Sunny']\n"
     ]
    }
   ],
   "source": [
    "current_state = 0 # Lets consider Sunny being initial state\n",
    "weather_simulation = [states[current_state]]\n",
    "print(\"current_state:\",current_state)\n",
    "print(\"weather_simulation:\",weather_simulation)"
   ]
  },
  {
   "cell_type": "markdown",
   "metadata": {},
   "source": [
    "### Next State Prediction using Current State"
   ]
  },
  {
   "cell_type": "code",
   "execution_count": 7,
   "metadata": {},
   "outputs": [
    {
     "name": "stdout",
     "output_type": "stream",
     "text": [
      "current_state: 2\n",
      "current_state: 3\n",
      "current_state: 3\n",
      "current_state: 3\n",
      "current_state: 1\n",
      "current_state: 0\n",
      "current_state: 0\n",
      "current_state: 2\n",
      "current_state: 2\n",
      "current_state: 2\n",
      "current_state: 0\n",
      "current_state: 3\n",
      "current_state: 3\n",
      "current_state: 1\n",
      "current_state: 0\n"
     ]
    }
   ],
   "source": [
    "np.random.seed(42)\n",
    "for _ in range(15): # Starting row 0th row index\n",
    "    current_state = np.random.choice([0,1,2,3], p=transition_matrix[current_state]) # Picking next state based on probabilities in columns\n",
    "    print(\"current_state:\",current_state)\n",
    "    weather_simulation.append(states[current_state])"
   ]
  },
  {
   "cell_type": "code",
   "execution_count": 8,
   "metadata": {},
   "outputs": [
    {
     "name": "stdout",
     "output_type": "stream",
     "text": [
      "Weather Simulation: ['Sunny', 'Sunny', 'Snowy', 'Cloudy', 'Snowy', 'Snowy', 'Snowy', 'Rainy', 'Sunny', 'Sunny', 'Cloudy', 'Cloudy', 'Cloudy', 'Sunny', 'Snowy', 'Snowy', 'Rainy', 'Sunny']\n"
     ]
    }
   ],
   "source": [
    "print(\"Weather Simulation:\", weather_simulation)"
   ]
  },
  {
   "cell_type": "markdown",
   "metadata": {},
   "source": [
    "**Reasoning why it simulates sunny -> sunny -> snowy, if it is based on probability weights all the time it should be sunny -> sunny -> sunny? check below**\n",
    "\n",
    "- `np.random.choice` always respects the probability weights from the transition matrix—it’s not purely random. The transitions in your Markov Chain (e.g., Sunny → Sunny → Snowy) happen because of the randomness built into weighted sampling.\n",
    "\n",
    "**Key Points**:\n",
    "\n",
    "- `Weighted randomness:` The next state is chosen based on the probabilities from the transition matrix for the current state. If Sunny → Sunny has a 50% chance, there's still a 50% chance for transitions to other states (e.g., Snowy).\n",
    "\n",
    "- `Why variability occurs`: Even with high probabilities (e.g., 50% for Sunny → Sunny), randomness allows transitions to other states occasionally (e.g., Sunny → Snowy with 10%).\n",
    "\n",
    "- `Markov Chain in ML`: This randomness is intentional and models real-world uncertainty. In state prediction, it's accurate to allow transitions based on weighted probabilities rather than always choosing the highest-probability state. It prevents overfitting and mimics real-world variability.\n",
    "\n",
    "- In short: np.random.choice respects probabilities but includes randomness for realistic variability, making it suitable for ML state predictions."
   ]
  },
  {
   "cell_type": "markdown",
   "metadata": {},
   "source": [
    "My understanding: It means it gives high chance for higher probability value to pickup but also sometimes randomly pick other states.\n",
    "\n",
    "> Note: It gives a higher chance for the state with the highest probability, but it still allows for occasional transitions to other states based on their smaller probabilities, adding randomness."
   ]
  }
 ],
 "metadata": {
  "kernelspec": {
   "display_name": "Datascience (Poetry)",
   "language": "python",
   "name": "poetry_env"
  },
  "language_info": {
   "codemirror_mode": {
    "name": "ipython",
    "version": 3
   },
   "file_extension": ".py",
   "mimetype": "text/x-python",
   "name": "python",
   "nbconvert_exporter": "python",
   "pygments_lexer": "ipython3",
   "version": "3.11.10"
  }
 },
 "nbformat": 4,
 "nbformat_minor": 2
}
