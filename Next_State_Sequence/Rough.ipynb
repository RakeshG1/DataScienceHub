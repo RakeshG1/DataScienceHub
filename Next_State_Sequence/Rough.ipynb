{
 "cells": [
  {
   "cell_type": "code",
   "execution_count": 1,
   "metadata": {},
   "outputs": [
    {
     "name": "stdout",
     "output_type": "stream",
     "text": [
      "Weather Simulation: ['Sunny', 'Sunny', 'Snowy', 'Snowy', 'Snowy', 'Rainy', 'Sunny', 'Sunny', 'Cloudy', 'Cloudy', 'Cloudy', 'Sunny', 'Snowy', 'Snowy', 'Rainy', 'Sunny']\n"
     ]
    }
   ],
   "source": [
    "import numpy as np\n",
    "\n",
    "# States: 0 = Sunny, 1 = Rainy, 2 = Cloudy, 3 = Snowy\n",
    "states = [\"Sunny\", \"Rainy\", \"Cloudy\", \"Snowy\"]\n",
    "\n",
    "# Transition matrix (rows = current state, columns = next state)\n",
    "transition_matrix = [\n",
    "    [0.5, 0.2, 0.2, 0.1],  # Sunny -> Sunny (50%), Rainy (20%), Cloudy (20%), Snowy (10%)\n",
    "    [0.3, 0.4, 0.2, 0.1],  # Rainy -> Sunny (30%), Rainy (40%), Cloudy (20%), Snowy (10%)\n",
    "    [0.2, 0.3, 0.4, 0.1],  # Cloudy -> Sunny (20%), Rainy (30%), Cloudy (40%), Snowy (10%)\n",
    "    [0.1, 0.2, 0.2, 0.5]   # Snowy -> Sunny (10%), Rainy (20%), Cloudy (20%), Snowy (50%)\n",
    "]\n",
    "\n",
    "# Simulate weather for 15 days starting from Sunny\n",
    "current_state = 0  # Start at Sunny\n",
    "weather_simulation = [states[current_state]]\n",
    "\n",
    "np.random.seed(42)\n",
    "for _ in range(15):\n",
    "    current_state = np.random.choice([0, 1, 2, 3], p=transition_matrix[current_state])\n",
    "    weather_simulation.append(states[current_state])\n",
    "\n",
    "print(\"Weather Simulation:\", weather_simulation)\n"
   ]
  },
  {
   "cell_type": "code",
   "execution_count": null,
   "metadata": {},
   "outputs": [],
   "source": []
  }
 ],
 "metadata": {
  "kernelspec": {
   "display_name": "Datascience (Poetry)",
   "language": "python",
   "name": "poetry_env"
  },
  "language_info": {
   "codemirror_mode": {
    "name": "ipython",
    "version": 3
   },
   "file_extension": ".py",
   "mimetype": "text/x-python",
   "name": "python",
   "nbconvert_exporter": "python",
   "pygments_lexer": "ipython3",
   "version": "3.11.10"
  }
 },
 "nbformat": 4,
 "nbformat_minor": 2
}
