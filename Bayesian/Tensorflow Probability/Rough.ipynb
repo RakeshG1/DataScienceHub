{
 "cells": [
  {
   "cell_type": "code",
   "execution_count": null,
   "metadata": {
    "vscode": {
     "languageId": "plaintext"
    }
   },
   "outputs": [],
   "source": [
    "import tensorflow_probability as tfp\n",
    "import tensorflow as tf\n",
    "import matplotlib.pyplot as plt\n",
    "import numpy as np\n",
    "\n",
    "\n",
    "# Generate synthetic data\n",
    "np.random.seed(0)\n",
    "true_mean = 3.0\n",
    "true_stddev = 1.0\n",
    "data = np.random.normal(loc=true_mean, scale=true_stddev, size=50).astype(np.float32)\n",
    "\n",
    "# Define prior\n",
    "prior = tfp.distributions.Normal(loc=0.0, scale=1.0)\n",
    "\n",
    "# Define likelihood function\n",
    "def likelihood_fn(mean):\n",
    "    likelihood = tfp.distributions.Normal(loc=mean, scale=1.0)\n",
    "    return tf.reduce_sum(likelihood.log_prob(data))\n",
    "\n",
    "# Posterior using MCMC\n",
    "hmc = tfp.mcmc.HamiltonianMonteCarlo(\n",
    "    target_log_prob_fn=lambda mean: prior.log_prob(mean) + likelihood_fn(mean),\n",
    "    step_size=0.1,\n",
    "    num_leapfrog_steps=3,\n",
    ")\n",
    "\n",
    "# Initial state\n",
    "initial_state = tf.constant(0.0)\n",
    "\n",
    "# Sample posterior\n",
    "samples, _ = tfp.mcmc.sample_chain(\n",
    "    num_results=500,\n",
    "    current_state=initial_state,\n",
    "    kernel=hmc,\n",
    "    num_burnin_steps=200,\n",
    ")\n",
    "\n",
    "# Generate parameter ranges from MCMC samples\n",
    "x_posterior = np.linspace(np.min(samples), np.max(samples), 100)\n",
    "\n",
    "# Plotting prior, likelihood, and posterior\n",
    "plt.figure(figsize=(12, 6))\n",
    "\n",
    "# Prior plot\n",
    "x_prior = np.linspace(-5, 5, 100)\n",
    "prior_pdf = prior.prob(x_prior)\n",
    "plt.plot(x_prior, prior_pdf, label=\"Prior (Initial Belief)\")\n",
    "\n",
    "# Likelihood for actual data\n",
    "x_likelihood = np.linspace(np.min(data) - 1, np.max(data) + 1, 100)\n",
    "likelihood_pdf = np.array([tfp.distributions.Normal(loc=mean, scale=1.0).prob(data).numpy().sum() for mean in x_likelihood])\n",
    "plt.plot(x_likelihood, likelihood_pdf, label=\"Likelihood (Data Fit)\")\n",
    "\n",
    "# Posterior distribution\n",
    "posterior_pdf = tfp.distributions.Normal(loc=np.mean(samples), scale=np.std(samples)).prob(x_posterior)\n",
    "plt.plot(x_posterior, posterior_pdf, label=\"Posterior (Updated Belief)\")\n",
    "\n",
    "# Show plot with legends\n",
    "plt.legend()\n",
    "plt.xlabel(\"Parameter Value\")\n",
    "plt.ylabel(\"Probability Density\")\n",
    "plt.title(\"Prior, Likelihood, and Posterior Distributions\")\n",
    "plt.show()"
   ]
  },
  {
   "cell_type": "code",
   "execution_count": null,
   "metadata": {
    "vscode": {
     "languageId": "plaintext"
    }
   },
   "outputs": [],
   "source": [
    "import numpy as np\n",
    "import matplotlib.pyplot as plt\n",
    "import tensorflow_probability as tfp\n",
    "\n",
    "# Define prior (Uniform distribution for probability of heads)\n",
    "prior = tfp.distributions.Uniform(low=0., high=1.)\n",
    "\n",
    "# Define likelihood function (Binomial: 7 heads out of 10 tosses)\n",
    "def likelihood_fn(p):\n",
    "    return tfp.distributions.Binomial(total_count=10, probs=p).prob(7).numpy()\n",
    "\n",
    "# Define posterior (using Bayes' rule approximation)\n",
    "p_values = np.linspace(0, 1, 100)\n",
    "prior_values = prior.prob(p_values).numpy()\n",
    "likelihood_values = np.array([likelihood_fn(p) for p in p_values])\n",
    "posterior_values = prior_values * likelihood_values\n",
    "posterior_values /= posterior_values.sum()  # Normalize\n",
    "\n",
    "# Plot Prior, Likelihood, and Posterior distributions\n",
    "plt.figure(figsize=(12, 6))\n",
    "plt.plot(p_values, prior_values, label=\"Prior\", linestyle=\"--\", color=\"blue\")\n",
    "plt.plot(p_values, likelihood_values, label=\"Likelihood\", linestyle=\":\", color=\"green\")\n",
    "plt.plot(p_values, posterior_values, label=\"Posterior\", linestyle=\"-\", color=\"red\")\n",
    "plt.axvline(0.7, color=\"gray\", linestyle=\"--\", alpha=0.5, label=\"Peak of Posterior (p ≈ 0.7)\")\n",
    "\n",
    "# Annotations and Labels\n",
    "plt.title(\"Bayesian Inference: Prior, Likelihood, and Posterior\")\n",
    "plt.xlabel(\"Probability of Heads (p)\")\n",
    "plt.ylabel(\"Density\")\n",
    "plt.legend()\n",
    "plt.grid()\n",
    "plt.show()\n"
   ]
  },
  {
   "cell_type": "code",
   "execution_count": null,
   "metadata": {
    "vscode": {
     "languageId": "plaintext"
    }
   },
   "outputs": [],
   "source": []
  }
 ],
 "metadata": {
  "language_info": {
   "name": "python"
  }
 },
 "nbformat": 4,
 "nbformat_minor": 2
}
