{
 "cells": [
  {
   "cell_type": "markdown",
   "metadata": {},
   "source": [
    "- `Import Libraries`"
   ]
  },
  {
   "cell_type": "code",
   "execution_count": 2,
   "metadata": {},
   "outputs": [],
   "source": [
    "import numpy as np \n",
    "import pandas as pd\n",
    "import warnings\n",
    "import datetime\n",
    "import matplotlib.pyplot as plt\n",
    "from matplotlib import style\n",
    "from scipy.signal import find_peaks\n",
    "from statsmodels.nonparametric.smoothers_lowess import lowess\n",
    "from IPython.core.display import display, HTML\n",
    "\n",
    "warnings.filterwarnings(\"ignore\")"
   ]
  },
  {
   "cell_type": "code",
   "execution_count": 3,
   "metadata": {},
   "outputs": [
    {
     "name": "stdout",
     "output_type": "stream",
     "text": [
      "['Solarize_Light2', '_classic_test_patch', '_mpl-gallery', '_mpl-gallery-nogrid', 'bmh', 'classic', 'dark_background', 'fast', 'fivethirtyeight', 'ggplot', 'grayscale', 'seaborn-v0_8', 'seaborn-v0_8-bright', 'seaborn-v0_8-colorblind', 'seaborn-v0_8-dark', 'seaborn-v0_8-dark-palette', 'seaborn-v0_8-darkgrid', 'seaborn-v0_8-deep', 'seaborn-v0_8-muted', 'seaborn-v0_8-notebook', 'seaborn-v0_8-paper', 'seaborn-v0_8-pastel', 'seaborn-v0_8-poster', 'seaborn-v0_8-talk', 'seaborn-v0_8-ticks', 'seaborn-v0_8-white', 'seaborn-v0_8-whitegrid', 'tableau-colorblind10']\n"
     ]
    }
   ],
   "source": [
    "print(plt.style.available)"
   ]
  },
  {
   "cell_type": "markdown",
   "metadata": {},
   "source": [
    "- `Sample Data Generation`"
   ]
  },
  {
   "cell_type": "code",
   "execution_count": 4,
   "metadata": {},
   "outputs": [
    {
     "name": "stdout",
     "output_type": "stream",
     "text": [
      "--------------------\n",
      "Dates\n",
      "--------------------\n"
     ]
    },
    {
     "data": {
      "text/plain": [
       "array(['2022-01-01', '2022-01-02', '2022-01-03', '2022-01-04',\n",
       "       '2022-01-05', '2022-01-06', '2022-01-07', '2022-01-08',\n",
       "       '2022-01-09', '2022-01-10', '2022-01-11', '2022-01-12',\n",
       "       '2022-01-13', '2022-01-14', '2022-01-15', '2022-01-16',\n",
       "       '2022-01-17', '2022-01-18', '2022-01-19', '2022-01-20',\n",
       "       '2022-01-21', '2022-01-22', '2022-01-23', '2022-01-24',\n",
       "       '2022-01-25', '2022-01-26', '2022-01-27', '2022-01-28',\n",
       "       '2022-01-29', '2022-01-30', '2022-01-31', '2022-02-01',\n",
       "       '2022-02-02', '2022-02-03', '2022-02-04', '2022-02-05',\n",
       "       '2022-02-06', '2022-02-07', '2022-02-08', '2022-02-09',\n",
       "       '2022-02-10', '2022-02-11', '2022-02-12', '2022-02-13',\n",
       "       '2022-02-14', '2022-02-15', '2022-02-16', '2022-02-17',\n",
       "       '2022-02-18', '2022-02-19', '2022-02-20', '2022-02-21',\n",
       "       '2022-02-22', '2022-02-23', '2022-02-24', '2022-02-25',\n",
       "       '2022-02-26', '2022-02-27', '2022-02-28', '2022-03-01'],\n",
       "      dtype='<U28')"
      ]
     },
     "metadata": {},
     "output_type": "display_data"
    },
    {
     "name": "stdout",
     "output_type": "stream",
     "text": [
      "--------------------\n",
      "Values\n",
      "--------------------\n"
     ]
    },
    {
     "data": {
      "text/plain": [
       "array([19, 25, 74, 38, 39, 18, 83, 10, 50, 46, 26, 21, 64, 72, 43, 82, 88,\n",
       "       59, 61, 64, 87, 79, 23, 35, 23, 40, 40, 22, 75, 41, 67, 46, 37, 28,\n",
       "       87, 32, 33, 21, 38, 84, 19, 25, 28, 81, 21, 27, 56, 17, 85, 38, 43,\n",
       "       54, 15, 14, 81, 60, 64, 44, 25, 87])"
      ]
     },
     "metadata": {},
     "output_type": "display_data"
    }
   ],
   "source": [
    "##### Reproducibility Id\n",
    "np.random.seed(10)\n",
    "\n",
    "no_of_records = 60\n",
    "\n",
    "date_value = np.array(\"2022-01-01\", dtype=np.datetime64)\n",
    "##### Creating 60 Dates, Starting From 2022-01-01\n",
    "date_values = date_value + np.arange(no_of_records)\n",
    "date_values = date_values.astype('str')\n",
    "print(\"--\"*10)\n",
    "print(\"Dates\")\n",
    "print(\"--\"*10)\n",
    "display(date_values)\n",
    "\n",
    "# np.random.randint(low=1, high=100, size=(2, 2))\n",
    "values = np.random.randint(low=10, high=90, size=(no_of_records))\n",
    "values = values.astype('int')\n",
    "print(\"--\"*10)\n",
    "print(\"Values\")\n",
    "print(\"--\"*10)\n",
    "display(values)"
   ]
  },
  {
   "cell_type": "markdown",
   "metadata": {},
   "source": [
    "- `Convert 2 Arrays --> 2d Array`"
   ]
  },
  {
   "cell_type": "code",
   "execution_count": 5,
   "metadata": {},
   "outputs": [
    {
     "name": "stdout",
     "output_type": "stream",
     "text": [
      "------------------------------\n",
      "Head : 5 Records\n",
      "------------------------------\n"
     ]
    },
    {
     "data": {
      "text/plain": [
       "array([['2022-01-01', '19'],\n",
       "       ['2022-01-02', '25'],\n",
       "       ['2022-01-03', '74'],\n",
       "       ['2022-01-04', '38'],\n",
       "       ['2022-01-05', '39']], dtype='<U28')"
      ]
     },
     "metadata": {},
     "output_type": "display_data"
    },
    {
     "name": "stdout",
     "output_type": "stream",
     "text": [
      "------------------------------\n",
      "Tail : 5 Records\n",
      "------------------------------\n"
     ]
    },
    {
     "data": {
      "text/plain": [
       "array([['2022-02-25', '60'],\n",
       "       ['2022-02-26', '64'],\n",
       "       ['2022-02-27', '44'],\n",
       "       ['2022-02-28', '25'],\n",
       "       ['2022-03-01', '87']], dtype='<U28')"
      ]
     },
     "metadata": {},
     "output_type": "display_data"
    }
   ],
   "source": [
    "data_array = np.vstack((date_values, values)).T\n",
    "print(\"--\"*15)\n",
    "print(\"Head : 5 Records\")\n",
    "print(\"--\"*15)\n",
    "display(data_array[:5])\n",
    "\n",
    "print(\"--\"*15)\n",
    "print(\"Tail : 5 Records\")\n",
    "print(\"--\"*15)\n",
    "display(data_array[55:60])"
   ]
  },
  {
   "cell_type": "markdown",
   "metadata": {},
   "source": [
    "- `Data Frame Creation`"
   ]
  },
  {
   "cell_type": "code",
   "execution_count": 6,
   "metadata": {},
   "outputs": [
    {
     "name": "stdout",
     "output_type": "stream",
     "text": [
      "------------------------------\n",
      "Head : 5 Records\n",
      "------------------------------\n"
     ]
    },
    {
     "data": {
      "text/html": [
       "<div>\n",
       "<style scoped>\n",
       "    .dataframe tbody tr th:only-of-type {\n",
       "        vertical-align: middle;\n",
       "    }\n",
       "\n",
       "    .dataframe tbody tr th {\n",
       "        vertical-align: top;\n",
       "    }\n",
       "\n",
       "    .dataframe thead th {\n",
       "        text-align: right;\n",
       "    }\n",
       "</style>\n",
       "<table border=\"1\" class=\"dataframe\">\n",
       "  <thead>\n",
       "    <tr style=\"text-align: right;\">\n",
       "      <th></th>\n",
       "      <th>Date</th>\n",
       "      <th>Value</th>\n",
       "    </tr>\n",
       "  </thead>\n",
       "  <tbody>\n",
       "    <tr>\n",
       "      <th>0</th>\n",
       "      <td>2022-01-01</td>\n",
       "      <td>19</td>\n",
       "    </tr>\n",
       "    <tr>\n",
       "      <th>1</th>\n",
       "      <td>2022-01-02</td>\n",
       "      <td>25</td>\n",
       "    </tr>\n",
       "    <tr>\n",
       "      <th>2</th>\n",
       "      <td>2022-01-03</td>\n",
       "      <td>74</td>\n",
       "    </tr>\n",
       "    <tr>\n",
       "      <th>3</th>\n",
       "      <td>2022-01-04</td>\n",
       "      <td>38</td>\n",
       "    </tr>\n",
       "    <tr>\n",
       "      <th>4</th>\n",
       "      <td>2022-01-05</td>\n",
       "      <td>39</td>\n",
       "    </tr>\n",
       "  </tbody>\n",
       "</table>\n",
       "</div>"
      ],
      "text/plain": [
       "        Date  Value\n",
       "0 2022-01-01     19\n",
       "1 2022-01-02     25\n",
       "2 2022-01-03     74\n",
       "3 2022-01-04     38\n",
       "4 2022-01-05     39"
      ]
     },
     "metadata": {},
     "output_type": "display_data"
    },
    {
     "name": "stdout",
     "output_type": "stream",
     "text": [
      "------------------------------\n",
      "Tail : 5 Records\n",
      "------------------------------\n"
     ]
    },
    {
     "data": {
      "text/html": [
       "<div>\n",
       "<style scoped>\n",
       "    .dataframe tbody tr th:only-of-type {\n",
       "        vertical-align: middle;\n",
       "    }\n",
       "\n",
       "    .dataframe tbody tr th {\n",
       "        vertical-align: top;\n",
       "    }\n",
       "\n",
       "    .dataframe thead th {\n",
       "        text-align: right;\n",
       "    }\n",
       "</style>\n",
       "<table border=\"1\" class=\"dataframe\">\n",
       "  <thead>\n",
       "    <tr style=\"text-align: right;\">\n",
       "      <th></th>\n",
       "      <th>Date</th>\n",
       "      <th>Value</th>\n",
       "    </tr>\n",
       "  </thead>\n",
       "  <tbody>\n",
       "    <tr>\n",
       "      <th>55</th>\n",
       "      <td>2022-02-25</td>\n",
       "      <td>60</td>\n",
       "    </tr>\n",
       "    <tr>\n",
       "      <th>56</th>\n",
       "      <td>2022-02-26</td>\n",
       "      <td>64</td>\n",
       "    </tr>\n",
       "    <tr>\n",
       "      <th>57</th>\n",
       "      <td>2022-02-27</td>\n",
       "      <td>44</td>\n",
       "    </tr>\n",
       "    <tr>\n",
       "      <th>58</th>\n",
       "      <td>2022-02-28</td>\n",
       "      <td>25</td>\n",
       "    </tr>\n",
       "    <tr>\n",
       "      <th>59</th>\n",
       "      <td>2022-03-01</td>\n",
       "      <td>87</td>\n",
       "    </tr>\n",
       "  </tbody>\n",
       "</table>\n",
       "</div>"
      ],
      "text/plain": [
       "         Date  Value\n",
       "55 2022-02-25     60\n",
       "56 2022-02-26     64\n",
       "57 2022-02-27     44\n",
       "58 2022-02-28     25\n",
       "59 2022-03-01     87"
      ]
     },
     "metadata": {},
     "output_type": "display_data"
    }
   ],
   "source": [
    "# ##### DataFrame Creation Using 2d Array\n",
    "# df = pd.DataFrame(data=data_array, columns=[\"Date\", \"Values\"])\n",
    "\n",
    "##### DataFrame Creation Using Individual Array\n",
    "df = pd.DataFrame({'Date':pd.Series(date_values.tolist(), dtype='str'),\n",
    "                   'Value':pd.Series(values.tolist(), dtype='int')\n",
    "                   })\n",
    "\n",
    "df[\"Date\"] = df[\"Date\"].apply(lambda x: datetime.datetime.strptime(x, \"%Y-%m-%d\"))\n",
    "\n",
    "print(\"--\"*15)\n",
    "print(\"Head : 5 Records\")\n",
    "print(\"--\"*15)\n",
    "display(df.head(5))\n",
    "\n",
    "print(\"--\"*15)\n",
    "print(\"Tail : 5 Records\")\n",
    "print(\"--\"*15)\n",
    "display(df.tail(5))"
   ]
  },
  {
   "cell_type": "code",
   "execution_count": 7,
   "metadata": {},
   "outputs": [
    {
     "data": {
      "text/html": [
       "<div>\n",
       "<style scoped>\n",
       "    .dataframe tbody tr th:only-of-type {\n",
       "        vertical-align: middle;\n",
       "    }\n",
       "\n",
       "    .dataframe tbody tr th {\n",
       "        vertical-align: top;\n",
       "    }\n",
       "\n",
       "    .dataframe thead th {\n",
       "        text-align: right;\n",
       "    }\n",
       "</style>\n",
       "<table border=\"1\" class=\"dataframe\">\n",
       "  <thead>\n",
       "    <tr style=\"text-align: right;\">\n",
       "      <th></th>\n",
       "      <th>Date</th>\n",
       "      <th>Value</th>\n",
       "    </tr>\n",
       "  </thead>\n",
       "  <tbody>\n",
       "    <tr>\n",
       "      <th>count</th>\n",
       "      <td>60</td>\n",
       "      <td>60.000000</td>\n",
       "    </tr>\n",
       "    <tr>\n",
       "      <th>mean</th>\n",
       "      <td>2022-01-30 12:00:00</td>\n",
       "      <td>46.733333</td>\n",
       "    </tr>\n",
       "    <tr>\n",
       "      <th>min</th>\n",
       "      <td>2022-01-01 00:00:00</td>\n",
       "      <td>10.000000</td>\n",
       "    </tr>\n",
       "    <tr>\n",
       "      <th>25%</th>\n",
       "      <td>2022-01-15 18:00:00</td>\n",
       "      <td>25.000000</td>\n",
       "    </tr>\n",
       "    <tr>\n",
       "      <th>50%</th>\n",
       "      <td>2022-01-30 12:00:00</td>\n",
       "      <td>40.500000</td>\n",
       "    </tr>\n",
       "    <tr>\n",
       "      <th>75%</th>\n",
       "      <td>2022-02-14 06:00:00</td>\n",
       "      <td>64.750000</td>\n",
       "    </tr>\n",
       "    <tr>\n",
       "      <th>max</th>\n",
       "      <td>2022-03-01 00:00:00</td>\n",
       "      <td>88.000000</td>\n",
       "    </tr>\n",
       "    <tr>\n",
       "      <th>std</th>\n",
       "      <td>NaN</td>\n",
       "      <td>23.991430</td>\n",
       "    </tr>\n",
       "  </tbody>\n",
       "</table>\n",
       "</div>"
      ],
      "text/plain": [
       "                      Date      Value\n",
       "count                   60  60.000000\n",
       "mean   2022-01-30 12:00:00  46.733333\n",
       "min    2022-01-01 00:00:00  10.000000\n",
       "25%    2022-01-15 18:00:00  25.000000\n",
       "50%    2022-01-30 12:00:00  40.500000\n",
       "75%    2022-02-14 06:00:00  64.750000\n",
       "max    2022-03-01 00:00:00  88.000000\n",
       "std                    NaN  23.991430"
      ]
     },
     "metadata": {},
     "output_type": "display_data"
    },
    {
     "name": "stdout",
     "output_type": "stream",
     "text": [
      "<class 'pandas.core.frame.DataFrame'>\n",
      "RangeIndex: 60 entries, 0 to 59\n",
      "Data columns (total 2 columns):\n",
      " #   Column  Non-Null Count  Dtype         \n",
      "---  ------  --------------  -----         \n",
      " 0   Date    60 non-null     datetime64[ns]\n",
      " 1   Value   60 non-null     int64         \n",
      "dtypes: datetime64[ns](1), int64(1)\n",
      "memory usage: 1.1 KB\n"
     ]
    },
    {
     "data": {
      "text/plain": [
       "None"
      ]
     },
     "metadata": {},
     "output_type": "display_data"
    }
   ],
   "source": [
    "##### Data Frame Stats\n",
    "display(df.describe())\n",
    "\n",
    "##### Data Frame Info\n",
    "display(df.info())"
   ]
  },
  {
   "cell_type": "markdown",
   "metadata": {},
   "source": [
    "- `Lag's Creation`"
   ]
  },
  {
   "cell_type": "code",
   "execution_count": 8,
   "metadata": {},
   "outputs": [
    {
     "name": "stdout",
     "output_type": "stream",
     "text": [
      "------------------------------\n",
      "Head : 5 Records\n",
      "------------------------------\n"
     ]
    },
    {
     "data": {
      "text/html": [
       "<div>\n",
       "<style scoped>\n",
       "    .dataframe tbody tr th:only-of-type {\n",
       "        vertical-align: middle;\n",
       "    }\n",
       "\n",
       "    .dataframe tbody tr th {\n",
       "        vertical-align: top;\n",
       "    }\n",
       "\n",
       "    .dataframe thead th {\n",
       "        text-align: right;\n",
       "    }\n",
       "</style>\n",
       "<table border=\"1\" class=\"dataframe\">\n",
       "  <thead>\n",
       "    <tr style=\"text-align: right;\">\n",
       "      <th></th>\n",
       "      <th>Date</th>\n",
       "      <th>Value</th>\n",
       "      <th>Lag_1</th>\n",
       "      <th>Lag_2</th>\n",
       "      <th>Lag_3</th>\n",
       "    </tr>\n",
       "  </thead>\n",
       "  <tbody>\n",
       "    <tr>\n",
       "      <th>0</th>\n",
       "      <td>2022-01-01</td>\n",
       "      <td>19</td>\n",
       "      <td>NaN</td>\n",
       "      <td>NaN</td>\n",
       "      <td>NaN</td>\n",
       "    </tr>\n",
       "    <tr>\n",
       "      <th>1</th>\n",
       "      <td>2022-01-02</td>\n",
       "      <td>25</td>\n",
       "      <td>19.0</td>\n",
       "      <td>NaN</td>\n",
       "      <td>NaN</td>\n",
       "    </tr>\n",
       "    <tr>\n",
       "      <th>2</th>\n",
       "      <td>2022-01-03</td>\n",
       "      <td>74</td>\n",
       "      <td>25.0</td>\n",
       "      <td>19.0</td>\n",
       "      <td>NaN</td>\n",
       "    </tr>\n",
       "    <tr>\n",
       "      <th>3</th>\n",
       "      <td>2022-01-04</td>\n",
       "      <td>38</td>\n",
       "      <td>74.0</td>\n",
       "      <td>25.0</td>\n",
       "      <td>19.0</td>\n",
       "    </tr>\n",
       "    <tr>\n",
       "      <th>4</th>\n",
       "      <td>2022-01-05</td>\n",
       "      <td>39</td>\n",
       "      <td>38.0</td>\n",
       "      <td>74.0</td>\n",
       "      <td>25.0</td>\n",
       "    </tr>\n",
       "  </tbody>\n",
       "</table>\n",
       "</div>"
      ],
      "text/plain": [
       "        Date  Value  Lag_1  Lag_2  Lag_3\n",
       "0 2022-01-01     19    NaN    NaN    NaN\n",
       "1 2022-01-02     25   19.0    NaN    NaN\n",
       "2 2022-01-03     74   25.0   19.0    NaN\n",
       "3 2022-01-04     38   74.0   25.0   19.0\n",
       "4 2022-01-05     39   38.0   74.0   25.0"
      ]
     },
     "metadata": {},
     "output_type": "display_data"
    },
    {
     "name": "stdout",
     "output_type": "stream",
     "text": [
      "------------------------------\n",
      "Tail : 5 Records\n",
      "------------------------------\n"
     ]
    },
    {
     "data": {
      "text/html": [
       "<div>\n",
       "<style scoped>\n",
       "    .dataframe tbody tr th:only-of-type {\n",
       "        vertical-align: middle;\n",
       "    }\n",
       "\n",
       "    .dataframe tbody tr th {\n",
       "        vertical-align: top;\n",
       "    }\n",
       "\n",
       "    .dataframe thead th {\n",
       "        text-align: right;\n",
       "    }\n",
       "</style>\n",
       "<table border=\"1\" class=\"dataframe\">\n",
       "  <thead>\n",
       "    <tr style=\"text-align: right;\">\n",
       "      <th></th>\n",
       "      <th>Date</th>\n",
       "      <th>Value</th>\n",
       "      <th>Lag_1</th>\n",
       "      <th>Lag_2</th>\n",
       "      <th>Lag_3</th>\n",
       "    </tr>\n",
       "  </thead>\n",
       "  <tbody>\n",
       "    <tr>\n",
       "      <th>55</th>\n",
       "      <td>2022-02-25</td>\n",
       "      <td>60</td>\n",
       "      <td>81.0</td>\n",
       "      <td>14.0</td>\n",
       "      <td>15.0</td>\n",
       "    </tr>\n",
       "    <tr>\n",
       "      <th>56</th>\n",
       "      <td>2022-02-26</td>\n",
       "      <td>64</td>\n",
       "      <td>60.0</td>\n",
       "      <td>81.0</td>\n",
       "      <td>14.0</td>\n",
       "    </tr>\n",
       "    <tr>\n",
       "      <th>57</th>\n",
       "      <td>2022-02-27</td>\n",
       "      <td>44</td>\n",
       "      <td>64.0</td>\n",
       "      <td>60.0</td>\n",
       "      <td>81.0</td>\n",
       "    </tr>\n",
       "    <tr>\n",
       "      <th>58</th>\n",
       "      <td>2022-02-28</td>\n",
       "      <td>25</td>\n",
       "      <td>44.0</td>\n",
       "      <td>64.0</td>\n",
       "      <td>60.0</td>\n",
       "    </tr>\n",
       "    <tr>\n",
       "      <th>59</th>\n",
       "      <td>2022-03-01</td>\n",
       "      <td>87</td>\n",
       "      <td>25.0</td>\n",
       "      <td>44.0</td>\n",
       "      <td>64.0</td>\n",
       "    </tr>\n",
       "  </tbody>\n",
       "</table>\n",
       "</div>"
      ],
      "text/plain": [
       "         Date  Value  Lag_1  Lag_2  Lag_3\n",
       "55 2022-02-25     60   81.0   14.0   15.0\n",
       "56 2022-02-26     64   60.0   81.0   14.0\n",
       "57 2022-02-27     44   64.0   60.0   81.0\n",
       "58 2022-02-28     25   44.0   64.0   60.0\n",
       "59 2022-03-01     87   25.0   44.0   64.0"
      ]
     },
     "metadata": {},
     "output_type": "display_data"
    }
   ],
   "source": [
    "df[\"Lag_1\"] = df.Value.shift(1)\n",
    "df[\"Lag_2\"] = df.Value.shift(2)\n",
    "df[\"Lag_3\"] = df.Value.shift(3)\n",
    "\n",
    "print(\"--\"*15)\n",
    "print(\"Head : 5 Records\")\n",
    "print(\"--\"*15)\n",
    "display(df.head(5))\n",
    "\n",
    "print(\"--\"*15)\n",
    "print(\"Tail : 5 Records\")\n",
    "print(\"--\"*15)\n",
    "display(df.tail(5))"
   ]
  },
  {
   "cell_type": "markdown",
   "metadata": {},
   "source": [
    "- `Moving Average Creation`"
   ]
  },
  {
   "cell_type": "code",
   "execution_count": 9,
   "metadata": {},
   "outputs": [
    {
     "name": "stdout",
     "output_type": "stream",
     "text": [
      "------------------------------\n",
      "Head : 5 Records\n",
      "------------------------------\n"
     ]
    },
    {
     "data": {
      "text/html": [
       "<div>\n",
       "<style scoped>\n",
       "    .dataframe tbody tr th:only-of-type {\n",
       "        vertical-align: middle;\n",
       "    }\n",
       "\n",
       "    .dataframe tbody tr th {\n",
       "        vertical-align: top;\n",
       "    }\n",
       "\n",
       "    .dataframe thead th {\n",
       "        text-align: right;\n",
       "    }\n",
       "</style>\n",
       "<table border=\"1\" class=\"dataframe\">\n",
       "  <thead>\n",
       "    <tr style=\"text-align: right;\">\n",
       "      <th></th>\n",
       "      <th>Date</th>\n",
       "      <th>Value</th>\n",
       "      <th>Lag_1</th>\n",
       "      <th>Lag_2</th>\n",
       "      <th>Lag_3</th>\n",
       "    </tr>\n",
       "    <tr>\n",
       "      <th>Date</th>\n",
       "      <th></th>\n",
       "      <th></th>\n",
       "      <th></th>\n",
       "      <th></th>\n",
       "      <th></th>\n",
       "    </tr>\n",
       "  </thead>\n",
       "  <tbody>\n",
       "    <tr>\n",
       "      <th>2022-01-01</th>\n",
       "      <td>2022-01-01</td>\n",
       "      <td>19</td>\n",
       "      <td>NaN</td>\n",
       "      <td>NaN</td>\n",
       "      <td>NaN</td>\n",
       "    </tr>\n",
       "    <tr>\n",
       "      <th>2022-01-02</th>\n",
       "      <td>2022-01-02</td>\n",
       "      <td>25</td>\n",
       "      <td>19.0</td>\n",
       "      <td>NaN</td>\n",
       "      <td>NaN</td>\n",
       "    </tr>\n",
       "    <tr>\n",
       "      <th>2022-01-03</th>\n",
       "      <td>2022-01-03</td>\n",
       "      <td>74</td>\n",
       "      <td>25.0</td>\n",
       "      <td>19.0</td>\n",
       "      <td>NaN</td>\n",
       "    </tr>\n",
       "    <tr>\n",
       "      <th>2022-01-04</th>\n",
       "      <td>2022-01-04</td>\n",
       "      <td>38</td>\n",
       "      <td>74.0</td>\n",
       "      <td>25.0</td>\n",
       "      <td>19.0</td>\n",
       "    </tr>\n",
       "    <tr>\n",
       "      <th>2022-01-05</th>\n",
       "      <td>2022-01-05</td>\n",
       "      <td>39</td>\n",
       "      <td>38.0</td>\n",
       "      <td>74.0</td>\n",
       "      <td>25.0</td>\n",
       "    </tr>\n",
       "  </tbody>\n",
       "</table>\n",
       "</div>"
      ],
      "text/plain": [
       "                 Date  Value  Lag_1  Lag_2  Lag_3\n",
       "Date                                             \n",
       "2022-01-01 2022-01-01     19    NaN    NaN    NaN\n",
       "2022-01-02 2022-01-02     25   19.0    NaN    NaN\n",
       "2022-01-03 2022-01-03     74   25.0   19.0    NaN\n",
       "2022-01-04 2022-01-04     38   74.0   25.0   19.0\n",
       "2022-01-05 2022-01-05     39   38.0   74.0   25.0"
      ]
     },
     "metadata": {},
     "output_type": "display_data"
    },
    {
     "name": "stdout",
     "output_type": "stream",
     "text": [
      "------------------------------\n",
      "Tail : 5 Records\n",
      "------------------------------\n"
     ]
    },
    {
     "data": {
      "text/html": [
       "<div>\n",
       "<style scoped>\n",
       "    .dataframe tbody tr th:only-of-type {\n",
       "        vertical-align: middle;\n",
       "    }\n",
       "\n",
       "    .dataframe tbody tr th {\n",
       "        vertical-align: top;\n",
       "    }\n",
       "\n",
       "    .dataframe thead th {\n",
       "        text-align: right;\n",
       "    }\n",
       "</style>\n",
       "<table border=\"1\" class=\"dataframe\">\n",
       "  <thead>\n",
       "    <tr style=\"text-align: right;\">\n",
       "      <th></th>\n",
       "      <th>Date</th>\n",
       "      <th>Value</th>\n",
       "      <th>Lag_1</th>\n",
       "      <th>Lag_2</th>\n",
       "      <th>Lag_3</th>\n",
       "    </tr>\n",
       "    <tr>\n",
       "      <th>Date</th>\n",
       "      <th></th>\n",
       "      <th></th>\n",
       "      <th></th>\n",
       "      <th></th>\n",
       "      <th></th>\n",
       "    </tr>\n",
       "  </thead>\n",
       "  <tbody>\n",
       "    <tr>\n",
       "      <th>2022-02-25</th>\n",
       "      <td>2022-02-25</td>\n",
       "      <td>60</td>\n",
       "      <td>81.0</td>\n",
       "      <td>14.0</td>\n",
       "      <td>15.0</td>\n",
       "    </tr>\n",
       "    <tr>\n",
       "      <th>2022-02-26</th>\n",
       "      <td>2022-02-26</td>\n",
       "      <td>64</td>\n",
       "      <td>60.0</td>\n",
       "      <td>81.0</td>\n",
       "      <td>14.0</td>\n",
       "    </tr>\n",
       "    <tr>\n",
       "      <th>2022-02-27</th>\n",
       "      <td>2022-02-27</td>\n",
       "      <td>44</td>\n",
       "      <td>64.0</td>\n",
       "      <td>60.0</td>\n",
       "      <td>81.0</td>\n",
       "    </tr>\n",
       "    <tr>\n",
       "      <th>2022-02-28</th>\n",
       "      <td>2022-02-28</td>\n",
       "      <td>25</td>\n",
       "      <td>44.0</td>\n",
       "      <td>64.0</td>\n",
       "      <td>60.0</td>\n",
       "    </tr>\n",
       "    <tr>\n",
       "      <th>2022-03-01</th>\n",
       "      <td>2022-03-01</td>\n",
       "      <td>87</td>\n",
       "      <td>25.0</td>\n",
       "      <td>44.0</td>\n",
       "      <td>64.0</td>\n",
       "    </tr>\n",
       "  </tbody>\n",
       "</table>\n",
       "</div>"
      ],
      "text/plain": [
       "                 Date  Value  Lag_1  Lag_2  Lag_3\n",
       "Date                                             \n",
       "2022-02-25 2022-02-25     60   81.0   14.0   15.0\n",
       "2022-02-26 2022-02-26     64   60.0   81.0   14.0\n",
       "2022-02-27 2022-02-27     44   64.0   60.0   81.0\n",
       "2022-02-28 2022-02-28     25   44.0   64.0   60.0\n",
       "2022-03-01 2022-03-01     87   25.0   44.0   64.0"
      ]
     },
     "metadata": {},
     "output_type": "display_data"
    }
   ],
   "source": [
    "df_1 = df.copy(deep=True)\n",
    "df_1.index = df_1.Date\n",
    "\n",
    "print(\"--\"*15)\n",
    "print(\"Head : 5 Records\")\n",
    "print(\"--\"*15)\n",
    "display(df_1.head(5))\n",
    "\n",
    "print(\"--\"*15)\n",
    "print(\"Tail : 5 Records\")\n",
    "print(\"--\"*15)\n",
    "display(df_1.tail(5))"
   ]
  },
  {
   "cell_type": "markdown",
   "metadata": {},
   "source": [
    "- `Moving Average Smoothing`"
   ]
  },
  {
   "cell_type": "code",
   "execution_count": 10,
   "metadata": {},
   "outputs": [
    {
     "name": "stdout",
     "output_type": "stream",
     "text": [
      "--------------------\n",
      "Original\n",
      "--------------------\n"
     ]
    },
    {
     "data": {
      "text/plain": [
       "Date\n",
       "2022-01-01    19\n",
       "2022-01-02    25\n",
       "2022-01-03    74\n",
       "2022-01-04    38\n",
       "2022-01-05    39\n",
       "Name: Value, dtype: int64"
      ]
     },
     "metadata": {},
     "output_type": "display_data"
    },
    {
     "name": "stdout",
     "output_type": "stream",
     "text": [
      "--------------------\n",
      "Moving Average - Rolling Window(2)\n",
      "--------------------\n"
     ]
    },
    {
     "data": {
      "text/plain": [
       "Date\n",
       "2022-01-01          NaN\n",
       "2022-01-02    22.000000\n",
       "2022-01-03    39.333333\n",
       "2022-01-04    45.666667\n",
       "2022-01-05    50.333333\n",
       "Name: Value, dtype: float64"
      ]
     },
     "metadata": {},
     "output_type": "display_data"
    },
    {
     "name": "stdout",
     "output_type": "stream",
     "text": [
      "--------------------\n",
      "Moving Average - Rolling Window(3)\n",
      "--------------------\n"
     ]
    },
    {
     "data": {
      "text/plain": [
       "Date\n",
       "2022-01-01          NaN\n",
       "2022-01-02    39.333333\n",
       "2022-01-03    39.000000\n",
       "2022-01-04    44.000000\n",
       "2022-01-05    42.250000\n",
       "Name: Value, dtype: float64"
      ]
     },
     "metadata": {},
     "output_type": "display_data"
    }
   ],
   "source": [
    "##### Moving Average - Rolling Window(2)\n",
    "df_ma_2 = df_1.Value.rolling(2, center=True, closed=\"both\").mean()\n",
    "##### Moving Average - Rolling Window(3)\n",
    "df_ma_3 = df_1.Value.rolling(3, center=True, closed=\"both\").mean()\n",
    "\n",
    "print(\"--\"*10)\n",
    "print(\"Original\")\n",
    "print(\"--\"*10)\n",
    "display(df_1.Value[:5])\n",
    "print(\"--\"*10)\n",
    "print(\"Moving Average - Rolling Window(2)\")\n",
    "print(\"--\"*10)\n",
    "display(df_ma_2[:5])\n",
    "print(\"--\"*10)\n",
    "print(\"Moving Average - Rolling Window(3)\")\n",
    "print(\"--\"*10)\n",
    "display(df_ma_3[:5])"
   ]
  },
  {
   "cell_type": "markdown",
   "metadata": {},
   "source": [
    "- `Find Positive Peaks(> Peak Threshold)`"
   ]
  },
  {
   "cell_type": "code",
   "execution_count": 11,
   "metadata": {},
   "outputs": [
    {
     "data": {
      "text/html": [
       "<div>\n",
       "<style scoped>\n",
       "    .dataframe tbody tr th:only-of-type {\n",
       "        vertical-align: middle;\n",
       "    }\n",
       "\n",
       "    .dataframe tbody tr th {\n",
       "        vertical-align: top;\n",
       "    }\n",
       "\n",
       "    .dataframe thead th {\n",
       "        text-align: right;\n",
       "    }\n",
       "</style>\n",
       "<table border=\"1\" class=\"dataframe\">\n",
       "  <thead>\n",
       "    <tr style=\"text-align: right;\">\n",
       "      <th></th>\n",
       "      <th>Date</th>\n",
       "      <th>Value</th>\n",
       "    </tr>\n",
       "    <tr>\n",
       "      <th>Date</th>\n",
       "      <th></th>\n",
       "      <th></th>\n",
       "    </tr>\n",
       "  </thead>\n",
       "  <tbody>\n",
       "    <tr>\n",
       "      <th>2022-01-05</th>\n",
       "      <td>2022-01-05</td>\n",
       "      <td>50.333333</td>\n",
       "    </tr>\n",
       "    <tr>\n",
       "      <th>2022-01-07</th>\n",
       "      <td>2022-01-07</td>\n",
       "      <td>46.666667</td>\n",
       "    </tr>\n",
       "    <tr>\n",
       "      <th>2022-01-09</th>\n",
       "      <td>2022-01-09</td>\n",
       "      <td>47.666667</td>\n",
       "    </tr>\n",
       "    <tr>\n",
       "      <th>2022-01-11</th>\n",
       "      <td>2022-01-11</td>\n",
       "      <td>40.666667</td>\n",
       "    </tr>\n",
       "    <tr>\n",
       "      <th>2022-01-18</th>\n",
       "      <td>2022-01-18</td>\n",
       "      <td>76.333333</td>\n",
       "    </tr>\n",
       "  </tbody>\n",
       "</table>\n",
       "</div>"
      ],
      "text/plain": [
       "                 Date      Value\n",
       "Date                            \n",
       "2022-01-05 2022-01-05  50.333333\n",
       "2022-01-07 2022-01-07  46.666667\n",
       "2022-01-09 2022-01-09  47.666667\n",
       "2022-01-11 2022-01-11  40.666667\n",
       "2022-01-18 2022-01-18  76.333333"
      ]
     },
     "metadata": {},
     "output_type": "display_data"
    },
    {
     "data": {
      "text/html": [
       "<div>\n",
       "<style scoped>\n",
       "    .dataframe tbody tr th:only-of-type {\n",
       "        vertical-align: middle;\n",
       "    }\n",
       "\n",
       "    .dataframe tbody tr th {\n",
       "        vertical-align: top;\n",
       "    }\n",
       "\n",
       "    .dataframe thead th {\n",
       "        text-align: right;\n",
       "    }\n",
       "</style>\n",
       "<table border=\"1\" class=\"dataframe\">\n",
       "  <thead>\n",
       "    <tr style=\"text-align: right;\">\n",
       "      <th></th>\n",
       "      <th>Date</th>\n",
       "      <th>Value</th>\n",
       "    </tr>\n",
       "    <tr>\n",
       "      <th>Date</th>\n",
       "      <th></th>\n",
       "      <th></th>\n",
       "    </tr>\n",
       "  </thead>\n",
       "  <tbody>\n",
       "    <tr>\n",
       "      <th>2022-01-04</th>\n",
       "      <td>2022-01-04</td>\n",
       "      <td>44.00</td>\n",
       "    </tr>\n",
       "    <tr>\n",
       "      <th>2022-01-06</th>\n",
       "      <td>2022-01-06</td>\n",
       "      <td>44.50</td>\n",
       "    </tr>\n",
       "    <tr>\n",
       "      <th>2022-01-09</th>\n",
       "      <td>2022-01-09</td>\n",
       "      <td>47.25</td>\n",
       "    </tr>\n",
       "    <tr>\n",
       "      <th>2022-01-16</th>\n",
       "      <td>2022-01-16</td>\n",
       "      <td>71.25</td>\n",
       "    </tr>\n",
       "    <tr>\n",
       "      <th>2022-01-18</th>\n",
       "      <td>2022-01-18</td>\n",
       "      <td>72.50</td>\n",
       "    </tr>\n",
       "  </tbody>\n",
       "</table>\n",
       "</div>"
      ],
      "text/plain": [
       "                 Date  Value\n",
       "Date                        \n",
       "2022-01-04 2022-01-04  44.00\n",
       "2022-01-06 2022-01-06  44.50\n",
       "2022-01-09 2022-01-09  47.25\n",
       "2022-01-16 2022-01-16  71.25\n",
       "2022-01-18 2022-01-18  72.50"
      ]
     },
     "metadata": {},
     "output_type": "display_data"
    }
   ],
   "source": [
    "peak_threshold = 20\n",
    "##### Find Peaks i.e., > 20 (In MA - [Rolling Window - 2] data)\n",
    "peaks = find_peaks(df_ma_2, prominence=1)# With Hyperparameter finds best reasonable peaks in data\n",
    "df_ma_2_temp = df_ma_2.copy(deep=True).reset_index()\n",
    "df_ma_2_peaks = df_ma_2_temp.iloc[peaks[0], :].loc[df_ma_2_temp.Value > peak_threshold,:]\n",
    "df_ma_2_peaks.index = df_ma_2_peaks.Date\n",
    "display(df_ma_2_peaks[:5])\n",
    "\n",
    "##### Find Peaks i.e., > 20 (In MA - [Rolling Window - 3] data)\n",
    "peaks = find_peaks(df_ma_3, prominence=1)# With Hyperparameter finds best reasonable peaks in data\n",
    "df_ma_3_temp = df_ma_3.copy(deep=True).reset_index()\n",
    "df_ma_3_peaks = df_ma_3_temp.iloc[peaks[0], :].loc[df_ma_3_temp.Value > peak_threshold,:]\n",
    "df_ma_3_peaks.index = df_ma_3_peaks.Date\n",
    "display(df_ma_3_peaks[:5])"
   ]
  },
  {
   "cell_type": "code",
   "execution_count": 12,
   "metadata": {},
   "outputs": [
    {
     "data": {
      "image/png": "[encoded data removed]",
      "text/plain": [
       "<Figure size 1000x600 with 3 Axes>"
      ]
     },
     "metadata": {},
     "output_type": "display_data"
    }
   ],
   "source": [
    "##### Plotting\n",
    "# plt.style.use(\"seaborn-paper\")\n",
    "\n",
    "fig, axes = plt.subplots(3, 1, figsize=(10, 6), sharex=True, dpi=100)\n",
    "\n",
    "df_1.Value.plot(ax=axes[0], color=\"gray\", title=\"Original Series\")\n",
    "df_ma_2.plot(ax=axes[1], color=\"steelblue\", title=\"Moving Average - Rolling Window(2)\", label=\"MA - 2\")\n",
    "axes[1].scatter(df_ma_2_peaks.index, df_ma_2_peaks[\"Value\"], marker=\"o\", color=\"red\", label=\"Peak\")\n",
    "axes[1].legend(bbox_to_anchor=(1, 1.2), fancybox=True, shadow=True, ncol=5, loc=\"upper right\", prop={\"size\":7})\n",
    "\n",
    "df_ma_3.plot(ax=axes[2], color=\"steelblue\", title=\"Moving Average - Rolling Window(3)\", label=\"MA - 3\")\n",
    "axes[2].scatter(df_ma_3_peaks.index, df_ma_3_peaks[\"Value\"], marker=\"o\", color=\"red\", label=\"Peak\")\n",
    "axes[2].legend(bbox_to_anchor=(1, 1.2), fancybox=True, shadow=True, ncol=5, loc=\"upper right\", prop={\"size\":7})\n",
    "\n",
    "fig.suptitle(\"Time Series Smoothing\", y=1.05, fontsize=12)\n",
    "\n",
    "\n",
    "plt.tight_layout()\n",
    "plt.show()"
   ]
  },
  {
   "cell_type": "markdown",
   "metadata": {},
   "source": [
    "- `Loess Smoothing`"
   ]
  },
  {
   "cell_type": "code",
   "execution_count": 13,
   "metadata": {},
   "outputs": [
    {
     "name": "stdout",
     "output_type": "stream",
     "text": [
      "--------------------\n",
      "Original\n",
      "--------------------\n"
     ]
    },
    {
     "data": {
      "text/plain": [
       "Date\n",
       "2022-01-01    19\n",
       "2022-01-02    25\n",
       "2022-01-03    74\n",
       "2022-01-04    38\n",
       "2022-01-05    39\n",
       "Name: Value, dtype: int64"
      ]
     },
     "metadata": {},
     "output_type": "display_data"
    },
    {
     "name": "stdout",
     "output_type": "stream",
     "text": [
      "--------------------\n",
      "Loess Smoothed 6%\n",
      "--------------------\n"
     ]
    },
    {
     "data": {
      "text/html": [
       "<div>\n",
       "<style scoped>\n",
       "    .dataframe tbody tr th:only-of-type {\n",
       "        vertical-align: middle;\n",
       "    }\n",
       "\n",
       "    .dataframe tbody tr th {\n",
       "        vertical-align: top;\n",
       "    }\n",
       "\n",
       "    .dataframe thead th {\n",
       "        text-align: right;\n",
       "    }\n",
       "</style>\n",
       "<table border=\"1\" class=\"dataframe\">\n",
       "  <thead>\n",
       "    <tr style=\"text-align: right;\">\n",
       "      <th></th>\n",
       "      <th>Value</th>\n",
       "    </tr>\n",
       "    <tr>\n",
       "      <th>Date</th>\n",
       "      <th></th>\n",
       "    </tr>\n",
       "  </thead>\n",
       "  <tbody>\n",
       "    <tr>\n",
       "      <th>2022-01-01</th>\n",
       "      <td>19.0</td>\n",
       "    </tr>\n",
       "    <tr>\n",
       "      <th>2022-01-02</th>\n",
       "      <td>25.0</td>\n",
       "    </tr>\n",
       "    <tr>\n",
       "      <th>2022-01-03</th>\n",
       "      <td>74.0</td>\n",
       "    </tr>\n",
       "    <tr>\n",
       "      <th>2022-01-04</th>\n",
       "      <td>38.0</td>\n",
       "    </tr>\n",
       "    <tr>\n",
       "      <th>2022-01-05</th>\n",
       "      <td>39.0</td>\n",
       "    </tr>\n",
       "  </tbody>\n",
       "</table>\n",
       "</div>"
      ],
      "text/plain": [
       "            Value\n",
       "Date             \n",
       "2022-01-01   19.0\n",
       "2022-01-02   25.0\n",
       "2022-01-03   74.0\n",
       "2022-01-04   38.0\n",
       "2022-01-05   39.0"
      ]
     },
     "metadata": {},
     "output_type": "display_data"
    },
    {
     "name": "stdout",
     "output_type": "stream",
     "text": [
      "--------------------\n",
      "Loess Smoothed 10%\n",
      "--------------------\n"
     ]
    },
    {
     "data": {
      "text/html": [
       "<div>\n",
       "<style scoped>\n",
       "    .dataframe tbody tr th:only-of-type {\n",
       "        vertical-align: middle;\n",
       "    }\n",
       "\n",
       "    .dataframe tbody tr th {\n",
       "        vertical-align: top;\n",
       "    }\n",
       "\n",
       "    .dataframe thead th {\n",
       "        text-align: right;\n",
       "    }\n",
       "</style>\n",
       "<table border=\"1\" class=\"dataframe\">\n",
       "  <thead>\n",
       "    <tr style=\"text-align: right;\">\n",
       "      <th></th>\n",
       "      <th>Value</th>\n",
       "    </tr>\n",
       "    <tr>\n",
       "      <th>Date</th>\n",
       "      <th></th>\n",
       "    </tr>\n",
       "  </thead>\n",
       "  <tbody>\n",
       "    <tr>\n",
       "      <th>2022-01-01</th>\n",
       "      <td>21.620436</td>\n",
       "    </tr>\n",
       "    <tr>\n",
       "      <th>2022-01-02</th>\n",
       "      <td>31.695587</td>\n",
       "    </tr>\n",
       "    <tr>\n",
       "      <th>2022-01-03</th>\n",
       "      <td>39.959632</td>\n",
       "    </tr>\n",
       "    <tr>\n",
       "      <th>2022-01-04</th>\n",
       "      <td>42.131760</td>\n",
       "    </tr>\n",
       "    <tr>\n",
       "      <th>2022-01-05</th>\n",
       "      <td>37.116036</td>\n",
       "    </tr>\n",
       "  </tbody>\n",
       "</table>\n",
       "</div>"
      ],
      "text/plain": [
       "                Value\n",
       "Date                 \n",
       "2022-01-01  21.620436\n",
       "2022-01-02  31.695587\n",
       "2022-01-03  39.959632\n",
       "2022-01-04  42.131760\n",
       "2022-01-05  37.116036"
      ]
     },
     "metadata": {},
     "output_type": "display_data"
    }
   ],
   "source": [
    "##### Loess - 6% percentage\n",
    "df_loess_6 = pd.DataFrame(lowess(df_1.Value, np.arange(len(df_1.Value)), frac=0.06)[:, 1], index=df_1.index, columns=[\"Value\"])\n",
    "##### Loess - 10% percentage\n",
    "df_loess_10 = pd.DataFrame(lowess(df_1.Value, np.arange(len(df_1.Value)), frac=0.1)[:, 1], index=df_1.index, columns=[\"Value\"])\n",
    "\n",
    "print(\"--\"*10)\n",
    "print(\"Original\")\n",
    "print(\"--\"*10)\n",
    "display(df_1.Value[:5])\n",
    "print(\"--\"*10)\n",
    "print(\"Loess Smoothed 6%\")\n",
    "print(\"--\"*10)\n",
    "display(df_loess_6[:5])\n",
    "print(\"--\"*10)\n",
    "print(\"Loess Smoothed 10%\")\n",
    "print(\"--\"*10)\n",
    "display(df_loess_10[:5])"
   ]
  },
  {
   "cell_type": "markdown",
   "metadata": {},
   "source": [
    "- `Find Positive Peaks(> Peak Threshold)`"
   ]
  },
  {
   "cell_type": "code",
   "execution_count": 14,
   "metadata": {},
   "outputs": [
    {
     "data": {
      "text/html": [
       "<div>\n",
       "<style scoped>\n",
       "    .dataframe tbody tr th:only-of-type {\n",
       "        vertical-align: middle;\n",
       "    }\n",
       "\n",
       "    .dataframe tbody tr th {\n",
       "        vertical-align: top;\n",
       "    }\n",
       "\n",
       "    .dataframe thead th {\n",
       "        text-align: right;\n",
       "    }\n",
       "</style>\n",
       "<table border=\"1\" class=\"dataframe\">\n",
       "  <thead>\n",
       "    <tr style=\"text-align: right;\">\n",
       "      <th></th>\n",
       "      <th>Date</th>\n",
       "      <th>Value</th>\n",
       "    </tr>\n",
       "    <tr>\n",
       "      <th>Date</th>\n",
       "      <th></th>\n",
       "      <th></th>\n",
       "    </tr>\n",
       "  </thead>\n",
       "  <tbody>\n",
       "    <tr>\n",
       "      <th>2022-01-03</th>\n",
       "      <td>2022-01-03</td>\n",
       "      <td>74.0</td>\n",
       "    </tr>\n",
       "    <tr>\n",
       "      <th>2022-01-05</th>\n",
       "      <td>2022-01-05</td>\n",
       "      <td>39.0</td>\n",
       "    </tr>\n",
       "    <tr>\n",
       "      <th>2022-01-07</th>\n",
       "      <td>2022-01-07</td>\n",
       "      <td>83.0</td>\n",
       "    </tr>\n",
       "    <tr>\n",
       "      <th>2022-01-09</th>\n",
       "      <td>2022-01-09</td>\n",
       "      <td>50.0</td>\n",
       "    </tr>\n",
       "    <tr>\n",
       "      <th>2022-01-14</th>\n",
       "      <td>2022-01-14</td>\n",
       "      <td>72.0</td>\n",
       "    </tr>\n",
       "  </tbody>\n",
       "</table>\n",
       "</div>"
      ],
      "text/plain": [
       "                 Date  Value\n",
       "Date                        \n",
       "2022-01-03 2022-01-03   74.0\n",
       "2022-01-05 2022-01-05   39.0\n",
       "2022-01-07 2022-01-07   83.0\n",
       "2022-01-09 2022-01-09   50.0\n",
       "2022-01-14 2022-01-14   72.0"
      ]
     },
     "metadata": {},
     "output_type": "display_data"
    },
    {
     "data": {
      "text/html": [
       "<div>\n",
       "<style scoped>\n",
       "    .dataframe tbody tr th:only-of-type {\n",
       "        vertical-align: middle;\n",
       "    }\n",
       "\n",
       "    .dataframe tbody tr th {\n",
       "        vertical-align: top;\n",
       "    }\n",
       "\n",
       "    .dataframe thead th {\n",
       "        text-align: right;\n",
       "    }\n",
       "</style>\n",
       "<table border=\"1\" class=\"dataframe\">\n",
       "  <thead>\n",
       "    <tr style=\"text-align: right;\">\n",
       "      <th></th>\n",
       "      <th>Date</th>\n",
       "      <th>Value</th>\n",
       "    </tr>\n",
       "    <tr>\n",
       "      <th>Date</th>\n",
       "      <th></th>\n",
       "      <th></th>\n",
       "    </tr>\n",
       "  </thead>\n",
       "  <tbody>\n",
       "    <tr>\n",
       "      <th>2022-01-04</th>\n",
       "      <td>2022-01-04</td>\n",
       "      <td>42.131760</td>\n",
       "    </tr>\n",
       "    <tr>\n",
       "      <th>2022-01-09</th>\n",
       "      <td>2022-01-09</td>\n",
       "      <td>38.304722</td>\n",
       "    </tr>\n",
       "    <tr>\n",
       "      <th>2022-01-17</th>\n",
       "      <td>2022-01-17</td>\n",
       "      <td>72.154675</td>\n",
       "    </tr>\n",
       "    <tr>\n",
       "      <th>2022-01-21</th>\n",
       "      <td>2022-01-21</td>\n",
       "      <td>70.192801</td>\n",
       "    </tr>\n",
       "    <tr>\n",
       "      <th>2022-01-30</th>\n",
       "      <td>2022-01-30</td>\n",
       "      <td>54.000980</td>\n",
       "    </tr>\n",
       "  </tbody>\n",
       "</table>\n",
       "</div>"
      ],
      "text/plain": [
       "                 Date      Value\n",
       "Date                            \n",
       "2022-01-04 2022-01-04  42.131760\n",
       "2022-01-09 2022-01-09  38.304722\n",
       "2022-01-17 2022-01-17  72.154675\n",
       "2022-01-21 2022-01-21  70.192801\n",
       "2022-01-30 2022-01-30  54.000980"
      ]
     },
     "metadata": {},
     "output_type": "display_data"
    }
   ],
   "source": [
    "peak_threshold = 20\n",
    "##### Find Peaks i.e., > 20 (In Loess smoothed 6% data)\n",
    "df_loess_6_temp = df_loess_6.copy(deep=True).reset_index()\n",
    "peaks = find_peaks(df_loess_6_temp.Value, prominence=1)# With Hyperparameter finds best reasonable peaks in data\n",
    "df_loess_6_peaks = df_loess_6_temp.iloc[peaks[0], :].loc[df_loess_6_temp.Value > peak_threshold,:]\n",
    "df_loess_6_peaks.index = df_loess_6_peaks.Date\n",
    "display(df_loess_6_peaks[:5])\n",
    "\n",
    "# ##### Find Peaks i.e., > 20 (In Loess smoothed 10% data)\n",
    "df_loess_10_temp = df_loess_10.copy(deep=True).reset_index()\n",
    "peaks = find_peaks(df_loess_10_temp.Value, prominence=1)# With Hyperparameter finds best reasonable peaks in data\n",
    "df_loess_10_peaks = df_loess_10_temp.iloc[peaks[0], :].loc[df_loess_10_temp.Value > peak_threshold,:]\n",
    "df_loess_10_peaks.index = df_loess_10_peaks.Date\n",
    "display(df_loess_10_peaks[:5])"
   ]
  },
  {
   "cell_type": "code",
   "execution_count": 15,
   "metadata": {},
   "outputs": [
    {
     "data": {
      "image/png": "[encoded data removed]",
      "text/plain": [
       "<Figure size 1000x600 with 3 Axes>"
      ]
     },
     "metadata": {},
     "output_type": "display_data"
    }
   ],
   "source": [
    "##### Plotting\n",
    "# plt.style.use(\"seaborn-paper\")\n",
    "\n",
    "fig, axes = plt.subplots(3, 1, figsize=(10, 6), sharex=True, dpi=100)\n",
    "\n",
    "df_1.Value.plot(ax=axes[0], color=\"gray\", title=\"Original Series\")\n",
    "df_loess_6.plot(ax=axes[1], color=\"steelblue\", title=\"Loess Smoothed 6%\", label=\"Loess Smoothed 6%\")\n",
    "axes[1].scatter(df_loess_6_peaks.index, df_loess_6_peaks[\"Value\"], marker=\"o\", color=\"red\", label=\"Peak\")\n",
    "axes[1].legend(bbox_to_anchor=(1, 1.2), fancybox=True, shadow=True, ncol=5, loc=\"upper right\", prop={\"size\":7})\n",
    "\n",
    "df_loess_10.plot(ax=axes[2], color=\"steelblue\", title=\"Loess Smoothed 10%\", label=\"Loess Smoothed 10%\")\n",
    "axes[2].scatter(df_loess_10_peaks.index, df_loess_10_peaks[\"Value\"], marker=\"o\", color=\"red\", label=\"Peak\")\n",
    "axes[2].legend(bbox_to_anchor=(1, 1.2), fancybox=True, shadow=True, ncol=5, loc=\"upper right\", prop={\"size\":7})\n",
    "\n",
    "fig.suptitle(\"Time Series Smoothing\", y=1.05, fontsize=12)\n",
    "\n",
    "plt.tight_layout()\n",
    "plt.show()\n"
   ]
  },
  {
   "cell_type": "markdown",
   "metadata": {},
   "source": [
    "- `Observation`\n",
    "- Loess Smoothing works only, when we give correct data percentage parameter value for smoothing calculation. \n",
    "- But in Moving Average smoothing, we can see time series smoothing happens for every rolling window we select."
   ]
  }
 ],
 "metadata": {
  "kernelspec": {
   "display_name": "datasciencehub--4XkapW8-py3.11",
   "language": "python",
   "name": "python3"
  },
  "language_info": {
   "codemirror_mode": {
    "name": "ipython",
    "version": 3
   },
   "file_extension": ".py",
   "mimetype": "text/x-python",
   "name": "python",
   "nbconvert_exporter": "python",
   "pygments_lexer": "ipython3",
   "version": "3.11.10"
  },
  "orig_nbformat": 4
 },
 "nbformat": 4,
 "nbformat_minor": 2
}
