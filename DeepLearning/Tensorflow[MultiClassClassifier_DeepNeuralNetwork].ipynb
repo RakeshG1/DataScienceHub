{
 "cells": [
  {
   "cell_type": "markdown",
   "metadata": {},
   "source": [
    "### Import Libraries"
   ]
  },
  {
   "cell_type": "code",
   "execution_count": 1,
   "metadata": {},
   "outputs": [],
   "source": [
    "# Basic Python Modules\n",
    "import numpy as np\n",
    "import seaborn as sns\n",
    "import matplotlib.pyplot as plt\n",
    "import warnings\n",
    "\n",
    "# Deep Learning Libraries\n",
    "import tensorflow as tf\n",
    "from tensorflow.python.client import device_lib\n",
    "\n",
    "warnings.filterwarnings(\"ignore\")\n",
    "%matplotlib inline"
   ]
  },
  {
   "cell_type": "markdown",
   "metadata": {},
   "source": [
    "<!--  -->"
   ]
  },
  {
   "cell_type": "markdown",
   "metadata": {},
   "source": [
    "### Tensorflow Configuration Details"
   ]
  },
  {
   "cell_type": "code",
   "execution_count": 2,
   "metadata": {},
   "outputs": [
    {
     "data": {
      "text/plain": [
       "[name: \"/device:CPU:0\"\n",
       " device_type: \"CPU\"\n",
       " memory_limit: 268435456\n",
       " locality {\n",
       " }\n",
       " incarnation: 2611816600455507392\n",
       " xla_global_id: -1]"
      ]
     },
     "execution_count": 2,
     "metadata": {},
     "output_type": "execute_result"
    }
   ],
   "source": [
    "device_lib.list_local_devices()"
   ]
  },
  {
   "cell_type": "markdown",
   "metadata": {},
   "source": [
    "Observation\n",
    "- TF is connected to CPU, because we are installed TF CPU version."
   ]
  },
  {
   "cell_type": "markdown",
   "metadata": {},
   "source": [
    "<!--  -->"
   ]
  },
  {
   "cell_type": "markdown",
   "metadata": {},
   "source": [
    "### Network Parameters"
   ]
  },
  {
   "cell_type": "code",
   "execution_count": 3,
   "metadata": {},
   "outputs": [],
   "source": [
    "n_hidden_layer_1 = 10 # 1st hidden layer's number of neurons\n",
    "n_hidden_layer_2 = 5 # 2nd hidden layer's number of neurons\n",
    "n_input = 784 # MNIST data input (img shape: 28*28)\n",
    "n_output_layer_classes = 10 # MNIST total classes (0-9 digits)"
   ]
  },
  {
   "cell_type": "markdown",
   "metadata": {},
   "source": [
    "<!--  -->"
   ]
  },
  {
   "cell_type": "markdown",
   "metadata": {},
   "source": [
    "### Weights Initialization"
   ]
  },
  {
   "cell_type": "markdown",
   "metadata": {},
   "source": [
    "- **Xavier (Glorot) Normal initialization for Using: Sigmoid and Tanh Activational Units**"
   ]
  },
  {
   "cell_type": "code",
   "execution_count": 4,
   "metadata": {},
   "outputs": [],
   "source": [
    "# # Assign weights on each layer\n",
    "# weights_xavier = {\n",
    "#     \"h1\": tf.Variable(tf.random.normal([n_input, n_hidden_layer_1], stddev=np.sqrt(2.0 / (n_input + n_hidden_layer_1)), mean=0)),\n",
    "#     \"h2\": tf.Variable(tf.random.normal([n_hidden_layer_1, n_hidden_layer_2], stddev=np.sqrt(2.0 / (n_hidden_layer_1 + n_hidden_layer_2)), mean=0)),\n",
    "#     \"out\": tf.Variable(tf.random.normal([n_hidden_layer_2, n_output_layer_classes], stddev=np.sqrt(2.0 / (n_hidden_layer_2 + n_output_layer_classes)), mean=0))\n",
    "# }"
   ]
  },
  {
   "cell_type": "code",
   "execution_count": 5,
   "metadata": {},
   "outputs": [],
   "source": [
    "# Xavier (Glorot) Normal initialization for Sigmoid and Tanh\n",
    "def xavier_init(n_in, n_out):\n",
    "    stddev = np.sqrt(2.0 / (n_in + n_out))\n",
    "    return tf.random.normal([n_in, n_out], stddev=stddev, mean=0)\n",
    "\n",
    "weights_xavier = {\n",
    "    'h1': tf.Variable(xavier_init(n_input, n_hidden_layer_1)),\n",
    "    'h2': tf.Variable(xavier_init(n_hidden_layer_1, n_hidden_layer_2)),\n",
    "    'out': tf.Variable(xavier_init(n_hidden_layer_2, n_output_layer_classes))\n",
    "}"
   ]
  },
  {
   "cell_type": "code",
   "execution_count": 6,
   "metadata": {},
   "outputs": [
    {
     "data": {
      "text/plain": [
       "{'h1': <tf.Variable 'Variable:0' shape=(784, 10) dtype=float32, numpy=\n",
       " array([[ 0.08837537,  0.01164463, -0.00366665, ..., -0.01713743,\n",
       "         -0.02003113, -0.00438247],\n",
       "        [ 0.0052031 ,  0.00767701, -0.00776715, ..., -0.01021305,\n",
       "          0.02701942,  0.00524187],\n",
       "        [ 0.00177982,  0.00637453, -0.05073169, ..., -0.00435358,\n",
       "         -0.08578835, -0.00129906],\n",
       "        ...,\n",
       "        [ 0.02015848,  0.00532743,  0.00258217, ..., -0.01012593,\n",
       "          0.00621129,  0.02168704],\n",
       "        [-0.00811224,  0.01058017,  0.01846192, ..., -0.05336038,\n",
       "          0.01546121, -0.02599402],\n",
       "        [-0.00296782,  0.00760117,  0.0119552 , ...,  0.02785732,\n",
       "         -0.04741203, -0.03174415]], dtype=float32)>,\n",
       " 'h2': <tf.Variable 'Variable:0' shape=(10, 5) dtype=float32, numpy=\n",
       " array([[ 8.78186710e-03, -1.62346825e-01, -5.95714033e-01,\n",
       "         -4.19286877e-01,  1.46893710e-01],\n",
       "        [-4.47796643e-01,  3.52986723e-01, -8.08599778e-03,\n",
       "          4.16699052e-02,  3.56301874e-01],\n",
       "        [ 3.49769801e-01, -1.00212939e-01,  2.13374510e-01,\n",
       "         -6.09233975e-04,  4.09326732e-01],\n",
       "        [-6.98989034e-01,  2.62442734e-02,  3.19886953e-01,\n",
       "          4.15740997e-01,  1.95030093e-01],\n",
       "        [ 1.01915404e-01,  3.24886978e-01,  5.08871675e-01,\n",
       "         -3.88532840e-02, -4.86977212e-02],\n",
       "        [ 3.65489751e-01,  6.55472934e-01,  1.56323433e-01,\n",
       "         -5.67226648e-01,  1.90193392e-02],\n",
       "        [-5.47414005e-01,  5.79050601e-01,  4.17450108e-02,\n",
       "          3.04675043e-01,  1.11160681e-01],\n",
       "        [ 2.37605751e-01, -9.72223431e-02, -6.70240581e-01,\n",
       "         -1.59029692e-01, -3.86292994e-01],\n",
       "        [ 2.34384552e-01,  1.11445062e-01,  6.66356608e-02,\n",
       "         -2.67289877e-01,  7.81987160e-02],\n",
       "        [ 1.09374739e-01, -4.17981267e-01,  1.74904108e-01,\n",
       "          3.18515509e-01, -3.08090538e-01]], dtype=float32)>,\n",
       " 'out': <tf.Variable 'Variable:0' shape=(5, 10) dtype=float32, numpy=\n",
       " array([[ 0.3648492 ,  0.03302925, -0.00571026,  0.0727995 , -0.3957508 ,\n",
       "          0.43897408, -0.5305378 ,  0.2767104 ,  0.07128205, -0.86754507],\n",
       "        [ 0.09418008, -0.04096251, -0.32378498, -0.02138026,  0.40978518,\n",
       "          0.01958754, -0.3654784 , -0.50280476, -0.20531896, -0.6914972 ],\n",
       "        [-0.4300166 , -0.1961301 , -0.2832037 , -0.1777023 , -0.91857755,\n",
       "         -0.48865417, -0.48059285, -0.83596   ,  0.24914777,  0.4083264 ],\n",
       "        [-0.7324243 , -0.19009237, -0.0797815 ,  0.6368325 , -0.22752072,\n",
       "          0.35206258,  0.46119815,  0.37881646, -0.00890425, -0.12065149],\n",
       "        [ 0.03238478,  1.1838461 , -0.27529147,  0.34714746, -0.18514434,\n",
       "         -0.5255783 , -0.05520336, -0.19040108, -0.3467173 ,  0.19940782]],\n",
       "       dtype=float32)>}"
      ]
     },
     "execution_count": 6,
     "metadata": {},
     "output_type": "execute_result"
    }
   ],
   "source": [
    "weights_xavier"
   ]
  },
  {
   "cell_type": "markdown",
   "metadata": {},
   "source": [
    "- **He Normal initialization for Using ReLU Activational Units**"
   ]
  },
  {
   "cell_type": "code",
   "execution_count": 7,
   "metadata": {},
   "outputs": [],
   "source": [
    "# weights_he = {\n",
    "#     \"h1\": tf.Variable(tf.random.normal([n_input, n_hidden_layer_1], stddev=np.sqrt(2.0 / n_input), mean=0)),\n",
    "#     \"h2\": tf.Variable(tf.random.normal([n_hidden_layer_1, n_hidden_layer_2], stddev=np.sqrt(2.0 / n_hidden_layer_1), mean=0)),\n",
    "#     \"out\": tf.Variable(tf.random.normal([n_hidden_layer_2, n_output_layer_classes], stddev=np.sqrt(2.0 / n_hidden_layer_2), mean=0)),\n",
    "#     }"
   ]
  },
  {
   "cell_type": "code",
   "execution_count": 8,
   "metadata": {},
   "outputs": [],
   "source": [
    "# He Normal initialization for ReLU\n",
    "def he_init(n_in, n_out):\n",
    "    stddev = np.sqrt(2.0 / n_in)\n",
    "    return tf.random.normal([n_in, n_out], stddev=stddev, mean=0)\n",
    "\n",
    "weights_he = {\n",
    "    'h1': tf.Variable(he_init(n_input, n_hidden_layer_1)),\n",
    "    'h2': tf.Variable(he_init(n_hidden_layer_1, n_hidden_layer_2)),\n",
    "    'out': tf.Variable(he_init(n_hidden_layer_2, n_output_layer_classes))\n",
    "}"
   ]
  },
  {
   "cell_type": "code",
   "execution_count": 9,
   "metadata": {},
   "outputs": [
    {
     "data": {
      "text/plain": [
       "{'h1': <tf.Variable 'Variable:0' shape=(784, 10) dtype=float32, numpy=\n",
       " array([[-0.05689668,  0.01038874, -0.02313792, ..., -0.01377144,\n",
       "         -0.02371688,  0.0156901 ],\n",
       "        [ 0.02759313, -0.02594051,  0.00623593, ...,  0.08308317,\n",
       "         -0.02142936,  0.03964444],\n",
       "        [-0.02491081, -0.02598529, -0.01424137, ..., -0.12548696,\n",
       "         -0.02176876, -0.06123509],\n",
       "        ...,\n",
       "        [ 0.03022522, -0.06680357,  0.03088242, ...,  0.00089388,\n",
       "         -0.02324224, -0.05138081],\n",
       "        [-0.00211316,  0.00929494, -0.13864131, ..., -0.00489479,\n",
       "         -0.01420209,  0.10126542],\n",
       "        [ 0.10773855,  0.04820438,  0.18508077, ..., -0.06727341,\n",
       "          0.00742946, -0.04063138]], dtype=float32)>,\n",
       " 'h2': <tf.Variable 'Variable:0' shape=(10, 5) dtype=float32, numpy=\n",
       " array([[ 0.09673207,  0.17531791, -0.04468851,  0.3765119 , -0.263445  ],\n",
       "        [-0.22563942, -0.72833383,  0.0822366 ,  0.16398837, -0.05574333],\n",
       "        [-0.583451  , -1.3301508 , -0.42878503, -0.56569475, -0.02049776],\n",
       "        [ 0.1823738 , -0.4476922 , -0.20194992, -0.3175334 ,  0.37554732],\n",
       "        [-0.15309799, -0.02111536, -0.21844976,  0.0064623 ,  0.00469753],\n",
       "        [-0.6227355 , -0.27411893,  1.3571655 ,  0.24740861, -0.2143166 ],\n",
       "        [-0.70438784, -0.02131293,  0.17296648, -0.32153517,  0.77722394],\n",
       "        [-0.21209273, -0.3963844 , -0.24251238,  0.04102321, -0.64544976],\n",
       "        [ 0.21846104,  0.16898769,  0.4544834 ,  1.0352137 ,  0.15273966],\n",
       "        [ 0.15937266,  0.8721674 ,  0.49133042, -0.6934814 ,  0.60431933]],\n",
       "       dtype=float32)>,\n",
       " 'out': <tf.Variable 'Variable:0' shape=(5, 10) dtype=float32, numpy=\n",
       " array([[ 1.0748485 ,  0.3863788 ,  1.1128873 ,  0.6197122 , -0.05229024,\n",
       "          0.84303665, -0.30067882,  0.9332909 , -1.0098698 , -0.5929493 ],\n",
       "        [-0.6745499 , -0.67055917, -0.38469476,  1.1971084 , -0.9131976 ,\n",
       "          0.02975284,  0.35604006, -0.49132645, -0.38057512,  0.9705064 ],\n",
       "        [ 0.33981374, -0.12260807,  0.36566198, -0.40340748,  0.33963907,\n",
       "          0.7888158 , -0.11144654, -0.30556422,  0.15165251, -0.5748411 ],\n",
       "        [-0.8119101 , -0.25568244,  0.83453107,  0.37599948,  0.92089015,\n",
       "          0.57302773,  0.15482998,  0.17987743,  0.4387027 , -0.9118461 ],\n",
       "        [-0.85039914,  0.54961795, -0.4588007 ,  0.37626743,  0.25761545,\n",
       "         -0.31128678,  1.1132541 ,  0.27679706, -0.33518183,  1.0372608 ]],\n",
       "       dtype=float32)>}"
      ]
     },
     "execution_count": 9,
     "metadata": {},
     "output_type": "execute_result"
    }
   ],
   "source": [
    "weights_he"
   ]
  },
  {
   "cell_type": "code",
   "execution_count": 10,
   "metadata": {},
   "outputs": [],
   "source": [
    "# Bias common for all types of activation\n",
    "biases = {\n",
    "    \"b1\": tf.Variable(tf.random.normal([n_hidden_layer_1])),\n",
    "    \"b2\": tf.Variable(tf.random.normal([n_hidden_layer_2])),\n",
    "    \"out\": tf.Variable(tf.random.normal([n_output_layer_classes]))\n",
    "}"
   ]
  },
  {
   "cell_type": "code",
   "execution_count": 11,
   "metadata": {},
   "outputs": [
    {
     "data": {
      "text/plain": [
       "{'b1': <tf.Variable 'Variable:0' shape=(10,) dtype=float32, numpy=\n",
       " array([-0.03347822,  1.0492674 , -0.39898208,  0.87326884, -0.53338623,\n",
       "         0.3437759 , -0.5226531 , -0.48354945, -0.27504125,  0.05496972],\n",
       "       dtype=float32)>,\n",
       " 'b2': <tf.Variable 'Variable:0' shape=(5,) dtype=float32, numpy=\n",
       " array([ 0.43124104,  1.9451619 ,  0.31968018, -0.85029   ,  0.13506207],\n",
       "       dtype=float32)>,\n",
       " 'out': <tf.Variable 'Variable:0' shape=(10,) dtype=float32, numpy=\n",
       " array([ 0.8900562 ,  2.6121035 ,  0.21787214,  0.21537663,  1.1766813 ,\n",
       "        -0.29439306,  1.4670229 ,  1.1227189 , -1.0013113 , -1.5223153 ],\n",
       "       dtype=float32)>}"
      ]
     },
     "execution_count": 11,
     "metadata": {},
     "output_type": "execute_result"
    }
   ],
   "source": [
    "biases"
   ]
  },
  {
   "cell_type": "markdown",
   "metadata": {},
   "source": [
    "<!--  -->"
   ]
  },
  {
   "cell_type": "markdown",
   "metadata": {},
   "source": [
    "### Sample Data"
   ]
  },
  {
   "cell_type": "code",
   "execution_count": 12,
   "metadata": {},
   "outputs": [],
   "source": [
    "# Load the MNIST dataset\n",
    "mnist = tf.keras.datasets.mnist"
   ]
  },
  {
   "cell_type": "markdown",
   "metadata": {},
   "source": [
    "- Train and Test Splits"
   ]
  },
  {
   "cell_type": "code",
   "execution_count": 13,
   "metadata": {},
   "outputs": [],
   "source": [
    "(X_train_images, y_train_labels), (X_test_images, y_test_labels) = mnist.load_data()"
   ]
  },
  {
   "cell_type": "code",
   "execution_count": 14,
   "metadata": {},
   "outputs": [
    {
     "name": "stdout",
     "output_type": "stream",
     "text": [
      "Train Images: 60000, Train Rows: 28, Train Columns: 28\n",
      "Train Labels: 60000\n",
      "Test Images: 10000, Test Rows: 28, Test Columns: 28\n",
      "Test Labels: 10000\n"
     ]
    }
   ],
   "source": [
    "print(f\"Train Images: {X_train_images.shape[0]}, Train Rows: {X_train_images.shape[1]}, Train Columns: {X_train_images.shape[1]}\")\n",
    "print(f\"Train Labels: {y_train_labels.shape[0]}\")\n",
    "\n",
    "print(f\"Test Images: {X_test_images.shape[0]}, Test Rows: {X_test_images.shape[1]}, Test Columns: {X_test_images.shape[1]}\")\n",
    "print(f\"Test Labels: {y_test_labels.shape[0]}\")"
   ]
  },
  {
   "cell_type": "markdown",
   "metadata": {},
   "source": [
    "- Sample First 2 Images"
   ]
  },
  {
   "cell_type": "code",
   "execution_count": 16,
   "metadata": {},
   "outputs": [
    {
     "data": {
      "image/png": "[encoded data removed]",
      "text/plain": [
       "<Figure size 640x480 with 1 Axes>"
      ]
     },
     "metadata": {},
     "output_type": "display_data"
    },
    {
     "data": {
      "image/png": "[encoded data removed]",
      "text/plain": [
       "<Figure size 640x480 with 1 Axes>"
      ]
     },
     "metadata": {},
     "output_type": "display_data"
    }
   ],
   "source": [
    "# Function to plot an image\n",
    "def plot_image(image, label):\n",
    "    plt.imshow(image, cmap='gray')\n",
    "    plt.title(f\"Label: {label}\")\n",
    "    plt.axis('off')\n",
    "    plt.show()\n",
    "\n",
    "# Plotting the first image from the training set\n",
    "plot_image(X_train_images[0], y_train_labels[0])\n",
    "plot_image(X_train_images[1], y_train_labels[1])"
   ]
  },
  {
   "cell_type": "code",
   "execution_count": 15,
   "metadata": {},
   "outputs": [
    {
     "data": {
      "text/plain": [
       "array([[[  0,   0,   0,   0,   0,   0,   0,   0,   0,   0,   0,   0,\n",
       "           0,   0,   0,   0,   0,   0,   0,   0,   0,   0,   0,   0,\n",
       "           0,   0,   0,   0],\n",
       "        [  0,   0,   0,   0,   0,   0,   0,   0,   0,   0,   0,   0,\n",
       "           0,   0,   0,   0,   0,   0,   0,   0,   0,   0,   0,   0,\n",
       "           0,   0,   0,   0],\n",
       "        [  0,   0,   0,   0,   0,   0,   0,   0,   0,   0,   0,   0,\n",
       "           0,   0,   0,   0,   0,   0,   0,   0,   0,   0,   0,   0,\n",
       "           0,   0,   0,   0],\n",
       "        [  0,   0,   0,   0,   0,   0,   0,   0,   0,   0,   0,   0,\n",
       "           0,   0,   0,   0,   0,   0,   0,   0,   0,   0,   0,   0,\n",
       "           0,   0,   0,   0],\n",
       "        [  0,   0,   0,   0,   0,   0,   0,   0,   0,   0,   0,   0,\n",
       "           0,   0,   0,   0,   0,   0,   0,   0,   0,   0,   0,   0,\n",
       "           0,   0,   0,   0],\n",
       "        [  0,   0,   0,   0,   0,   0,   0,   0,   0,   0,   0,   0,\n",
       "           3,  18,  18,  18, 126, 136, 175,  26, 166, 255, 247, 127,\n",
       "           0,   0,   0,   0],\n",
       "        [  0,   0,   0,   0,   0,   0,   0,   0,  30,  36,  94, 154,\n",
       "         170, 253, 253, 253, 253, 253, 225, 172, 253, 242, 195,  64,\n",
       "           0,   0,   0,   0],\n",
       "        [  0,   0,   0,   0,   0,   0,   0,  49, 238, 253, 253, 253,\n",
       "         253, 253, 253, 253, 253, 251,  93,  82,  82,  56,  39,   0,\n",
       "           0,   0,   0,   0],\n",
       "        [  0,   0,   0,   0,   0,   0,   0,  18, 219, 253, 253, 253,\n",
       "         253, 253, 198, 182, 247, 241,   0,   0,   0,   0,   0,   0,\n",
       "           0,   0,   0,   0],\n",
       "        [  0,   0,   0,   0,   0,   0,   0,   0,  80, 156, 107, 253,\n",
       "         253, 205,  11,   0,  43, 154,   0,   0,   0,   0,   0,   0,\n",
       "           0,   0,   0,   0],\n",
       "        [  0,   0,   0,   0,   0,   0,   0,   0,   0,  14,   1, 154,\n",
       "         253,  90,   0,   0,   0,   0,   0,   0,   0,   0,   0,   0,\n",
       "           0,   0,   0,   0],\n",
       "        [  0,   0,   0,   0,   0,   0,   0,   0,   0,   0,   0, 139,\n",
       "         253, 190,   2,   0,   0,   0,   0,   0,   0,   0,   0,   0,\n",
       "           0,   0,   0,   0],\n",
       "        [  0,   0,   0,   0,   0,   0,   0,   0,   0,   0,   0,  11,\n",
       "         190, 253,  70,   0,   0,   0,   0,   0,   0,   0,   0,   0,\n",
       "           0,   0,   0,   0],\n",
       "        [  0,   0,   0,   0,   0,   0,   0,   0,   0,   0,   0,   0,\n",
       "          35, 241, 225, 160, 108,   1,   0,   0,   0,   0,   0,   0,\n",
       "           0,   0,   0,   0],\n",
       "        [  0,   0,   0,   0,   0,   0,   0,   0,   0,   0,   0,   0,\n",
       "           0,  81, 240, 253, 253, 119,  25,   0,   0,   0,   0,   0,\n",
       "           0,   0,   0,   0],\n",
       "        [  0,   0,   0,   0,   0,   0,   0,   0,   0,   0,   0,   0,\n",
       "           0,   0,  45, 186, 253, 253, 150,  27,   0,   0,   0,   0,\n",
       "           0,   0,   0,   0],\n",
       "        [  0,   0,   0,   0,   0,   0,   0,   0,   0,   0,   0,   0,\n",
       "           0,   0,   0,  16,  93, 252, 253, 187,   0,   0,   0,   0,\n",
       "           0,   0,   0,   0],\n",
       "        [  0,   0,   0,   0,   0,   0,   0,   0,   0,   0,   0,   0,\n",
       "           0,   0,   0,   0,   0, 249, 253, 249,  64,   0,   0,   0,\n",
       "           0,   0,   0,   0],\n",
       "        [  0,   0,   0,   0,   0,   0,   0,   0,   0,   0,   0,   0,\n",
       "           0,   0,  46, 130, 183, 253, 253, 207,   2,   0,   0,   0,\n",
       "           0,   0,   0,   0],\n",
       "        [  0,   0,   0,   0,   0,   0,   0,   0,   0,   0,   0,   0,\n",
       "          39, 148, 229, 253, 253, 253, 250, 182,   0,   0,   0,   0,\n",
       "           0,   0,   0,   0],\n",
       "        [  0,   0,   0,   0,   0,   0,   0,   0,   0,   0,  24, 114,\n",
       "         221, 253, 253, 253, 253, 201,  78,   0,   0,   0,   0,   0,\n",
       "           0,   0,   0,   0],\n",
       "        [  0,   0,   0,   0,   0,   0,   0,   0,  23,  66, 213, 253,\n",
       "         253, 253, 253, 198,  81,   2,   0,   0,   0,   0,   0,   0,\n",
       "           0,   0,   0,   0],\n",
       "        [  0,   0,   0,   0,   0,   0,  18, 171, 219, 253, 253, 253,\n",
       "         253, 195,  80,   9,   0,   0,   0,   0,   0,   0,   0,   0,\n",
       "           0,   0,   0,   0],\n",
       "        [  0,   0,   0,   0,  55, 172, 226, 253, 253, 253, 253, 244,\n",
       "         133,  11,   0,   0,   0,   0,   0,   0,   0,   0,   0,   0,\n",
       "           0,   0,   0,   0],\n",
       "        [  0,   0,   0,   0, 136, 253, 253, 253, 212, 135, 132,  16,\n",
       "           0,   0,   0,   0,   0,   0,   0,   0,   0,   0,   0,   0,\n",
       "           0,   0,   0,   0],\n",
       "        [  0,   0,   0,   0,   0,   0,   0,   0,   0,   0,   0,   0,\n",
       "           0,   0,   0,   0,   0,   0,   0,   0,   0,   0,   0,   0,\n",
       "           0,   0,   0,   0],\n",
       "        [  0,   0,   0,   0,   0,   0,   0,   0,   0,   0,   0,   0,\n",
       "           0,   0,   0,   0,   0,   0,   0,   0,   0,   0,   0,   0,\n",
       "           0,   0,   0,   0],\n",
       "        [  0,   0,   0,   0,   0,   0,   0,   0,   0,   0,   0,   0,\n",
       "           0,   0,   0,   0,   0,   0,   0,   0,   0,   0,   0,   0,\n",
       "           0,   0,   0,   0]]], dtype=uint8)"
      ]
     },
     "execution_count": 15,
     "metadata": {},
     "output_type": "execute_result"
    }
   ],
   "source": [
    "X_train_images[:1]"
   ]
  },
  {
   "cell_type": "markdown",
   "metadata": {},
   "source": [
    "<!--  -->"
   ]
  },
  {
   "cell_type": "markdown",
   "metadata": {},
   "source": [
    "### Flattening Images : 28 * 28 matrix repesentation to 1D array\n",
    "\n",
    "Note: Dimensions Reducing For NN Training\n",
    "\n",
    "- Neural networks, especially fully connected layers, expect input data in a flat, 1D format. Since MNIST images are originally 28x28 pixels, they need to be flattened into a single vector with 784 elements before being fed into the network."
   ]
  },
  {
   "cell_type": "code",
   "execution_count": 16,
   "metadata": {},
   "outputs": [],
   "source": [
    "X_train_images = X_train_images.reshape([-1, 28*28]).astype(np.float32)\n",
    "X_test_images = X_test_images.reshape([-1, 28*28]).astype(np.float32)"
   ]
  },
  {
   "cell_type": "markdown",
   "metadata": {},
   "source": [
    "- Train Data"
   ]
  },
  {
   "cell_type": "code",
   "execution_count": 17,
   "metadata": {},
   "outputs": [
    {
     "name": "stdout",
     "output_type": "stream",
     "text": [
      "Train predictors data shape: (60000, 784)\n",
      "Test target data shape: (60000,)\n"
     ]
    }
   ],
   "source": [
    "# Train Data Overview\n",
    "print(f'Train predictors data shape: {X_train_images.shape}')\n",
    "print(f'Test target data shape: {y_train_labels.shape}')\n"
   ]
  },
  {
   "cell_type": "code",
   "execution_count": 18,
   "metadata": {},
   "outputs": [
    {
     "data": {
      "text/plain": [
       "array([[  0.,   0.,   0.,   0.,   0.,   0.,   0.,   0.,   0.,   0.,   0.,\n",
       "          0.,   0.,   0.,   0.,   0.,   0.,   0.,   0.,   0.,   0.,   0.,\n",
       "          0.,   0.,   0.,   0.,   0.,   0.,   0.,   0.,   0.,   0.,   0.,\n",
       "          0.,   0.,   0.,   0.,   0.,   0.,   0.,   0.,   0.,   0.,   0.,\n",
       "          0.,   0.,   0.,   0.,   0.,   0.,   0.,   0.,   0.,   0.,   0.,\n",
       "          0.,   0.,   0.,   0.,   0.,   0.,   0.,   0.,   0.,   0.,   0.,\n",
       "          0.,   0.,   0.,   0.,   0.,   0.,   0.,   0.,   0.,   0.,   0.,\n",
       "          0.,   0.,   0.,   0.,   0.,   0.,   0.,   0.,   0.,   0.,   0.,\n",
       "          0.,   0.,   0.,   0.,   0.,   0.,   0.,   0.,   0.,   0.,   0.,\n",
       "          0.,   0.,   0.,   0.,   0.,   0.,   0.,   0.,   0.,   0.,   0.,\n",
       "          0.,   0.,   0.,   0.,   0.,   0.,   0.,   0.,   0.,   0.,   0.,\n",
       "          0.,   0.,   0.,   0.,   0.,   0.,   0.,   0.,   0.,   0.,   0.,\n",
       "          0.,   0.,   0.,   0.,   0.,   0.,   0.,   0.,   0.,   0.,   0.,\n",
       "          0.,   0.,   0.,   0.,   0.,   0.,   0.,   0.,   0.,   3.,  18.,\n",
       "         18.,  18., 126., 136., 175.,  26., 166., 255., 247., 127.,   0.,\n",
       "          0.,   0.,   0.,   0.,   0.,   0.,   0.,   0.,   0.,   0.,   0.,\n",
       "         30.,  36.,  94., 154., 170., 253., 253., 253., 253., 253., 225.,\n",
       "        172., 253., 242., 195.,  64.,   0.,   0.,   0.,   0.,   0.,   0.,\n",
       "          0.,   0.,   0.,   0.,   0.,  49., 238., 253., 253., 253., 253.,\n",
       "        253., 253., 253., 253., 251.,  93.,  82.,  82.,  56.,  39.,   0.,\n",
       "          0.,   0.,   0.,   0.,   0.,   0.,   0.,   0.,   0.,   0.,   0.,\n",
       "         18., 219., 253., 253., 253., 253., 253., 198., 182., 247., 241.,\n",
       "          0.,   0.,   0.,   0.,   0.,   0.,   0.,   0.,   0.,   0.,   0.,\n",
       "          0.,   0.,   0.,   0.,   0.,   0.,   0.,  80., 156., 107., 253.,\n",
       "        253., 205.,  11.,   0.,  43., 154.,   0.,   0.,   0.,   0.,   0.,\n",
       "          0.,   0.,   0.,   0.,   0.,   0.,   0.,   0.,   0.,   0.,   0.,\n",
       "          0.,   0.,   0.,  14.,   1., 154., 253.,  90.,   0.,   0.,   0.,\n",
       "          0.,   0.,   0.,   0.,   0.,   0.,   0.,   0.,   0.,   0.,   0.,\n",
       "          0.,   0.,   0.,   0.,   0.,   0.,   0.,   0.,   0.,   0.,   0.,\n",
       "        139., 253., 190.,   2.,   0.,   0.,   0.,   0.,   0.,   0.,   0.,\n",
       "          0.,   0.,   0.,   0.,   0.,   0.,   0.,   0.,   0.,   0.,   0.,\n",
       "          0.,   0.,   0.,   0.,   0.,   0.,  11., 190., 253.,  70.,   0.,\n",
       "          0.,   0.,   0.,   0.,   0.,   0.,   0.,   0.,   0.,   0.,   0.,\n",
       "          0.,   0.,   0.,   0.,   0.,   0.,   0.,   0.,   0.,   0.,   0.,\n",
       "          0.,   0.,  35., 241., 225., 160., 108.,   1.,   0.,   0.,   0.,\n",
       "          0.,   0.,   0.,   0.,   0.,   0.,   0.,   0.,   0.,   0.,   0.,\n",
       "          0.,   0.,   0.,   0.,   0.,   0.,   0.,   0.,   0.,  81., 240.,\n",
       "        253., 253., 119.,  25.,   0.,   0.,   0.,   0.,   0.,   0.,   0.,\n",
       "          0.,   0.,   0.,   0.,   0.,   0.,   0.,   0.,   0.,   0.,   0.,\n",
       "          0.,   0.,   0.,   0.,   0.,  45., 186., 253., 253., 150.,  27.,\n",
       "          0.,   0.,   0.,   0.,   0.,   0.,   0.,   0.,   0.,   0.,   0.,\n",
       "          0.,   0.,   0.,   0.,   0.,   0.,   0.,   0.,   0.,   0.,   0.,\n",
       "          0.,  16.,  93., 252., 253., 187.,   0.,   0.,   0.,   0.,   0.,\n",
       "          0.,   0.,   0.,   0.,   0.,   0.,   0.,   0.,   0.,   0.,   0.,\n",
       "          0.,   0.,   0.,   0.,   0.,   0.,   0.,   0.,   0., 249., 253.,\n",
       "        249.,  64.,   0.,   0.,   0.,   0.,   0.,   0.,   0.,   0.,   0.,\n",
       "          0.,   0.,   0.,   0.,   0.,   0.,   0.,   0.,   0.,   0.,   0.,\n",
       "          0.,  46., 130., 183., 253., 253., 207.,   2.,   0.,   0.,   0.,\n",
       "          0.,   0.,   0.,   0.,   0.,   0.,   0.,   0.,   0.,   0.,   0.,\n",
       "          0.,   0.,   0.,   0.,   0.,  39., 148., 229., 253., 253., 253.,\n",
       "        250., 182.,   0.,   0.,   0.,   0.,   0.,   0.,   0.,   0.,   0.,\n",
       "          0.,   0.,   0.,   0.,   0.,   0.,   0.,   0.,   0.,  24., 114.,\n",
       "        221., 253., 253., 253., 253., 201.,  78.,   0.,   0.,   0.,   0.,\n",
       "          0.,   0.,   0.,   0.,   0.,   0.,   0.,   0.,   0.,   0.,   0.,\n",
       "          0.,   0.,  23.,  66., 213., 253., 253., 253., 253., 198.,  81.,\n",
       "          2.,   0.,   0.,   0.,   0.,   0.,   0.,   0.,   0.,   0.,   0.,\n",
       "          0.,   0.,   0.,   0.,   0.,   0.,  18., 171., 219., 253., 253.,\n",
       "        253., 253., 195.,  80.,   9.,   0.,   0.,   0.,   0.,   0.,   0.,\n",
       "          0.,   0.,   0.,   0.,   0.,   0.,   0.,   0.,   0.,   0.,  55.,\n",
       "        172., 226., 253., 253., 253., 253., 244., 133.,  11.,   0.,   0.,\n",
       "          0.,   0.,   0.,   0.,   0.,   0.,   0.,   0.,   0.,   0.,   0.,\n",
       "          0.,   0.,   0.,   0.,   0., 136., 253., 253., 253., 212., 135.,\n",
       "        132.,  16.,   0.,   0.,   0.,   0.,   0.,   0.,   0.,   0.,   0.,\n",
       "          0.,   0.,   0.,   0.,   0.,   0.,   0.,   0.,   0.,   0.,   0.,\n",
       "          0.,   0.,   0.,   0.,   0.,   0.,   0.,   0.,   0.,   0.,   0.,\n",
       "          0.,   0.,   0.,   0.,   0.,   0.,   0.,   0.,   0.,   0.,   0.,\n",
       "          0.,   0.,   0.,   0.,   0.,   0.,   0.,   0.,   0.,   0.,   0.,\n",
       "          0.,   0.,   0.,   0.,   0.,   0.,   0.,   0.,   0.,   0.,   0.,\n",
       "          0.,   0.,   0.,   0.,   0.,   0.,   0.,   0.,   0.,   0.,   0.,\n",
       "          0.,   0.,   0.,   0.,   0.,   0.,   0.,   0.,   0.,   0.,   0.,\n",
       "          0.,   0.,   0.,   0.,   0.,   0.,   0.,   0.,   0.,   0.,   0.,\n",
       "          0.,   0.,   0.]], dtype=float32)"
      ]
     },
     "execution_count": 18,
     "metadata": {},
     "output_type": "execute_result"
    }
   ],
   "source": [
    "X_train_images[:1]"
   ]
  },
  {
   "cell_type": "code",
   "execution_count": 19,
   "metadata": {},
   "outputs": [
    {
     "data": {
      "text/plain": [
       "array([5], dtype=uint8)"
      ]
     },
     "execution_count": 19,
     "metadata": {},
     "output_type": "execute_result"
    }
   ],
   "source": [
    "y_train_labels[:1]"
   ]
  },
  {
   "cell_type": "markdown",
   "metadata": {},
   "source": [
    "- Test Data"
   ]
  },
  {
   "cell_type": "code",
   "execution_count": 20,
   "metadata": {},
   "outputs": [
    {
     "name": "stdout",
     "output_type": "stream",
     "text": [
      "Test predictors shape: (10000, 784)\n",
      "Test target shape: (10000,)\n"
     ]
    }
   ],
   "source": [
    "# Test Data Overview\n",
    "print(f'Test predictors shape: {X_test_images.shape}')\n",
    "print(f'Test target shape: {y_test_labels.shape}')"
   ]
  },
  {
   "cell_type": "code",
   "execution_count": 21,
   "metadata": {},
   "outputs": [
    {
     "data": {
      "text/plain": [
       "array([[  0.,   0.,   0.,   0.,   0.,   0.,   0.,   0.,   0.,   0.,   0.,\n",
       "          0.,   0.,   0.,   0.,   0.,   0.,   0.,   0.,   0.,   0.,   0.,\n",
       "          0.,   0.,   0.,   0.,   0.,   0.,   0.,   0.,   0.,   0.,   0.,\n",
       "          0.,   0.,   0.,   0.,   0.,   0.,   0.,   0.,   0.,   0.,   0.,\n",
       "          0.,   0.,   0.,   0.,   0.,   0.,   0.,   0.,   0.,   0.,   0.,\n",
       "          0.,   0.,   0.,   0.,   0.,   0.,   0.,   0.,   0.,   0.,   0.,\n",
       "          0.,   0.,   0.,   0.,   0.,   0.,   0.,   0.,   0.,   0.,   0.,\n",
       "          0.,   0.,   0.,   0.,   0.,   0.,   0.,   0.,   0.,   0.,   0.,\n",
       "          0.,   0.,   0.,   0.,   0.,   0.,   0.,   0.,   0.,   0.,   0.,\n",
       "          0.,   0.,   0.,   0.,   0.,   0.,   0.,   0.,   0.,   0.,   0.,\n",
       "          0.,   0.,   0.,   0.,   0.,   0.,   0.,   0.,   0.,   0.,   0.,\n",
       "          0.,   0.,   0.,   0.,   0.,   0.,   0.,   0.,   0.,   0.,   0.,\n",
       "          0.,   0.,   0.,   0.,   0.,   0.,   0.,   0.,   0.,   0.,   0.,\n",
       "          0.,   0.,   0.,   0.,   0.,   0.,   0.,   0.,   0.,   0.,   0.,\n",
       "          0.,   0.,   0.,   0.,   0.,   0.,   0.,   0.,   0.,   0.,   0.,\n",
       "          0.,   0.,   0.,   0.,   0.,   0.,   0.,   0.,   0.,   0.,   0.,\n",
       "          0.,   0.,   0.,   0.,   0.,   0.,   0.,   0.,   0.,   0.,   0.,\n",
       "          0.,   0.,   0.,   0.,   0.,   0.,   0.,   0.,   0.,   0.,   0.,\n",
       "          0.,   0.,   0.,   0.,  84., 185., 159., 151.,  60.,  36.,   0.,\n",
       "          0.,   0.,   0.,   0.,   0.,   0.,   0.,   0.,   0.,   0.,   0.,\n",
       "          0.,   0.,   0.,   0.,   0.,   0.,   0.,   0.,   0.,   0., 222.,\n",
       "        254., 254., 254., 254., 241., 198., 198., 198., 198., 198., 198.,\n",
       "        198., 198., 170.,  52.,   0.,   0.,   0.,   0.,   0.,   0.,   0.,\n",
       "          0.,   0.,   0.,   0.,   0.,  67., 114.,  72., 114., 163., 227.,\n",
       "        254., 225., 254., 254., 254., 250., 229., 254., 254., 140.,   0.,\n",
       "          0.,   0.,   0.,   0.,   0.,   0.,   0.,   0.,   0.,   0.,   0.,\n",
       "          0.,   0.,   0.,   0.,   0.,  17.,  66.,  14.,  67.,  67.,  67.,\n",
       "         59.,  21., 236., 254., 106.,   0.,   0.,   0.,   0.,   0.,   0.,\n",
       "          0.,   0.,   0.,   0.,   0.,   0.,   0.,   0.,   0.,   0.,   0.,\n",
       "          0.,   0.,   0.,   0.,   0.,   0.,   0.,  83., 253., 209.,  18.,\n",
       "          0.,   0.,   0.,   0.,   0.,   0.,   0.,   0.,   0.,   0.,   0.,\n",
       "          0.,   0.,   0.,   0.,   0.,   0.,   0.,   0.,   0.,   0.,   0.,\n",
       "          0.,  22., 233., 255.,  83.,   0.,   0.,   0.,   0.,   0.,   0.,\n",
       "          0.,   0.,   0.,   0.,   0.,   0.,   0.,   0.,   0.,   0.,   0.,\n",
       "          0.,   0.,   0.,   0.,   0.,   0.,   0., 129., 254., 238.,  44.,\n",
       "          0.,   0.,   0.,   0.,   0.,   0.,   0.,   0.,   0.,   0.,   0.,\n",
       "          0.,   0.,   0.,   0.,   0.,   0.,   0.,   0.,   0.,   0.,   0.,\n",
       "          0.,  59., 249., 254.,  62.,   0.,   0.,   0.,   0.,   0.,   0.,\n",
       "          0.,   0.,   0.,   0.,   0.,   0.,   0.,   0.,   0.,   0.,   0.,\n",
       "          0.,   0.,   0.,   0.,   0.,   0.,   0., 133., 254., 187.,   5.,\n",
       "          0.,   0.,   0.,   0.,   0.,   0.,   0.,   0.,   0.,   0.,   0.,\n",
       "          0.,   0.,   0.,   0.,   0.,   0.,   0.,   0.,   0.,   0.,   0.,\n",
       "          0.,   9., 205., 248.,  58.,   0.,   0.,   0.,   0.,   0.,   0.,\n",
       "          0.,   0.,   0.,   0.,   0.,   0.,   0.,   0.,   0.,   0.,   0.,\n",
       "          0.,   0.,   0.,   0.,   0.,   0.,   0., 126., 254., 182.,   0.,\n",
       "          0.,   0.,   0.,   0.,   0.,   0.,   0.,   0.,   0.,   0.,   0.,\n",
       "          0.,   0.,   0.,   0.,   0.,   0.,   0.,   0.,   0.,   0.,   0.,\n",
       "          0.,  75., 251., 240.,  57.,   0.,   0.,   0.,   0.,   0.,   0.,\n",
       "          0.,   0.,   0.,   0.,   0.,   0.,   0.,   0.,   0.,   0.,   0.,\n",
       "          0.,   0.,   0.,   0.,   0.,   0.,  19., 221., 254., 166.,   0.,\n",
       "          0.,   0.,   0.,   0.,   0.,   0.,   0.,   0.,   0.,   0.,   0.,\n",
       "          0.,   0.,   0.,   0.,   0.,   0.,   0.,   0.,   0.,   0.,   0.,\n",
       "          3., 203., 254., 219.,  35.,   0.,   0.,   0.,   0.,   0.,   0.,\n",
       "          0.,   0.,   0.,   0.,   0.,   0.,   0.,   0.,   0.,   0.,   0.,\n",
       "          0.,   0.,   0.,   0.,   0.,   0.,  38., 254., 254.,  77.,   0.,\n",
       "          0.,   0.,   0.,   0.,   0.,   0.,   0.,   0.,   0.,   0.,   0.,\n",
       "          0.,   0.,   0.,   0.,   0.,   0.,   0.,   0.,   0.,   0.,   0.,\n",
       "         31., 224., 254., 115.,   1.,   0.,   0.,   0.,   0.,   0.,   0.,\n",
       "          0.,   0.,   0.,   0.,   0.,   0.,   0.,   0.,   0.,   0.,   0.,\n",
       "          0.,   0.,   0.,   0.,   0.,   0., 133., 254., 254.,  52.,   0.,\n",
       "          0.,   0.,   0.,   0.,   0.,   0.,   0.,   0.,   0.,   0.,   0.,\n",
       "          0.,   0.,   0.,   0.,   0.,   0.,   0.,   0.,   0.,   0.,   0.,\n",
       "         61., 242., 254., 254.,  52.,   0.,   0.,   0.,   0.,   0.,   0.,\n",
       "          0.,   0.,   0.,   0.,   0.,   0.,   0.,   0.,   0.,   0.,   0.,\n",
       "          0.,   0.,   0.,   0.,   0.,   0., 121., 254., 254., 219.,  40.,\n",
       "          0.,   0.,   0.,   0.,   0.,   0.,   0.,   0.,   0.,   0.,   0.,\n",
       "          0.,   0.,   0.,   0.,   0.,   0.,   0.,   0.,   0.,   0.,   0.,\n",
       "          0., 121., 254., 207.,  18.,   0.,   0.,   0.,   0.,   0.,   0.,\n",
       "          0.,   0.,   0.,   0.,   0.,   0.,   0.,   0.,   0.,   0.,   0.,\n",
       "          0.,   0.,   0.,   0.,   0.,   0.,   0.,   0.,   0.,   0.,   0.,\n",
       "          0.,   0.,   0.,   0.,   0.,   0.,   0.,   0.,   0.,   0.,   0.,\n",
       "          0.,   0.,   0.]], dtype=float32)"
      ]
     },
     "execution_count": 21,
     "metadata": {},
     "output_type": "execute_result"
    }
   ],
   "source": [
    "X_test_images[:1]"
   ]
  },
  {
   "cell_type": "code",
   "execution_count": 22,
   "metadata": {},
   "outputs": [
    {
     "data": {
      "text/plain": [
       "array([7], dtype=uint8)"
      ]
     },
     "execution_count": 22,
     "metadata": {},
     "output_type": "execute_result"
    }
   ],
   "source": [
    "y_test_labels[:1]"
   ]
  },
  {
   "cell_type": "markdown",
   "metadata": {},
   "source": [
    "<!--  -->"
   ]
  },
  {
   "cell_type": "markdown",
   "metadata": {},
   "source": [
    "### Normalization"
   ]
  },
  {
   "cell_type": "code",
   "execution_count": 23,
   "metadata": {},
   "outputs": [],
   "source": [
    "# Normalize the images to the range of [0, 1]\n",
    "X_train_images = X_train_images / 255.0\n",
    "X_test_images = X_test_images / 255.0"
   ]
  },
  {
   "cell_type": "code",
   "execution_count": 24,
   "metadata": {},
   "outputs": [
    {
     "data": {
      "text/plain": [
       "array([[0.        , 0.        , 0.        , 0.        , 0.        ,\n",
       "        0.        , 0.        , 0.        , 0.        , 0.        ,\n",
       "        0.        , 0.        , 0.        , 0.        , 0.        ,\n",
       "        0.        , 0.        , 0.        , 0.        , 0.        ,\n",
       "        0.        , 0.        , 0.        , 0.        , 0.        ,\n",
       "        0.        , 0.        , 0.        , 0.        , 0.        ,\n",
       "        0.        , 0.        , 0.        , 0.        , 0.        ,\n",
       "        0.        , 0.        , 0.        , 0.        , 0.        ,\n",
       "        0.        , 0.        , 0.        , 0.        , 0.        ,\n",
       "        0.        , 0.        , 0.        , 0.        , 0.        ,\n",
       "        0.        , 0.        , 0.        , 0.        , 0.        ,\n",
       "        0.        , 0.        , 0.        , 0.        , 0.        ,\n",
       "        0.        , 0.        , 0.        , 0.        , 0.        ,\n",
       "        0.        , 0.        , 0.        , 0.        , 0.        ,\n",
       "        0.        , 0.        , 0.        , 0.        , 0.        ,\n",
       "        0.        , 0.        , 0.        , 0.        , 0.        ,\n",
       "        0.        , 0.        , 0.        , 0.        , 0.        ,\n",
       "        0.        , 0.        , 0.        , 0.        , 0.        ,\n",
       "        0.        , 0.        , 0.        , 0.        , 0.        ,\n",
       "        0.        , 0.        , 0.        , 0.        , 0.        ,\n",
       "        0.        , 0.        , 0.        , 0.        , 0.        ,\n",
       "        0.        , 0.        , 0.        , 0.        , 0.        ,\n",
       "        0.        , 0.        , 0.        , 0.        , 0.        ,\n",
       "        0.        , 0.        , 0.        , 0.        , 0.        ,\n",
       "        0.        , 0.        , 0.        , 0.        , 0.        ,\n",
       "        0.        , 0.        , 0.        , 0.        , 0.        ,\n",
       "        0.        , 0.        , 0.        , 0.        , 0.        ,\n",
       "        0.        , 0.        , 0.        , 0.        , 0.        ,\n",
       "        0.        , 0.        , 0.        , 0.        , 0.        ,\n",
       "        0.        , 0.        , 0.        , 0.        , 0.        ,\n",
       "        0.        , 0.        , 0.01176471, 0.07058824, 0.07058824,\n",
       "        0.07058824, 0.49411765, 0.53333336, 0.6862745 , 0.10196079,\n",
       "        0.6509804 , 1.        , 0.96862745, 0.49803922, 0.        ,\n",
       "        0.        , 0.        , 0.        , 0.        , 0.        ,\n",
       "        0.        , 0.        , 0.        , 0.        , 0.        ,\n",
       "        0.        , 0.11764706, 0.14117648, 0.36862746, 0.6039216 ,\n",
       "        0.6666667 , 0.99215686, 0.99215686, 0.99215686, 0.99215686,\n",
       "        0.99215686, 0.88235295, 0.6745098 , 0.99215686, 0.9490196 ,\n",
       "        0.7647059 , 0.2509804 , 0.        , 0.        , 0.        ,\n",
       "        0.        , 0.        , 0.        , 0.        , 0.        ,\n",
       "        0.        , 0.        , 0.        , 0.19215687, 0.93333334,\n",
       "        0.99215686, 0.99215686, 0.99215686, 0.99215686, 0.99215686,\n",
       "        0.99215686, 0.99215686, 0.99215686, 0.9843137 , 0.3647059 ,\n",
       "        0.32156864, 0.32156864, 0.21960784, 0.15294118, 0.        ,\n",
       "        0.        , 0.        , 0.        , 0.        , 0.        ,\n",
       "        0.        , 0.        , 0.        , 0.        , 0.        ,\n",
       "        0.        , 0.07058824, 0.85882354, 0.99215686, 0.99215686,\n",
       "        0.99215686, 0.99215686, 0.99215686, 0.7764706 , 0.7137255 ,\n",
       "        0.96862745, 0.94509804, 0.        , 0.        , 0.        ,\n",
       "        0.        , 0.        , 0.        , 0.        , 0.        ,\n",
       "        0.        , 0.        , 0.        , 0.        , 0.        ,\n",
       "        0.        , 0.        , 0.        , 0.        , 0.        ,\n",
       "        0.3137255 , 0.6117647 , 0.41960785, 0.99215686, 0.99215686,\n",
       "        0.8039216 , 0.04313726, 0.        , 0.16862746, 0.6039216 ,\n",
       "        0.        , 0.        , 0.        , 0.        , 0.        ,\n",
       "        0.        , 0.        , 0.        , 0.        , 0.        ,\n",
       "        0.        , 0.        , 0.        , 0.        , 0.        ,\n",
       "        0.        , 0.        , 0.        , 0.        , 0.05490196,\n",
       "        0.00392157, 0.6039216 , 0.99215686, 0.3529412 , 0.        ,\n",
       "        0.        , 0.        , 0.        , 0.        , 0.        ,\n",
       "        0.        , 0.        , 0.        , 0.        , 0.        ,\n",
       "        0.        , 0.        , 0.        , 0.        , 0.        ,\n",
       "        0.        , 0.        , 0.        , 0.        , 0.        ,\n",
       "        0.        , 0.        , 0.        , 0.        , 0.54509807,\n",
       "        0.99215686, 0.74509805, 0.00784314, 0.        , 0.        ,\n",
       "        0.        , 0.        , 0.        , 0.        , 0.        ,\n",
       "        0.        , 0.        , 0.        , 0.        , 0.        ,\n",
       "        0.        , 0.        , 0.        , 0.        , 0.        ,\n",
       "        0.        , 0.        , 0.        , 0.        , 0.        ,\n",
       "        0.        , 0.        , 0.04313726, 0.74509805, 0.99215686,\n",
       "        0.27450982, 0.        , 0.        , 0.        , 0.        ,\n",
       "        0.        , 0.        , 0.        , 0.        , 0.        ,\n",
       "        0.        , 0.        , 0.        , 0.        , 0.        ,\n",
       "        0.        , 0.        , 0.        , 0.        , 0.        ,\n",
       "        0.        , 0.        , 0.        , 0.        , 0.        ,\n",
       "        0.        , 0.13725491, 0.94509804, 0.88235295, 0.627451  ,\n",
       "        0.42352942, 0.00392157, 0.        , 0.        , 0.        ,\n",
       "        0.        , 0.        , 0.        , 0.        , 0.        ,\n",
       "        0.        , 0.        , 0.        , 0.        , 0.        ,\n",
       "        0.        , 0.        , 0.        , 0.        , 0.        ,\n",
       "        0.        , 0.        , 0.        , 0.        , 0.        ,\n",
       "        0.31764707, 0.9411765 , 0.99215686, 0.99215686, 0.46666667,\n",
       "        0.09803922, 0.        , 0.        , 0.        , 0.        ,\n",
       "        0.        , 0.        , 0.        , 0.        , 0.        ,\n",
       "        0.        , 0.        , 0.        , 0.        , 0.        ,\n",
       "        0.        , 0.        , 0.        , 0.        , 0.        ,\n",
       "        0.        , 0.        , 0.        , 0.        , 0.1764706 ,\n",
       "        0.7294118 , 0.99215686, 0.99215686, 0.5882353 , 0.10588235,\n",
       "        0.        , 0.        , 0.        , 0.        , 0.        ,\n",
       "        0.        , 0.        , 0.        , 0.        , 0.        ,\n",
       "        0.        , 0.        , 0.        , 0.        , 0.        ,\n",
       "        0.        , 0.        , 0.        , 0.        , 0.        ,\n",
       "        0.        , 0.        , 0.        , 0.0627451 , 0.3647059 ,\n",
       "        0.9882353 , 0.99215686, 0.73333335, 0.        , 0.        ,\n",
       "        0.        , 0.        , 0.        , 0.        , 0.        ,\n",
       "        0.        , 0.        , 0.        , 0.        , 0.        ,\n",
       "        0.        , 0.        , 0.        , 0.        , 0.        ,\n",
       "        0.        , 0.        , 0.        , 0.        , 0.        ,\n",
       "        0.        , 0.        , 0.        , 0.9764706 , 0.99215686,\n",
       "        0.9764706 , 0.2509804 , 0.        , 0.        , 0.        ,\n",
       "        0.        , 0.        , 0.        , 0.        , 0.        ,\n",
       "        0.        , 0.        , 0.        , 0.        , 0.        ,\n",
       "        0.        , 0.        , 0.        , 0.        , 0.        ,\n",
       "        0.        , 0.        , 0.        , 0.18039216, 0.50980395,\n",
       "        0.7176471 , 0.99215686, 0.99215686, 0.8117647 , 0.00784314,\n",
       "        0.        , 0.        , 0.        , 0.        , 0.        ,\n",
       "        0.        , 0.        , 0.        , 0.        , 0.        ,\n",
       "        0.        , 0.        , 0.        , 0.        , 0.        ,\n",
       "        0.        , 0.        , 0.        , 0.        , 0.15294118,\n",
       "        0.5803922 , 0.8980392 , 0.99215686, 0.99215686, 0.99215686,\n",
       "        0.98039216, 0.7137255 , 0.        , 0.        , 0.        ,\n",
       "        0.        , 0.        , 0.        , 0.        , 0.        ,\n",
       "        0.        , 0.        , 0.        , 0.        , 0.        ,\n",
       "        0.        , 0.        , 0.        , 0.        , 0.        ,\n",
       "        0.09411765, 0.44705883, 0.8666667 , 0.99215686, 0.99215686,\n",
       "        0.99215686, 0.99215686, 0.7882353 , 0.30588236, 0.        ,\n",
       "        0.        , 0.        , 0.        , 0.        , 0.        ,\n",
       "        0.        , 0.        , 0.        , 0.        , 0.        ,\n",
       "        0.        , 0.        , 0.        , 0.        , 0.        ,\n",
       "        0.        , 0.09019608, 0.25882354, 0.8352941 , 0.99215686,\n",
       "        0.99215686, 0.99215686, 0.99215686, 0.7764706 , 0.31764707,\n",
       "        0.00784314, 0.        , 0.        , 0.        , 0.        ,\n",
       "        0.        , 0.        , 0.        , 0.        , 0.        ,\n",
       "        0.        , 0.        , 0.        , 0.        , 0.        ,\n",
       "        0.        , 0.        , 0.07058824, 0.67058825, 0.85882354,\n",
       "        0.99215686, 0.99215686, 0.99215686, 0.99215686, 0.7647059 ,\n",
       "        0.3137255 , 0.03529412, 0.        , 0.        , 0.        ,\n",
       "        0.        , 0.        , 0.        , 0.        , 0.        ,\n",
       "        0.        , 0.        , 0.        , 0.        , 0.        ,\n",
       "        0.        , 0.        , 0.        , 0.21568628, 0.6745098 ,\n",
       "        0.8862745 , 0.99215686, 0.99215686, 0.99215686, 0.99215686,\n",
       "        0.95686275, 0.52156866, 0.04313726, 0.        , 0.        ,\n",
       "        0.        , 0.        , 0.        , 0.        , 0.        ,\n",
       "        0.        , 0.        , 0.        , 0.        , 0.        ,\n",
       "        0.        , 0.        , 0.        , 0.        , 0.        ,\n",
       "        0.        , 0.53333336, 0.99215686, 0.99215686, 0.99215686,\n",
       "        0.83137256, 0.5294118 , 0.5176471 , 0.0627451 , 0.        ,\n",
       "        0.        , 0.        , 0.        , 0.        , 0.        ,\n",
       "        0.        , 0.        , 0.        , 0.        , 0.        ,\n",
       "        0.        , 0.        , 0.        , 0.        , 0.        ,\n",
       "        0.        , 0.        , 0.        , 0.        , 0.        ,\n",
       "        0.        , 0.        , 0.        , 0.        , 0.        ,\n",
       "        0.        , 0.        , 0.        , 0.        , 0.        ,\n",
       "        0.        , 0.        , 0.        , 0.        , 0.        ,\n",
       "        0.        , 0.        , 0.        , 0.        , 0.        ,\n",
       "        0.        , 0.        , 0.        , 0.        , 0.        ,\n",
       "        0.        , 0.        , 0.        , 0.        , 0.        ,\n",
       "        0.        , 0.        , 0.        , 0.        , 0.        ,\n",
       "        0.        , 0.        , 0.        , 0.        , 0.        ,\n",
       "        0.        , 0.        , 0.        , 0.        , 0.        ,\n",
       "        0.        , 0.        , 0.        , 0.        , 0.        ,\n",
       "        0.        , 0.        , 0.        , 0.        , 0.        ,\n",
       "        0.        , 0.        , 0.        , 0.        , 0.        ,\n",
       "        0.        , 0.        , 0.        , 0.        , 0.        ,\n",
       "        0.        , 0.        , 0.        , 0.        , 0.        ,\n",
       "        0.        , 0.        , 0.        , 0.        , 0.        ,\n",
       "        0.        , 0.        , 0.        , 0.        ]], dtype=float32)"
      ]
     },
     "execution_count": 24,
     "metadata": {},
     "output_type": "execute_result"
    }
   ],
   "source": [
    "X_train_images[:1]"
   ]
  },
  {
   "cell_type": "markdown",
   "metadata": {},
   "source": [
    "<!--  -->"
   ]
  },
  {
   "cell_type": "markdown",
   "metadata": {},
   "source": [
    "<!--  -->"
   ]
  },
  {
   "cell_type": "markdown",
   "metadata": {},
   "source": [
    "### One-hot Encoding : Target Variable"
   ]
  },
  {
   "cell_type": "code",
   "execution_count": 25,
   "metadata": {},
   "outputs": [],
   "source": [
    "y_train_labels = tf.keras.utils.to_categorical(y_train_labels, num_classes=10).astype(np.float32)\n",
    "y_test_labels = tf.keras.utils.to_categorical(y_test_labels, num_classes=10).astype(np.float32)"
   ]
  },
  {
   "cell_type": "code",
   "execution_count": 26,
   "metadata": {},
   "outputs": [
    {
     "data": {
      "text/plain": [
       "array([[0., 0., 0., 0., 0., 1., 0., 0., 0., 0.]], dtype=float32)"
      ]
     },
     "execution_count": 26,
     "metadata": {},
     "output_type": "execute_result"
    }
   ],
   "source": [
    "y_train_labels[:1] # 5"
   ]
  },
  {
   "cell_type": "code",
   "execution_count": 27,
   "metadata": {},
   "outputs": [
    {
     "data": {
      "text/plain": [
       "array([[0., 0., 0., 0., 0., 0., 0., 1., 0., 0.]], dtype=float32)"
      ]
     },
     "execution_count": 27,
     "metadata": {},
     "output_type": "execute_result"
    }
   ],
   "source": [
    "y_test_labels[:1] # 7"
   ]
  },
  {
   "cell_type": "markdown",
   "metadata": {},
   "source": [
    "<!--  -->"
   ]
  },
  {
   "cell_type": "markdown",
   "metadata": {},
   "source": [
    "### TensorFlow DataSet"
   ]
  },
  {
   "cell_type": "code",
   "execution_count": 28,
   "metadata": {},
   "outputs": [],
   "source": [
    "train_dataset = tf.data.Dataset\\\n",
    "                .from_tensor_slices((X_train_images, y_train_labels))\\\n",
    "                .shuffle(60000)\\\n",
    "                .batch(100)\n",
    "\n",
    "test_dataset = tf.data.Dataset\\\n",
    "                .from_tensor_slices((X_test_images, y_test_labels))\\\n",
    "                .batch(100)"
   ]
  },
  {
   "cell_type": "markdown",
   "metadata": {},
   "source": [
    "<!-- ' -->"
   ]
  },
  {
   "cell_type": "markdown",
   "metadata": {},
   "source": [
    "### Model Definition : Construct Network\n",
    "\n",
    "```text\n",
    "784 inputs --> \n",
    "    hidden layer1 (20 neuros): activation func sigmoid/tanh/relu --> \n",
    "        hidden layer2 (10 Neuros): activation func sigmoid/tanh/relu --> \n",
    "            output: activation func softmax -->\n",
    "                predictions classes [0-9] with probability's\n",
    "```"
   ]
  },
  {
   "cell_type": "code",
   "execution_count": 29,
   "metadata": {},
   "outputs": [],
   "source": [
    "def Model(x, weights, biases, activation): # x is predictors / columns / features of images data\n",
    "    # Hidden Layer 1\n",
    "    layer_1 = tf.add(tf.matmul(x, weights[\"h1\"]), biases[\"b1\"]) # i.e., Matrix multiplication ex:- y= mx + c\n",
    "\n",
    "    if activation == \"sigmoid\":\n",
    "        layer_1 = tf.nn.sigmoid(layer_1)\n",
    "    elif activation == \"tanh\":\n",
    "        layer_1 = tf.nn.tanh(layer_1)\n",
    "    elif activation == \"relu\":\n",
    "        layer_1 = tf.nn.relu(layer_1)\n",
    "\n",
    "    # Hidden Layer 2\n",
    "    layer_2 = tf.add(tf.matmul(layer_1, weights[\"h2\"]), biases[\"b2\"]) # i.e., Matrix multiplication ex:- y= mx + c\n",
    "\n",
    "    if activation == \"sigmoid\":\n",
    "        layer_2 = tf.nn.sigmoid(layer_2)\n",
    "    elif activation == \"tanh\":\n",
    "        layer_2 = tf.nn.tanh(layer_2)\n",
    "    elif activation == \"relu\":\n",
    "        layer_2 = tf.nn.relu(layer_2)\n",
    "\n",
    "    # Output Layer\n",
    "    out_layer = tf.add(tf.matmul(layer_2, weights[\"out\"]), biases[\"out\"]) # i.e., Matrix multiplication ex:- y= mx + c \n",
    "\n",
    "    return tf.nn.softmax(out_layer)"
   ]
  },
  {
   "cell_type": "markdown",
   "metadata": {},
   "source": [
    "<!--  -->"
   ]
  },
  {
   "cell_type": "markdown",
   "metadata": {},
   "source": [
    "### Traing Step: Loss Calculation and Weight Updation\n",
    "\n",
    "**Weights Updation**\n",
    "\n",
    "Both snippets perform the same basic operation: they update the model's weights and biases using the calculated gradients.\n",
    "\n",
    "The first approach utilizes the apply_gradients method provided by the optimizer, which abstracts the details of the update process.\n",
    "\n",
    "```python\n",
    "grads = tape.gradient(loss_value, [W, b])\n",
    "```\n",
    "\n",
    "The second approach manually performs the update using basic TensorFlow operations.\n",
    "```python\n",
    "for g,v in zip(grads, model.variables):\n",
    "    v.assign_sub(learning_rate * g)\n",
    "```"
   ]
  },
  {
   "cell_type": "code",
   "execution_count": 30,
   "metadata": {},
   "outputs": [],
   "source": [
    "# def train_step(model, optimizer, loss_func, images, labels):\n",
    "def train_step(images, labels, model_func, optimizer, loss_func):\n",
    "    with tf.GradientTape() as tape:\n",
    "        # predictions = model(images) # model already have all other arguments given, now only columns/features of images being passed\n",
    "        predictions = model_func(images)\n",
    "        loss_value = loss_func(labels, predictions)\n",
    "    # grads = tape.gradient(loss_value, model.trainable_variables)\n",
    "    # optimizer.apply_gradients(zip(grads, model.trainable_variables))\n",
    "    grads = tape.gradient(loss_value, [*weights.values(), *biases.values()])\n",
    "    optimizer.apply_gradients(zip(grads, [*weights.values(), *biases.values()]))    \n",
    "    return loss_value\n"
   ]
  },
  {
   "cell_type": "markdown",
   "metadata": {},
   "source": [
    "<!--  -->"
   ]
  },
  {
   "cell_type": "markdown",
   "metadata": {},
   "source": [
    "### Model Training"
   ]
  },
  {
   "cell_type": "code",
   "execution_count": 31,
   "metadata": {},
   "outputs": [],
   "source": [
    "def train_model(weights, biases, activation, optimizer, train_dataset, num_epochs):\n",
    "    loss_func = tf.keras.losses.CategoricalCrossentropy()\n",
    "    losses = []\n",
    "\n",
    "    for epoch in range(num_epochs):\n",
    "        epoch_loss_avg = tf.keras.metrics.Mean()\n",
    "        for images, labels in train_dataset:\n",
    "            # Here lamda x is just notation of a argument i.e., columns/features of images, which will be passed during train step\n",
    "            # loss = train_step(lambda x: Model(x, weights, biases, activation), optimizer, loss_func, images, labels)\n",
    "            # or\n",
    "            # loss = train_step(Model(images, weights, biases, activation), optimizer, loss_func, images, labels)\n",
    "            model_func = lambda x: Model(x, weights, biases, activation)\n",
    "            loss = train_step(images, labels, model_func, optimizer, loss_func)            \n",
    "            epoch_loss_avg.update_state(loss) # Loss mean as per batch\n",
    "        losses.append(epoch_loss_avg.result().numpy())\n",
    "        if (epoch + 1) % 5 == 0:\n",
    "            print(f\"Epoch {epoch + 1}, Loss: {epoch_loss_avg.result().numpy()}\")\n",
    "\n",
    "    return losses"
   ]
  },
  {
   "cell_type": "markdown",
   "metadata": {},
   "source": [
    "<!--  -->"
   ]
  },
  {
   "cell_type": "markdown",
   "metadata": {},
   "source": [
    "### Model Accuracy"
   ]
  },
  {
   "cell_type": "code",
   "execution_count": 32,
   "metadata": {},
   "outputs": [],
   "source": [
    "def model_accuracy(weights, biases, activation, test_dataset):\n",
    "    accuracy_metric = tf.keras.metrics.CategoricalAccuracy()\n",
    "    for images, labels in test_dataset:\n",
    "        predictions = Model(images, weights, biases, activation)\n",
    "        accuracy_metric.update_state(labels, predictions)\n",
    "    return accuracy_metric.result().numpy()"
   ]
  },
  {
   "cell_type": "markdown",
   "metadata": {},
   "source": [
    "<!--  -->"
   ]
  },
  {
   "cell_type": "markdown",
   "metadata": {},
   "source": [
    "### Plot Loss"
   ]
  },
  {
   "cell_type": "code",
   "execution_count": 33,
   "metadata": {},
   "outputs": [],
   "source": [
    "def plot_loss(num_epochs, losses, title):\n",
    "    sns.set_style(\"dark\")\n",
    "    plt.plot(range(1, num_epochs + 1), losses, 'b', label='Train Loss')\n",
    "    plt.xlabel('Epoch')\n",
    "    plt.ylabel('Loss')\n",
    "    plt.title(title)\n",
    "    plt.legend()\n",
    "    plt.show()"
   ]
  },
  {
   "cell_type": "markdown",
   "metadata": {},
   "source": [
    "<!--  -->"
   ]
  },
  {
   "cell_type": "markdown",
   "metadata": {},
   "source": [
    "### Model Hyperparameters"
   ]
  },
  {
   "cell_type": "code",
   "execution_count": 36,
   "metadata": {},
   "outputs": [],
   "source": [
    "num_epochs = 10\n",
    "activations = [\"sigmoid\", \"tanh\", \"relu\"]\n",
    "optimizer_constructors = {\n",
    "    \"SGD\": lambda: tf.optimizers.SGD(learning_rate=0.05)\n",
    "}"
   ]
  },
  {
   "cell_type": "markdown",
   "metadata": {},
   "source": [
    "<!--  -->"
   ]
  },
  {
   "cell_type": "markdown",
   "metadata": {},
   "source": [
    "### Start Training"
   ]
  },
  {
   "cell_type": "code",
   "execution_count": 38,
   "metadata": {},
   "outputs": [
    {
     "name": "stdout",
     "output_type": "stream",
     "text": [
      "Training Model with sigmoid activation and SGD optimizer....\n",
      "Epoch 5, Loss: 1.3663338422775269\n",
      "Epoch 10, Loss: 0.7588478326797485\n"
     ]
    },
    {
     "data": {
      "image/png": "[encoded data removed]",
      "text/plain": [
       "<Figure size 640x480 with 1 Axes>"
      ]
     },
     "metadata": {},
     "output_type": "display_data"
    },
    {
     "name": "stdout",
     "output_type": "stream",
     "text": [
      "Test Accuracy with activation name: sigmoid and optimizer: SGD -->  0.84\n",
      "Training Model with tanh activation and SGD optimizer....\n",
      "Epoch 5, Loss: 0.4632144272327423\n",
      "Epoch 10, Loss: 0.3679613173007965\n"
     ]
    },
    {
     "data": {
      "image/png": "[encoded data removed]",
      "text/plain": [
       "<Figure size 640x480 with 1 Axes>"
      ]
     },
     "metadata": {},
     "output_type": "display_data"
    },
    {
     "name": "stdout",
     "output_type": "stream",
     "text": [
      "Test Accuracy with activation name: tanh and optimizer: SGD -->  0.90\n",
      "Training Model with relu activation and SGD optimizer....\n",
      "Epoch 5, Loss: 0.3888346552848816\n",
      "Epoch 10, Loss: 0.32263848185539246\n"
     ]
    },
    {
     "data": {
      "image/png": "[encoded data removed]",
      "text/plain": [
       "<Figure size 640x480 with 1 Axes>"
      ]
     },
     "metadata": {},
     "output_type": "display_data"
    },
    {
     "name": "stdout",
     "output_type": "stream",
     "text": [
      "Test Accuracy with activation name: relu and optimizer: SGD -->  0.90\n"
     ]
    }
   ],
   "source": [
    "for activation in activations:\n",
    "    for opt_name, opt_constructor in optimizer_constructors.items():\n",
    "        if activation == \"relu\":\n",
    "            weights = weights_he\n",
    "        else:\n",
    "            weights = weights_xavier\n",
    "        optimizer = opt_constructor()  # Create a new optimizer instance\n",
    "        # When opt_constructor() is called, it executes the lambda function, which creates and returns a new tf.optimizers.SGD instance with the specified learning rate.\n",
    "        print(f\"Training Model with {activation} activation and {opt_name} optimizer....\")\n",
    "        losses = train_model(weights, biases, activation, optimizer, train_dataset, num_epochs)\n",
    "        plot_loss(num_epochs, losses, f\"Loss over Epochs ({activation} + {opt_name})\")\n",
    "        test_accuracy = model_accuracy(weights, biases, activation, test_dataset)\n",
    "        print(f\"Test Accuracy with activation name: {activation} and optimizer: {opt_name} --> {test_accuracy: .2f}\")"
   ]
  },
  {
   "cell_type": "markdown",
   "metadata": {},
   "source": [
    "### Observations\n",
    "\n",
    "- Out of all combinations tanh / relU with SGD seems to be better parameters with less epochs and minor deep learning model.\n",
    "- We can also add more optimizers i.e., Adam and can also increase hidden layers along with higher neurons in each network."
   ]
  }
 ],
 "metadata": {
  "kernelspec": {
   "display_name": "data_science_env",
   "language": "python",
   "name": "python3"
  },
  "language_info": {
   "codemirror_mode": {
    "name": "ipython",
    "version": 3
   },
   "file_extension": ".py",
   "mimetype": "text/x-python",
   "name": "python",
   "nbconvert_exporter": "python",
   "pygments_lexer": "ipython3",
   "version": "3.12.3"
  }
 },
 "nbformat": 4,
 "nbformat_minor": 2
}
