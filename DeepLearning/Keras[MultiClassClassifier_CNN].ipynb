{
 "cells": [
  {
   "cell_type": "markdown",
   "metadata": {},
   "source": [
    "### Import Libraries"
   ]
  },
  {
   "cell_type": "code",
   "execution_count": 4,
   "metadata": {},
   "outputs": [],
   "source": [
    "# Python Libraries\n",
    "import numpy as np\n",
    "import seaborn as sns\n",
    "import matplotlib.pyplot as plt\n",
    "import warnings\n",
    "\n",
    "# Deep Learning Libraries\n",
    "import tensorflow as tf\n",
    "from tensorflow.keras.models import Sequential\n",
    "from tensorflow.keras.layers import Dense, Activation, Conv2D, MaxPooling2D, Flatten, Dropout\n",
    "from tensorflow.keras.optimizers import SGD, Adam\n",
    "\n",
    "warnings.filterwarnings(\"ignore\")\n",
    "%matplotlib inline"
   ]
  },
  {
   "cell_type": "markdown",
   "metadata": {},
   "source": [
    "<!--  -->"
   ]
  },
  {
   "cell_type": "markdown",
   "metadata": {},
   "source": [
    "### Sample Data"
   ]
  },
  {
   "cell_type": "markdown",
   "metadata": {},
   "source": [
    "- **Train and Test Data Splits**"
   ]
  },
  {
   "cell_type": "code",
   "execution_count": 5,
   "metadata": {},
   "outputs": [],
   "source": [
    "(X_train_images, y_train_labels), (X_test_images, y_test_labels) = tf.keras.datasets.mnist.load_data()"
   ]
  },
  {
   "cell_type": "markdown",
   "metadata": {},
   "source": [
    "<!--  -->"
   ]
  },
  {
   "cell_type": "markdown",
   "metadata": {},
   "source": [
    "### Data Preprocessing"
   ]
  },
  {
   "cell_type": "markdown",
   "metadata": {},
   "source": [
    "- **Flatten Image: Raw Image -> 1D Array**"
   ]
  },
  {
   "cell_type": "code",
   "execution_count": 6,
   "metadata": {},
   "outputs": [],
   "source": [
    "X_train_images = X_train_images.reshape([-1, 28, 28, 1]).astype(\"float32\") # 28(rows), 28(cols), 1(RGB dimension)\n",
    "X_test_images = X_test_images.reshape([-1, 28, 28, 1]).astype(\"float32\")"
   ]
  },
  {
   "cell_type": "markdown",
   "metadata": {},
   "source": [
    "- **Normalization**"
   ]
  },
  {
   "cell_type": "code",
   "execution_count": 7,
   "metadata": {},
   "outputs": [],
   "source": [
    "X_train_images = X_train_images / 255.0\n",
    "X_test_images = X_test_images / 255.0"
   ]
  },
  {
   "cell_type": "markdown",
   "metadata": {},
   "source": [
    "- **Dummy Variables Creation**"
   ]
  },
  {
   "cell_type": "code",
   "execution_count": 8,
   "metadata": {},
   "outputs": [],
   "source": [
    "y_train_labels = tf.keras.utils.to_categorical(y_train_labels, 10)\n",
    "y_test_labels = tf.keras.utils.to_categorical(y_test_labels, 10)"
   ]
  },
  {
   "cell_type": "markdown",
   "metadata": {},
   "source": [
    "<!--  -->"
   ]
  },
  {
   "cell_type": "markdown",
   "metadata": {},
   "source": [
    "### Build Model"
   ]
  },
  {
   "cell_type": "code",
   "execution_count": 9,
   "metadata": {},
   "outputs": [],
   "source": [
    "def build_model(activation, initializer):\n",
    "    model = Sequential()\n",
    "    # Conv2D(10, kernel_size=(3, 3), ...): Adds a 2D convolutional layer with 10 filters, each of size 3x3.\n",
    "    model.add(Conv2D(10, kernel_size=(3,3), activation=activation, input_shape=(28, 28, 1), kernel_initializer=initializer))\n",
    "    # MaxPooling2D(pool_size=(2, 2)): Adds a max pooling layer to downsample the input by taking the maximum value over a 2x2 pooling window. This reduces the spatial dimensions of the output volume.\n",
    "    model.add(MaxPooling2D(pool_size=(2,2)))\n",
    "    # Adds another convolutional layer with 5 filters, each of size 3x3, using the same activation function and kernel initializer as specified before.\n",
    "    model.add(Conv2D(5, kernel_size=(3,3), activation=activation, kernel_initializer=initializer))\n",
    "    # Adds another max pooling layer to further downsample the input.\n",
    "    model.add(MaxPooling2D(pool_size=(2,2)))\n",
    "    # Flatten(): Flattens the input. This layer converts the 2D matrix of the feature map to a 1D vector, making it suitable for the fully connected layers.\n",
    "    model.add(Flatten())\n",
    "    # Dense(20, ...): Adds a dense (fully connected) layer with 128 neurons.\n",
    "    model.add(Dense(20, activation=activation, kernel_initializer=initializer))\n",
    "    # Dropout(0.5): Adds a dropout layer with a dropout rate of 0.5. During training, this layer randomly sets 50% of the input units to 0 at each update to prevent overfitting.\n",
    "    model.add(Dropout(0.5))\n",
    "    # activation=\"softmax\": Uses the softmax activation function, which outputs a probability distribution over the 10 classes, ensuring the sum of the outputs is 1.\n",
    "    model.add(Dense(10, activation=\"softmax\", kernel_initializer=initializer))\n",
    "    return model"
   ]
  },
  {
   "cell_type": "markdown",
   "metadata": {},
   "source": [
    "<!--  -->"
   ]
  },
  {
   "cell_type": "markdown",
   "metadata": {},
   "source": [
    "### Train and Evaluate Model"
   ]
  },
  {
   "cell_type": "code",
   "execution_count": 17,
   "metadata": {},
   "outputs": [],
   "source": [
    "def train_and_evaluate(activation, optimizer_class, learning_rate, initializer,\n",
    "                        X_train_images, y_train_labels,\n",
    "                        X_test_images, y_test_labels,\n",
    "                        num_epochs):\n",
    "    model = build_model(activation, initializer)\n",
    "    optimizer = optimizer_class(learning_rate=learning_rate, clipnorm=1.0) # Using gradient clipping with norm\n",
    "    model.compile(optimizer=optimizer, loss=\"categorical_crossentropy\", metrics=[\"accuracy\"])\n",
    "    history = model.fit(X_train_images, y_train_labels,\n",
    "                        epochs=num_epochs, batch_size=100,\n",
    "                        validation_data=(X_test_images, y_test_labels),\n",
    "                        verbose=1)\n",
    "    test_loss, test_accuracy = model.evaluate(X_test_images, y_test_labels, verbose=1)\n",
    "    return model, history.history[\"loss\"], test_loss, test_accuracy"
   ]
  },
  {
   "cell_type": "markdown",
   "metadata": {},
   "source": [
    "<!--  -->"
   ]
  },
  {
   "cell_type": "markdown",
   "metadata": {},
   "source": [
    "### Loss Over Epochs"
   ]
  },
  {
   "cell_type": "code",
   "execution_count": 19,
   "metadata": {},
   "outputs": [],
   "source": [
    "def plot_loss(num_epochs, losses, title):\n",
    "    sns.set_style(\"dark\")\n",
    "    plt.figure(figsize=(10, 6))\n",
    "    plt.plot(range(1, num_epochs+1), losses, \"b\", label=\"Train Loss\")\n",
    "    plt.xlabel(\"Epoch\")\n",
    "    plt.ylabel(\"Loss\")\n",
    "    plt.title(title)\n",
    "    plt.legend()\n",
    "    plt.show()"
   ]
  },
  {
   "cell_type": "markdown",
   "metadata": {},
   "source": [
    "<!--  -->"
   ]
  },
  {
   "cell_type": "markdown",
   "metadata": {},
   "source": [
    "### Weights Initialization"
   ]
  },
  {
   "cell_type": "code",
   "execution_count": 13,
   "metadata": {},
   "outputs": [],
   "source": [
    "initializer = tf.keras.initializers.HeNormal()"
   ]
  },
  {
   "cell_type": "markdown",
   "metadata": {},
   "source": [
    "<!--  -->"
   ]
  },
  {
   "cell_type": "markdown",
   "metadata": {},
   "source": [
    "### Model Hyperparameters"
   ]
  },
  {
   "cell_type": "code",
   "execution_count": 12,
   "metadata": {},
   "outputs": [],
   "source": [
    "num_epochs = 10\n",
    "activations = [\"relu\"]\n",
    "optimizer_specs = {\n",
    "    \"SGD\": {SGD, 0.05}\n",
    "}"
   ]
  },
  {
   "cell_type": "markdown",
   "metadata": {},
   "source": [
    "<!--  -->"
   ]
  },
  {
   "cell_type": "markdown",
   "metadata": {},
   "source": [
    "### Execute Training"
   ]
  },
  {
   "cell_type": "code",
   "execution_count": 20,
   "metadata": {},
   "outputs": [
    {
     "name": "stdout",
     "output_type": "stream",
     "text": [
      "Training model with {activation} activation and {opt_name} optimizer...\n",
      "Epoch 1/10\n",
      "\u001b[1m600/600\u001b[0m \u001b[32m━━━━━━━━━━━━━━━━━━━━\u001b[0m\u001b[37m\u001b[0m \u001b[1m4s\u001b[0m 5ms/step - accuracy: 0.3563 - loss: 1.7676 - val_accuracy: 0.8984 - val_loss: 0.4337\n",
      "Epoch 2/10\n",
      "\u001b[1m600/600\u001b[0m \u001b[32m━━━━━━━━━━━━━━━━━━━━\u001b[0m\u001b[37m\u001b[0m \u001b[1m2s\u001b[0m 3ms/step - accuracy: 0.7091 - loss: 0.8311 - val_accuracy: 0.9256 - val_loss: 0.2738\n",
      "Epoch 3/10\n",
      "\u001b[1m600/600\u001b[0m \u001b[32m━━━━━━━━━━━━━━━━━━━━\u001b[0m\u001b[37m\u001b[0m \u001b[1m2s\u001b[0m 3ms/step - accuracy: 0.7580 - loss: 0.6833 - val_accuracy: 0.9288 - val_loss: 0.2300\n",
      "Epoch 4/10\n",
      "\u001b[1m600/600\u001b[0m \u001b[32m━━━━━━━━━━━━━━━━━━━━\u001b[0m\u001b[37m\u001b[0m \u001b[1m2s\u001b[0m 3ms/step - accuracy: 0.7732 - loss: 0.6332 - val_accuracy: 0.9363 - val_loss: 0.2082\n",
      "Epoch 5/10\n",
      "\u001b[1m600/600\u001b[0m \u001b[32m━━━━━━━━━━━━━━━━━━━━\u001b[0m\u001b[37m\u001b[0m \u001b[1m2s\u001b[0m 3ms/step - accuracy: 0.7892 - loss: 0.5896 - val_accuracy: 0.9421 - val_loss: 0.1906\n",
      "Epoch 6/10\n",
      "\u001b[1m600/600\u001b[0m \u001b[32m━━━━━━━━━━━━━━━━━━━━\u001b[0m\u001b[37m\u001b[0m \u001b[1m2s\u001b[0m 3ms/step - accuracy: 0.7971 - loss: 0.5591 - val_accuracy: 0.9503 - val_loss: 0.1665\n",
      "Epoch 7/10\n",
      "\u001b[1m600/600\u001b[0m \u001b[32m━━━━━━━━━━━━━━━━━━━━\u001b[0m\u001b[37m\u001b[0m \u001b[1m2s\u001b[0m 3ms/step - accuracy: 0.8086 - loss: 0.5258 - val_accuracy: 0.9537 - val_loss: 0.1567\n",
      "Epoch 8/10\n",
      "\u001b[1m600/600\u001b[0m \u001b[32m━━━━━━━━━━━━━━━━━━━━\u001b[0m\u001b[37m\u001b[0m \u001b[1m2s\u001b[0m 4ms/step - accuracy: 0.8192 - loss: 0.4998 - val_accuracy: 0.9578 - val_loss: 0.1463\n",
      "Epoch 9/10\n",
      "\u001b[1m600/600\u001b[0m \u001b[32m━━━━━━━━━━━━━━━━━━━━\u001b[0m\u001b[37m\u001b[0m \u001b[1m2s\u001b[0m 4ms/step - accuracy: 0.8244 - loss: 0.4840 - val_accuracy: 0.9606 - val_loss: 0.1295\n",
      "Epoch 10/10\n",
      "\u001b[1m600/600\u001b[0m \u001b[32m━━━━━━━━━━━━━━━━━━━━\u001b[0m\u001b[37m\u001b[0m \u001b[1m3s\u001b[0m 4ms/step - accuracy: 0.8345 - loss: 0.4583 - val_accuracy: 0.9594 - val_loss: 0.1277\n",
      "\u001b[1m313/313\u001b[0m \u001b[32m━━━━━━━━━━━━━━━━━━━━\u001b[0m\u001b[37m\u001b[0m \u001b[1m1s\u001b[0m 2ms/step - accuracy: 0.9507 - loss: 0.1500\n"
     ]
    },
    {
     "data": {
      "image/png": "[encoded data removed]",
      "text/plain": [
       "<Figure size 1000x600 with 1 Axes>"
      ]
     },
     "metadata": {},
     "output_type": "display_data"
    },
    {
     "name": "stdout",
     "output_type": "stream",
     "text": [
      "\n",
      " Test Accuracy with relu activation and SGD optimizer:  0.96\n"
     ]
    }
   ],
   "source": [
    "for activation in activations:\n",
    "    \n",
    "    for opt_name, (optimizer_class, learning_rate) in optimizer_specs.items():\n",
    "        \n",
    "        print(\"Training model with {activation} activation and {opt_name} optimizer...\")\n",
    "        model, train_losses, test_losses, test_accuracy = train_and_evaluate(activation, \n",
    "                                                            optimizer_class, \n",
    "                                                            learning_rate,\n",
    "                                                            initializer,\n",
    "                                                            X_train_images, \n",
    "                                                            y_train_labels,\n",
    "                                                            X_test_images, \n",
    "                                                            y_test_labels,\n",
    "                                                            num_epochs)\n",
    "        \n",
    "        # Train Loss\n",
    "        plot_loss(num_epochs, train_losses, f\"Loss over Epochs ({activation} + {opt_name})\")\n",
    "        \n",
    "        # Test Accuracy \n",
    "        print(f\"\\n Test Accuracy with {activation} activation and {opt_name} optimizer: {test_accuracy: .2f}\")"
   ]
  },
  {
   "cell_type": "markdown",
   "metadata": {},
   "source": [
    "<!--  -->"
   ]
  },
  {
   "cell_type": "markdown",
   "metadata": {},
   "source": [
    "### Model Prediction"
   ]
  },
  {
   "cell_type": "code",
   "execution_count": 21,
   "metadata": {},
   "outputs": [
    {
     "name": "stdout",
     "output_type": "stream",
     "text": [
      "\u001b[1m1/1\u001b[0m \u001b[32m━━━━━━━━━━━━━━━━━━━━\u001b[0m\u001b[37m\u001b[0m \u001b[1m0s\u001b[0m 99ms/step\n",
      "\n",
      "True Label: 6\n",
      "\n",
      "Prediction Label: 6\n"
     ]
    }
   ],
   "source": [
    "# Test Prediction on One Image\n",
    "index = np.random.randint(0, X_test_images.shape[0])\n",
    "test_image = X_test_images[index]\n",
    "true_label = np.argmax(y_test_labels[index])\n",
    "\n",
    "# Add batch dimension (1, 28, 28, 1)\n",
    "test_image_batch = np.expand_dims(test_image, axis=0)\n",
    "\n",
    "# Make prediction\n",
    "prediction = model.predict(test_image_batch)\n",
    "prediction_label = np.argmax(prediction)\n",
    "\n",
    "print(f\"\\nTrue Label: {true_label}\")\n",
    "print(f\"\\nPrediction Label: {prediction_label}\")"
   ]
  },
  {
   "cell_type": "code",
   "execution_count": 22,
   "metadata": {},
   "outputs": [
    {
     "data": {
      "image/png": "[encoded data removed]",
      "text/plain": [
       "<Figure size 600x300 with 2 Axes>"
      ]
     },
     "metadata": {},
     "output_type": "display_data"
    }
   ],
   "source": [
    "# Plot actual image vs predicted label\n",
    "plt.figure(figsize=(6, 3))\n",
    "\n",
    "plt.subplot(1, 2, 1)\n",
    "plt.imshow(test_image.squeeze(), cmap=\"gray\")\n",
    "plt.title(f\"Actual: {true_label}\")\n",
    "\n",
    "plt.subplot(1, 2, 2)\n",
    "plt.imshow(test_image.squeeze(), cmap=\"gray\")\n",
    "plt.title(f\"Predicted: {prediction_label}\")\n",
    "\n",
    "plt.show()"
   ]
  }
 ],
 "metadata": {
  "kernelspec": {
   "display_name": "data_science_env",
   "language": "python",
   "name": "python3"
  },
  "language_info": {
   "codemirror_mode": {
    "name": "ipython",
    "version": 3
   },
   "file_extension": ".py",
   "mimetype": "text/x-python",
   "name": "python",
   "nbconvert_exporter": "python",
   "pygments_lexer": "ipython3",
   "version": "3.12.3"
  }
 },
 "nbformat": 4,
 "nbformat_minor": 2
}
