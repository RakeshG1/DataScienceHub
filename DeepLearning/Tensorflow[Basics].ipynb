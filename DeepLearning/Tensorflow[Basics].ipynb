{
 "cells": [
  {
   "cell_type": "markdown",
   "metadata": {},
   "source": [
    "### Import Libraries"
   ]
  },
  {
   "cell_type": "code",
   "execution_count": 1,
   "metadata": {
    "metadata": {}
   },
   "outputs": [],
   "source": [
    "import tensorflow as tf"
   ]
  },
  {
   "cell_type": "markdown",
   "metadata": {},
   "source": [
    "- **Version Check**"
   ]
  },
  {
   "cell_type": "code",
   "execution_count": 2,
   "metadata": {
    "metadata": {}
   },
   "outputs": [
    {
     "name": "stdout",
     "output_type": "stream",
     "text": [
      "2.16.2\n"
     ]
    }
   ],
   "source": [
    "print(tf.__version__)"
   ]
  },
  {
   "cell_type": "markdown",
   "metadata": {},
   "source": [
    "<!-- -->"
   ]
  },
  {
   "cell_type": "markdown",
   "metadata": {},
   "source": [
    "### Basics"
   ]
  },
  {
   "cell_type": "markdown",
   "metadata": {},
   "source": [
    "- #### Two Dimensional Array/Tensor\n",
    "\n",
    "Note: In Tensorflow n-dimensional array is known and stored as Tensor object like below."
   ]
  },
  {
   "cell_type": "code",
   "execution_count": 3,
   "metadata": {
    "metadata": {}
   },
   "outputs": [
    {
     "name": "stdout",
     "output_type": "stream",
     "text": [
      "<class 'tensorflow.python.framework.ops.EagerTensor'>\n",
      "tf.Tensor(\n",
      "[[10. 20. 30.]\n",
      " [40. 50. 60.]], shape=(2, 3), dtype=float32)\n",
      "(2, 3)\n",
      "<dtype: 'float32'>\n"
     ]
    }
   ],
   "source": [
    "# col1, col2, col3\n",
    "x = tf.constant([[10., 20., 30.], # row1\n",
    "                [40., 50., 60]] # row2\n",
    "                )\n",
    "\n",
    "print(type(x)) # n-dimensional array stored as internal tensor object\n",
    "print(x)\n",
    "print(x.shape)\n",
    "print(x.dtype)"
   ]
  },
  {
   "cell_type": "markdown",
   "metadata": {},
   "source": [
    "- **Mathematical Operations**"
   ]
  },
  {
   "cell_type": "code",
   "execution_count": 4,
   "metadata": {},
   "outputs": [
    {
     "name": "stdout",
     "output_type": "stream",
     "text": [
      "tf.Tensor(\n",
      "[[ 20.  40.  60.]\n",
      " [ 80. 100. 120.]], shape=(2, 3), dtype=float32)\n",
      "(2, 3)\n"
     ]
    }
   ],
   "source": [
    "# Adding n-dimensional tensor with same values \n",
    "x_add = x + x\n",
    "\n",
    "print(x_add)\n",
    "print(x_add.shape)"
   ]
  },
  {
   "cell_type": "code",
   "execution_count": 7,
   "metadata": {},
   "outputs": [
    {
     "name": "stdout",
     "output_type": "stream",
     "text": [
      "tf.Tensor(\n",
      "[[ 50. 100. 150.]\n",
      " [200. 250. 300.]], shape=(2, 3), dtype=float32)\n",
      "(2, 3)\n"
     ]
    }
   ],
   "source": [
    "# Multiplying n-dimensional tensor with constant value\n",
    "x_ml_c = x * 5\n",
    "\n",
    "print(x_ml_c)\n",
    "print(x_ml_c.shape)"
   ]
  },
  {
   "cell_type": "code",
   "execution_count": 24,
   "metadata": {},
   "outputs": [
    {
     "name": "stdout",
     "output_type": "stream",
     "text": [
      "tf.Tensor(\n",
      "[[10. 20. 30.]\n",
      " [40. 50. 60.]], shape=(2, 3), dtype=float32)\n",
      "tf.Tensor(\n",
      "[[10. 40.]\n",
      " [20. 50.]\n",
      " [30. 60.]], shape=(3, 2), dtype=float32)\n",
      "tf.Tensor(\n",
      "[[1400. 3200.]\n",
      " [3200. 7700.]], shape=(2, 2), dtype=float32) \n",
      "\n",
      "\n",
      "Dot Product / Matrix Multiplication\n",
      "(2, 2) \n",
      "\n",
      "\n",
      "Explanation of matrix matrix multiplication\n",
      "x[00]position: 1400.0\n",
      "x[01]position: 3200.0\n",
      "x[10]position: 3200.0\n",
      "x[11]position: 7700.0\n"
     ]
    }
   ],
   "source": [
    "# Dot product of n-dimensional tensor with same values i.e., matrix multiplication --> sum(row * column)\n",
    "x_dot_product = x @ tf.transpose(x)\n",
    "\n",
    "print(x)\n",
    "print(tf.transpose(x))\n",
    "print(x_dot_product, \"\\n\\n\")\n",
    "print(\"Dot Product / Matrix Multiplication\")\n",
    "print(x_dot_product.shape, \"\\n\\n\")\n",
    "\n",
    "# Explanation of matrix matrix multiplication\n",
    "print(\"Explanation of matrix matrix multiplication\")\n",
    "print(\"x[00]position:\", (10.*10.) + (20.*20.) + (30.*30.))\n",
    "print(\"x[01]position:\", (10.*40.) + (20.*50.) + (30.*60.))\n",
    "print(\"x[10]position:\", (40.*10.) + (50.*20.) + (60.*30.))\n",
    "print(\"x[11]position:\", (40.*40.) + (50.*50.) + (60.*60.))"
   ]
  },
  {
   "cell_type": "code",
   "execution_count": 28,
   "metadata": {},
   "outputs": [
    {
     "name": "stdout",
     "output_type": "stream",
     "text": [
      "tf.Tensor(\n",
      "[[10. 20. 30.]\n",
      " [40. 50. 60.]], shape=(2, 3), dtype=float32)\n",
      "(2, 3)\n",
      "tf.Tensor(\n",
      "[[10. 20. 30.]\n",
      " [40. 50. 60.]\n",
      " [10. 20. 30.]\n",
      " [40. 50. 60.]], shape=(4, 3), dtype=float32)\n",
      "(4, 3)\n"
     ]
    }
   ],
   "source": [
    "# Data Concat\n",
    "x_concat = tf.concat([x,x], axis=0) # Row wise addition\n",
    "\n",
    "print(x)\n",
    "print(x.shape)\n",
    "print(x_concat)\n",
    "print(x_concat.shape)"
   ]
  },
  {
   "cell_type": "code",
   "execution_count": 29,
   "metadata": {},
   "outputs": [
    {
     "data": {
      "text/plain": [
       "<tf.Tensor: shape=(2, 3), dtype=float32, numpy=\n",
       "array([[2.0610598e-09, 4.5397872e-05, 9.9995458e-01],\n",
       "       [2.0610598e-09, 4.5397872e-05, 9.9995458e-01]], dtype=float32)>"
      ]
     },
     "execution_count": 29,
     "metadata": {},
     "output_type": "execute_result"
    }
   ],
   "source": [
    "tf.nn.softmax(x, axis=-1)"
   ]
  },
  {
   "cell_type": "code",
   "execution_count": null,
   "metadata": {},
   "outputs": [],
   "source": []
  }
 ],
 "metadata": {
  "kernelspec": {
   "display_name": "data_science_env",
   "language": "python",
   "name": "python3"
  },
  "language_info": {
   "codemirror_mode": {
    "name": "ipython",
    "version": 3
   },
   "file_extension": ".py",
   "mimetype": "text/x-python",
   "name": "python",
   "nbconvert_exporter": "python",
   "pygments_lexer": "ipython3",
   "version": "3.12.3"
  }
 },
 "nbformat": 4,
 "nbformat_minor": 2
}
