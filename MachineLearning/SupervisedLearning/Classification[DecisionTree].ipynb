{
 "cells": [
  {
   "cell_type": "markdown",
   "metadata": {},
   "source": [
    "### Import Libraries"
   ]
  },
  {
   "cell_type": "code",
   "execution_count": 27,
   "metadata": {},
   "outputs": [],
   "source": [
    "import pandas as pd \n",
    "import numpy as np\n",
    "import math\n",
    "import os\n",
    "import seaborn as sns\n",
    "import matplotlib.pyplot as plt \n",
    "import warnings\n",
    "from sklearn.tree import DecisionTreeClassifier\n",
    "from sklearn.model_selection import train_test_split\n",
    "from sklearn.tree import plot_tree\n",
    "from sklearn import metrics\n",
    "from sklearn.preprocessing import LabelEncoder\n",
    "\n",
    "warnings.filterwarnings(\"ignore\")\n",
    "%matplotlib inline"
   ]
  },
  {
   "cell_type": "markdown",
   "metadata": {},
   "source": [
    "<!--  -->"
   ]
  },
  {
   "cell_type": "markdown",
   "metadata": {},
   "source": [
    "### Sample Data"
   ]
  },
  {
   "cell_type": "code",
   "execution_count": 28,
   "metadata": {},
   "outputs": [],
   "source": [
    "# Storing into Dataframe\n",
    "file_path = os.getcwd()+\"\\\\Data\\\\tennis.csv\"\n",
    "df_tennis_data = pd.read_csv(file_path, usecols=[\"outlook\",\"temp\",\"humidity\",\"windy\",\"play\"])"
   ]
  },
  {
   "cell_type": "markdown",
   "metadata": {},
   "source": [
    "<!--  -->"
   ]
  },
  {
   "cell_type": "markdown",
   "metadata": {},
   "source": [
    "### Descriptive Analysis"
   ]
  },
  {
   "cell_type": "code",
   "execution_count": 29,
   "metadata": {},
   "outputs": [
    {
     "name": "stdout",
     "output_type": "stream",
     "text": [
      "  outlook temp humidity  windy play\n",
      "0   sunny  hot     high  False   no\n",
      "1   sunny  hot     high   True   no \n",
      "\n",
      "Columns: ['outlook', 'temp', 'humidity', 'windy', 'play']\n",
      "\n",
      "Data shape: (14, 5)\n",
      "\n",
      "<class 'pandas.core.frame.DataFrame'>\n",
      "RangeIndex: 14 entries, 0 to 13\n",
      "Data columns (total 5 columns):\n",
      " #   Column    Non-Null Count  Dtype \n",
      "---  ------    --------------  ----- \n",
      " 0   outlook   14 non-null     object\n",
      " 1   temp      14 non-null     object\n",
      " 2   humidity  14 non-null     object\n",
      " 3   windy     14 non-null     bool  \n",
      " 4   play      14 non-null     object\n",
      "dtypes: bool(1), object(4)\n",
      "memory usage: 594.0+ bytes\n",
      "None \n",
      "\n",
      "Missing Records per Column:\n",
      "--------------------\n",
      "outlook     0\n",
      "temp        0\n",
      "humidity    0\n",
      "windy       0\n",
      "play        0\n",
      "dtype: int64\n"
     ]
    },
    {
     "data": {
      "text/html": [
       "<div>\n",
       "<style scoped>\n",
       "    .dataframe tbody tr th:only-of-type {\n",
       "        vertical-align: middle;\n",
       "    }\n",
       "\n",
       "    .dataframe tbody tr th {\n",
       "        vertical-align: top;\n",
       "    }\n",
       "\n",
       "    .dataframe thead th {\n",
       "        text-align: right;\n",
       "    }\n",
       "</style>\n",
       "<table border=\"1\" class=\"dataframe\">\n",
       "  <thead>\n",
       "    <tr style=\"text-align: right;\">\n",
       "      <th></th>\n",
       "      <th>outlook</th>\n",
       "      <th>temp</th>\n",
       "      <th>humidity</th>\n",
       "      <th>windy</th>\n",
       "      <th>play</th>\n",
       "    </tr>\n",
       "  </thead>\n",
       "  <tbody>\n",
       "    <tr>\n",
       "      <th>count</th>\n",
       "      <td>14</td>\n",
       "      <td>14</td>\n",
       "      <td>14</td>\n",
       "      <td>14</td>\n",
       "      <td>14</td>\n",
       "    </tr>\n",
       "    <tr>\n",
       "      <th>unique</th>\n",
       "      <td>3</td>\n",
       "      <td>3</td>\n",
       "      <td>2</td>\n",
       "      <td>2</td>\n",
       "      <td>2</td>\n",
       "    </tr>\n",
       "    <tr>\n",
       "      <th>top</th>\n",
       "      <td>sunny</td>\n",
       "      <td>mild</td>\n",
       "      <td>high</td>\n",
       "      <td>False</td>\n",
       "      <td>yes</td>\n",
       "    </tr>\n",
       "    <tr>\n",
       "      <th>freq</th>\n",
       "      <td>5</td>\n",
       "      <td>6</td>\n",
       "      <td>7</td>\n",
       "      <td>8</td>\n",
       "      <td>9</td>\n",
       "    </tr>\n",
       "  </tbody>\n",
       "</table>\n",
       "</div>"
      ],
      "text/plain": [
       "       outlook  temp humidity  windy play\n",
       "count       14    14       14     14   14\n",
       "unique       3     3        2      2    2\n",
       "top      sunny  mild     high  False  yes\n",
       "freq         5     6        7      8    9"
      ]
     },
     "execution_count": 29,
     "metadata": {},
     "output_type": "execute_result"
    }
   ],
   "source": [
    "print(df_tennis_data.head(2),\"\\n\")\n",
    "print(\"Columns: {}\\n\".format(df_tennis_data.columns.to_list()))\n",
    "print(\"Data shape: {}\\n\".format(df_tennis_data.shape))\n",
    "print(df_tennis_data.info(),\"\\n\")\n",
    "print(\"Missing Records per Column:\")\n",
    "print(\"--\"*10)\n",
    "print(df_tennis_data.isnull().sum()) # Missing values per Column\n",
    "df_tennis_data.describe(include=\"all\") # Stats"
   ]
  },
  {
   "cell_type": "code",
   "execution_count": 30,
   "metadata": {},
   "outputs": [
    {
     "data": {
      "text/html": [
       "<div>\n",
       "<style scoped>\n",
       "    .dataframe tbody tr th:only-of-type {\n",
       "        vertical-align: middle;\n",
       "    }\n",
       "\n",
       "    .dataframe tbody tr th {\n",
       "        vertical-align: top;\n",
       "    }\n",
       "\n",
       "    .dataframe thead th {\n",
       "        text-align: right;\n",
       "    }\n",
       "</style>\n",
       "<table border=\"1\" class=\"dataframe\">\n",
       "  <thead>\n",
       "    <tr style=\"text-align: right;\">\n",
       "      <th></th>\n",
       "      <th>outlook</th>\n",
       "      <th>temp</th>\n",
       "      <th>humidity</th>\n",
       "      <th>windy</th>\n",
       "      <th>play</th>\n",
       "    </tr>\n",
       "  </thead>\n",
       "  <tbody>\n",
       "    <tr>\n",
       "      <th>0</th>\n",
       "      <td>sunny</td>\n",
       "      <td>hot</td>\n",
       "      <td>high</td>\n",
       "      <td>False</td>\n",
       "      <td>no</td>\n",
       "    </tr>\n",
       "    <tr>\n",
       "      <th>1</th>\n",
       "      <td>sunny</td>\n",
       "      <td>hot</td>\n",
       "      <td>high</td>\n",
       "      <td>True</td>\n",
       "      <td>no</td>\n",
       "    </tr>\n",
       "    <tr>\n",
       "      <th>2</th>\n",
       "      <td>overcast</td>\n",
       "      <td>hot</td>\n",
       "      <td>high</td>\n",
       "      <td>False</td>\n",
       "      <td>yes</td>\n",
       "    </tr>\n",
       "    <tr>\n",
       "      <th>3</th>\n",
       "      <td>rainy</td>\n",
       "      <td>mild</td>\n",
       "      <td>high</td>\n",
       "      <td>False</td>\n",
       "      <td>yes</td>\n",
       "    </tr>\n",
       "    <tr>\n",
       "      <th>4</th>\n",
       "      <td>rainy</td>\n",
       "      <td>cool</td>\n",
       "      <td>normal</td>\n",
       "      <td>False</td>\n",
       "      <td>yes</td>\n",
       "    </tr>\n",
       "    <tr>\n",
       "      <th>5</th>\n",
       "      <td>rainy</td>\n",
       "      <td>cool</td>\n",
       "      <td>normal</td>\n",
       "      <td>True</td>\n",
       "      <td>no</td>\n",
       "    </tr>\n",
       "    <tr>\n",
       "      <th>6</th>\n",
       "      <td>overcast</td>\n",
       "      <td>cool</td>\n",
       "      <td>normal</td>\n",
       "      <td>True</td>\n",
       "      <td>yes</td>\n",
       "    </tr>\n",
       "    <tr>\n",
       "      <th>7</th>\n",
       "      <td>sunny</td>\n",
       "      <td>mild</td>\n",
       "      <td>high</td>\n",
       "      <td>False</td>\n",
       "      <td>no</td>\n",
       "    </tr>\n",
       "    <tr>\n",
       "      <th>8</th>\n",
       "      <td>sunny</td>\n",
       "      <td>cool</td>\n",
       "      <td>normal</td>\n",
       "      <td>False</td>\n",
       "      <td>yes</td>\n",
       "    </tr>\n",
       "    <tr>\n",
       "      <th>9</th>\n",
       "      <td>rainy</td>\n",
       "      <td>mild</td>\n",
       "      <td>normal</td>\n",
       "      <td>False</td>\n",
       "      <td>yes</td>\n",
       "    </tr>\n",
       "    <tr>\n",
       "      <th>10</th>\n",
       "      <td>sunny</td>\n",
       "      <td>mild</td>\n",
       "      <td>normal</td>\n",
       "      <td>True</td>\n",
       "      <td>yes</td>\n",
       "    </tr>\n",
       "    <tr>\n",
       "      <th>11</th>\n",
       "      <td>overcast</td>\n",
       "      <td>mild</td>\n",
       "      <td>high</td>\n",
       "      <td>True</td>\n",
       "      <td>yes</td>\n",
       "    </tr>\n",
       "    <tr>\n",
       "      <th>12</th>\n",
       "      <td>overcast</td>\n",
       "      <td>hot</td>\n",
       "      <td>normal</td>\n",
       "      <td>False</td>\n",
       "      <td>yes</td>\n",
       "    </tr>\n",
       "    <tr>\n",
       "      <th>13</th>\n",
       "      <td>rainy</td>\n",
       "      <td>mild</td>\n",
       "      <td>high</td>\n",
       "      <td>True</td>\n",
       "      <td>no</td>\n",
       "    </tr>\n",
       "  </tbody>\n",
       "</table>\n",
       "</div>"
      ],
      "text/plain": [
       "     outlook  temp humidity  windy play\n",
       "0      sunny   hot     high  False   no\n",
       "1      sunny   hot     high   True   no\n",
       "2   overcast   hot     high  False  yes\n",
       "3      rainy  mild     high  False  yes\n",
       "4      rainy  cool   normal  False  yes\n",
       "5      rainy  cool   normal   True   no\n",
       "6   overcast  cool   normal   True  yes\n",
       "7      sunny  mild     high  False   no\n",
       "8      sunny  cool   normal  False  yes\n",
       "9      rainy  mild   normal  False  yes\n",
       "10     sunny  mild   normal   True  yes\n",
       "11  overcast  mild     high   True  yes\n",
       "12  overcast   hot   normal  False  yes\n",
       "13     rainy  mild     high   True   no"
      ]
     },
     "execution_count": 30,
     "metadata": {},
     "output_type": "execute_result"
    }
   ],
   "source": [
    "df_tennis_data"
   ]
  },
  {
   "cell_type": "markdown",
   "metadata": {},
   "source": [
    "<!--  -->"
   ]
  },
  {
   "cell_type": "markdown",
   "metadata": {},
   "source": [
    "### EDA"
   ]
  },
  {
   "cell_type": "markdown",
   "metadata": {},
   "source": [
    "- Play Data Distribution (Counts)"
   ]
  },
  {
   "cell_type": "code",
   "execution_count": 31,
   "metadata": {},
   "outputs": [
    {
     "data": {
      "image/png": "[encoded data removed]",
      "text/plain": [
       "<Figure size 1000x500 with 1 Axes>"
      ]
     },
     "metadata": {},
     "output_type": "display_data"
    }
   ],
   "source": [
    "df_counts = df_tennis_data.groupby(\"play\")[\"play\"].value_counts().reset_index()\n",
    "\n",
    "# Plot\n",
    "sns.set_style(\"dark\")\n",
    "fig, axes = plt.subplots(nrows=1, ncols=1, figsize=(10,5))\n",
    "sns.barplot(x=\"play\", y=\"count\", data=df_counts, hue=\"play\", legend=True, ax=axes)\n",
    "axes.set_title(\"Play Distribution (Counts)\", size=15)\n",
    "axes.set_xlabel(\"Play\", size=12)\n",
    "axes.set_ylabel(\"Count\", size=12)\n",
    "plt.show()"
   ]
  },
  {
   "cell_type": "markdown",
   "metadata": {},
   "source": [
    "- Outlook Data Distribution (Counts)"
   ]
  },
  {
   "cell_type": "code",
   "execution_count": 32,
   "metadata": {},
   "outputs": [
    {
     "data": {
      "image/png": "[encoded data removed]",
      "text/plain": [
       "<Figure size 1500x500 with 4 Axes>"
      ]
     },
     "metadata": {},
     "output_type": "display_data"
    }
   ],
   "source": [
    "# Plot\n",
    "sns.set_style(\"dark\")\n",
    "fig, axes = plt.subplots(nrows=2, ncols=2, figsize=(15,5))\n",
    "\n",
    "df_counts = df_tennis_data.groupby(\"outlook\")[\"play\"].value_counts().reset_index()\n",
    "sns.barplot(x=\"outlook\", y=\"count\", data=df_counts, hue=\"play\", legend=True, ax=axes[0][0])\n",
    "axes[0][0].set_title(\"Outlook\", size=15)\n",
    "axes[0][0].set_xlabel(\"Play\", size=12)\n",
    "axes[0][0].set_ylabel(\"Count\", size=12)\n",
    "\n",
    "df_counts = df_tennis_data.groupby(\"temp\")[\"play\"].value_counts().reset_index()\n",
    "sns.barplot(x=\"temp\", y=\"count\", data=df_counts, hue=\"play\", legend=True, ax=axes[0][1])\n",
    "axes[0][1].set_title(\"Temp\", size=15)\n",
    "axes[0][1].set_xlabel(\"Play\", size=12)\n",
    "axes[0][1].set_ylabel(\"Count\", size=12)\n",
    "\n",
    "df_counts = df_tennis_data.groupby(\"humidity\")[\"play\"].value_counts().reset_index()\n",
    "sns.barplot(x=\"humidity\", y=\"count\", data=df_counts, hue=\"play\", legend=True, ax=axes[1][0])\n",
    "axes[1][0].set_title(\"Humidity\", size=15)\n",
    "axes[1][0].set_xlabel(\"Play\", size=12)\n",
    "axes[1][0].set_ylabel(\"Count\", size=12)\n",
    "\n",
    "df_counts = df_tennis_data.groupby(\"windy\")[\"play\"].value_counts().reset_index()\n",
    "sns.barplot(x=\"windy\", y=\"count\", data=df_counts, hue=\"play\", legend=True, ax=axes[1][1])\n",
    "axes[1][1].set_title(\"Windy\", size=15)\n",
    "axes[1][1].set_xlabel(\"Play\", size=12)\n",
    "axes[1][1].set_ylabel(\"Count\", size=12)\n",
    "\n",
    "plt.grid(True)\n",
    "plt.tight_layout()\n",
    "plt.show()"
   ]
  },
  {
   "cell_type": "markdown",
   "metadata": {},
   "source": [
    "<!--  -->"
   ]
  },
  {
   "cell_type": "markdown",
   "metadata": {},
   "source": [
    "### Entropy Calculation: On Whole Target Classes"
   ]
  },
  {
   "cell_type": "code",
   "execution_count": 35,
   "metadata": {},
   "outputs": [],
   "source": [
    "def calculate_entropy(df):\n",
    "    print(\"--\"*15)\n",
    "    print(\"Entropy\")\n",
    "    print(\"--\"*15)\n",
    "    # Store target class counts\n",
    "    class_counts = {}\n",
    "    for index, row in df.iterrows():\n",
    "        target_class = row[\"play\"]\n",
    "        class_counts[target_class] = class_counts.get(target_class, 0) + 1 # , 0 => handles empty/null values\n",
    "    total_counts = len(df)\n",
    "    print(\"     >> class counts --> \", class_counts)\n",
    "    print(\"     >> total counts --> \", total_counts)\n",
    "\n",
    "    # Calculate target class probabilities\n",
    "    class_probabilities = {cls: round(count / total_counts,2) for cls, count in class_counts.items()}\n",
    "    print(\"     >> class probabilities --> \", class_probabilities,\"\\n\")\n",
    "\n",
    "    # Calculate Entropy\n",
    "    entropy = 0\n",
    "    for p_value in class_probabilities.values(): # Iterate through each class probability value\n",
    "        if p_value > 0:\n",
    "            # Entropy = -Σ [p(i) * log2(p(i))]\n",
    "            entropy -= p_value * math.log2(p_value)\n",
    "    return round(entropy, 2)"
   ]
  },
  {
   "cell_type": "markdown",
   "metadata": {},
   "source": [
    "- Total Entropy calculation on all Target classes"
   ]
  },
  {
   "cell_type": "code",
   "execution_count": 36,
   "metadata": {},
   "outputs": [
    {
     "name": "stdout",
     "output_type": "stream",
     "text": [
      "------------------------------\n",
      "Entropy\n",
      "------------------------------\n",
      "     >> class counts -->  {'no': 5, 'yes': 9}\n",
      "     >> total counts -->  14\n",
      "     >> class probabilities -->  {'no': 0.36, 'yes': 0.64} \n",
      "\n",
      "entropy value --> 0.94\n"
     ]
    }
   ],
   "source": [
    "entropy_value = calculate_entropy(df_tennis_data)\n",
    "print(\"entropy value -->\", entropy_value)"
   ]
  },
  {
   "cell_type": "markdown",
   "metadata": {},
   "source": [
    "<!--  -->"
   ]
  },
  {
   "cell_type": "markdown",
   "metadata": {},
   "source": [
    "### Information Gain Calculation: On One Attribute ex:- [outlook]"
   ]
  },
  {
   "cell_type": "code",
   "execution_count": 37,
   "metadata": {},
   "outputs": [],
   "source": [
    "def calculate_information_gain(df, attribute):\n",
    "    # Calculate initial entropy of the entire dataset\n",
    "    entropy_value = calculate_entropy(df)\n",
    "    print(\"entropy value -->\", entropy_value)\n",
    "\n",
    "    # Store information gain for each attribute\n",
    "    attribute_information_gain = {}\n",
    "\n",
    "    # Iterate through unique values of given attribute\n",
    "    attribute_unique_values = set([row[attribute] for index, row in df.iterrows()])\n",
    "    print(\"attribute unique values -->\", attribute_unique_values, \"\\n\")\n",
    "    for value in attribute_unique_values:\n",
    "        \n",
    "        print(\"  *\"*15)\n",
    "        print(\"    >> attribute unique value -->\", value)\n",
    "        print(\"  *\"*15)\n",
    "        # Subset data based on attribute unique value\n",
    "        df_subset = df[df[attribute] == value]\n",
    "\n",
    "        # Calculate entropy for this subset data\n",
    "        subset_entropy_value = calculate_entropy(df_subset)\n",
    "        print(\"    >> subset entropy value -->\", subset_entropy_value)\n",
    "\n",
    "        # Proportion of this subset based on whole data\n",
    "        subset_proportion = round(len(df_subset) / len(df), 2)\n",
    "        print(\"    >> subset proportion -->\", subset_proportion)\n",
    "\n",
    "        # Information gain for given attribute unique value\n",
    "        # Information Gain(S, A) = Entropy(S) - Σ [ |S_v| / |S| * Entropy(S_v) ]\n",
    "        attribute_information_gain[value] = round((subset_proportion * subset_entropy_value),2)\n",
    "    \n",
    "    # Attribute final information gain of all unique values\n",
    "    print(\"    >> attribute information gain -->\", attribute_information_gain, \"\\n\")\n",
    "    total_information_gain = round(entropy_value - (sum(attribute_information_gain.values())), 2)\n",
    "\n",
    "    return total_information_gain"
   ]
  },
  {
   "cell_type": "markdown",
   "metadata": {},
   "source": [
    "- outlook"
   ]
  },
  {
   "cell_type": "code",
   "execution_count": 38,
   "metadata": {},
   "outputs": [
    {
     "name": "stdout",
     "output_type": "stream",
     "text": [
      "------------------------------\n",
      "Entropy\n",
      "------------------------------\n",
      "     >> class counts -->  {'no': 5, 'yes': 9}\n",
      "     >> total counts -->  14\n",
      "     >> class probabilities -->  {'no': 0.36, 'yes': 0.64} \n",
      "\n",
      "entropy value --> 0.94\n",
      "attribute unique values --> {'overcast', 'rainy', 'sunny'} \n",
      "\n",
      "  *  *  *  *  *  *  *  *  *  *  *  *  *  *  *\n",
      "    >> attribute unique value --> overcast\n",
      "  *  *  *  *  *  *  *  *  *  *  *  *  *  *  *\n",
      "------------------------------\n",
      "Entropy\n",
      "------------------------------\n",
      "     >> class counts -->  {'yes': 4}\n",
      "     >> total counts -->  4\n",
      "     >> class probabilities -->  {'yes': 1.0} \n",
      "\n",
      "    >> subset entropy value --> 0.0\n",
      "    >> subset proportion --> 0.29\n",
      "  *  *  *  *  *  *  *  *  *  *  *  *  *  *  *\n",
      "    >> attribute unique value --> rainy\n",
      "  *  *  *  *  *  *  *  *  *  *  *  *  *  *  *\n",
      "------------------------------\n",
      "Entropy\n",
      "------------------------------\n",
      "     >> class counts -->  {'yes': 3, 'no': 2}\n",
      "     >> total counts -->  5\n",
      "     >> class probabilities -->  {'yes': 0.6, 'no': 0.4} \n",
      "\n",
      "    >> subset entropy value --> 0.97\n",
      "    >> subset proportion --> 0.36\n",
      "  *  *  *  *  *  *  *  *  *  *  *  *  *  *  *\n",
      "    >> attribute unique value --> sunny\n",
      "  *  *  *  *  *  *  *  *  *  *  *  *  *  *  *\n",
      "------------------------------\n",
      "Entropy\n",
      "------------------------------\n",
      "     >> class counts -->  {'no': 3, 'yes': 2}\n",
      "     >> total counts -->  5\n",
      "     >> class probabilities -->  {'no': 0.6, 'yes': 0.4} \n",
      "\n",
      "    >> subset entropy value --> 0.97\n",
      "    >> subset proportion --> 0.36\n",
      "    >> attribute information gain --> {'overcast': 0.0, 'rainy': 0.35, 'sunny': 0.35} \n",
      "\n",
      "outlook attribute information gain -->  0.24\n"
     ]
    }
   ],
   "source": [
    "information_gain = calculate_information_gain(df_tennis_data, \"outlook\")\n",
    "print(f\"{\"outlook\"} attribute information gain --> \", information_gain)"
   ]
  },
  {
   "cell_type": "markdown",
   "metadata": {},
   "source": [
    "- temp"
   ]
  },
  {
   "cell_type": "code",
   "execution_count": 39,
   "metadata": {},
   "outputs": [
    {
     "name": "stdout",
     "output_type": "stream",
     "text": [
      "------------------------------\n",
      "Entropy\n",
      "------------------------------\n",
      "     >> class counts -->  {'no': 5, 'yes': 9}\n",
      "     >> total counts -->  14\n",
      "     >> class probabilities -->  {'no': 0.36, 'yes': 0.64} \n",
      "\n",
      "entropy value --> 0.94\n",
      "attribute unique values --> {'cool', 'mild', 'hot'} \n",
      "\n",
      "  *  *  *  *  *  *  *  *  *  *  *  *  *  *  *\n",
      "    >> attribute unique value --> cool\n",
      "  *  *  *  *  *  *  *  *  *  *  *  *  *  *  *\n",
      "------------------------------\n",
      "Entropy\n",
      "------------------------------\n",
      "     >> class counts -->  {'yes': 3, 'no': 1}\n",
      "     >> total counts -->  4\n",
      "     >> class probabilities -->  {'yes': 0.75, 'no': 0.25} \n",
      "\n",
      "    >> subset entropy value --> 0.81\n",
      "    >> subset proportion --> 0.29\n",
      "  *  *  *  *  *  *  *  *  *  *  *  *  *  *  *\n",
      "    >> attribute unique value --> mild\n",
      "  *  *  *  *  *  *  *  *  *  *  *  *  *  *  *\n",
      "------------------------------\n",
      "Entropy\n",
      "------------------------------\n",
      "     >> class counts -->  {'yes': 4, 'no': 2}\n",
      "     >> total counts -->  6\n",
      "     >> class probabilities -->  {'yes': 0.67, 'no': 0.33} \n",
      "\n",
      "    >> subset entropy value --> 0.91\n",
      "    >> subset proportion --> 0.43\n",
      "  *  *  *  *  *  *  *  *  *  *  *  *  *  *  *\n",
      "    >> attribute unique value --> hot\n",
      "  *  *  *  *  *  *  *  *  *  *  *  *  *  *  *\n",
      "------------------------------\n",
      "Entropy\n",
      "------------------------------\n",
      "     >> class counts -->  {'no': 2, 'yes': 2}\n",
      "     >> total counts -->  4\n",
      "     >> class probabilities -->  {'no': 0.5, 'yes': 0.5} \n",
      "\n",
      "    >> subset entropy value --> 1.0\n",
      "    >> subset proportion --> 0.29\n",
      "    >> attribute information gain --> {'cool': 0.23, 'mild': 0.39, 'hot': 0.29} \n",
      "\n",
      "temp attribute information gain -->  0.03\n"
     ]
    }
   ],
   "source": [
    "information_gain = calculate_information_gain(df_tennis_data, \"temp\")\n",
    "print(f\"{\"temp\"} attribute information gain --> \", information_gain)"
   ]
  },
  {
   "cell_type": "markdown",
   "metadata": {},
   "source": [
    "- humidity"
   ]
  },
  {
   "cell_type": "code",
   "execution_count": 40,
   "metadata": {},
   "outputs": [
    {
     "name": "stdout",
     "output_type": "stream",
     "text": [
      "------------------------------\n",
      "Entropy\n",
      "------------------------------\n",
      "     >> class counts -->  {'no': 5, 'yes': 9}\n",
      "     >> total counts -->  14\n",
      "     >> class probabilities -->  {'no': 0.36, 'yes': 0.64} \n",
      "\n",
      "entropy value --> 0.94\n",
      "attribute unique values --> {'normal', 'high'} \n",
      "\n",
      "  *  *  *  *  *  *  *  *  *  *  *  *  *  *  *\n",
      "    >> attribute unique value --> normal\n",
      "  *  *  *  *  *  *  *  *  *  *  *  *  *  *  *\n",
      "------------------------------\n",
      "Entropy\n",
      "------------------------------\n",
      "     >> class counts -->  {'yes': 6, 'no': 1}\n",
      "     >> total counts -->  7\n",
      "     >> class probabilities -->  {'yes': 0.86, 'no': 0.14} \n",
      "\n",
      "    >> subset entropy value --> 0.58\n",
      "    >> subset proportion --> 0.5\n",
      "  *  *  *  *  *  *  *  *  *  *  *  *  *  *  *\n",
      "    >> attribute unique value --> high\n",
      "  *  *  *  *  *  *  *  *  *  *  *  *  *  *  *\n",
      "------------------------------\n",
      "Entropy\n",
      "------------------------------\n",
      "     >> class counts -->  {'no': 4, 'yes': 3}\n",
      "     >> total counts -->  7\n",
      "     >> class probabilities -->  {'no': 0.57, 'yes': 0.43} \n",
      "\n",
      "    >> subset entropy value --> 0.99\n",
      "    >> subset proportion --> 0.5\n",
      "    >> attribute information gain --> {'normal': 0.29, 'high': 0.49} \n",
      "\n",
      "humidity attribute information gain -->  0.16\n"
     ]
    }
   ],
   "source": [
    "information_gain = calculate_information_gain(df_tennis_data, \"humidity\")\n",
    "print(f\"{\"humidity\"} attribute information gain --> \", information_gain)"
   ]
  },
  {
   "cell_type": "markdown",
   "metadata": {},
   "source": [
    "- windy"
   ]
  },
  {
   "cell_type": "code",
   "execution_count": 41,
   "metadata": {},
   "outputs": [
    {
     "name": "stdout",
     "output_type": "stream",
     "text": [
      "------------------------------\n",
      "Entropy\n",
      "------------------------------\n",
      "     >> class counts -->  {'no': 5, 'yes': 9}\n",
      "     >> total counts -->  14\n",
      "     >> class probabilities -->  {'no': 0.36, 'yes': 0.64} \n",
      "\n",
      "entropy value --> 0.94\n",
      "attribute unique values --> {False, True} \n",
      "\n",
      "  *  *  *  *  *  *  *  *  *  *  *  *  *  *  *\n",
      "    >> attribute unique value --> False\n",
      "  *  *  *  *  *  *  *  *  *  *  *  *  *  *  *\n",
      "------------------------------\n",
      "Entropy\n",
      "------------------------------\n",
      "     >> class counts -->  {'no': 2, 'yes': 6}\n",
      "     >> total counts -->  8\n",
      "     >> class probabilities -->  {'no': 0.25, 'yes': 0.75} \n",
      "\n",
      "    >> subset entropy value --> 0.81\n",
      "    >> subset proportion --> 0.57\n",
      "  *  *  *  *  *  *  *  *  *  *  *  *  *  *  *\n",
      "    >> attribute unique value --> True\n",
      "  *  *  *  *  *  *  *  *  *  *  *  *  *  *  *\n",
      "------------------------------\n",
      "Entropy\n",
      "------------------------------\n",
      "     >> class counts -->  {'no': 3, 'yes': 3}\n",
      "     >> total counts -->  6\n",
      "     >> class probabilities -->  {'no': 0.5, 'yes': 0.5} \n",
      "\n",
      "    >> subset entropy value --> 1.0\n",
      "    >> subset proportion --> 0.43\n",
      "    >> attribute information gain --> {False: 0.46, True: 0.43} \n",
      "\n",
      "windy attribute information gain -->  0.05\n"
     ]
    }
   ],
   "source": [
    "information_gain = calculate_information_gain(df_tennis_data, \"windy\")\n",
    "print(f\"{\"windy\"} attribute information gain --> \", information_gain)"
   ]
  },
  {
   "cell_type": "markdown",
   "metadata": {},
   "source": [
    "<!--  -->"
   ]
  },
  {
   "cell_type": "markdown",
   "metadata": {},
   "source": [
    "Observation\n",
    "\n",
    "Few reasons why a decision tree built from scratch in Python might not produce the same results as scikit-learn's DecisionTreeClassifier\n",
    "\n",
    "**Splitting Criteria**\n",
    "\n",
    "- By default, scikit-learn's DecisionTreeClassifier uses the Gini impurity or information gain for selecting the best feature split. We have used information gain and also selected information gain in sklearn model\n",
    "\n",
    "**Randomization**\n",
    "\n",
    "- Some scikit-learn decision tree implementations (e.g., random_state parameter) introduce randomness during splitting. This can lead to slightly different trees even with the same data, especially for ties between features with similar information gain.\n",
    "\n",
    "**Data Handling**\n",
    "\n",
    "- Missing Values: Scikit-learn might have specific strategies for handling missing values (e.g., ignoring rows, using imputation techniques). Your manual implementation might not account for missing values, leading to discrepancies.\n",
    "- Feature Scaling: Scikit-learn might internally scale features if necessary. If your manual implementation doesn't handle scaling, differences in feature values can affect the splitting decisions.\n",
    "\n",
    "**Categorical Features**\n",
    "- Scikit-learn: Assumes numerical features for splitting. Categorical features need encoding (e.g., one-hot encoding) before using them in the decision tree.\n",
    "- Manual Implementation: You might need to explicitly handle categorical features by encoding them into numerical representations before using them for splitting.\n",
    "\n",
    "Key point\n",
    "\n",
    "Our focus here was mainly to show how Entropy and Information Gain is calculated, surely SKlearn library uses advanced methods/strategy to do this, hence our manual implementation and sklearn doesnt matches about entropy value and spliting methodology i..e., Not equal attributes subset split of variable Ex:- We expect from manual implementation i.e., First split Humidity -> high, normal subsets as sub childs, but sklearn only select Humidity_High as first split and after some splits then Humidity_Normal, don't know exact reason why like this, even after many blogs reading. "
   ]
  },
  {
   "cell_type": "markdown",
   "metadata": {},
   "source": [
    "<!--  -->"
   ]
  },
  {
   "cell_type": "markdown",
   "metadata": {},
   "source": [
    "### Categorical to Numerical Features Creation"
   ]
  },
  {
   "cell_type": "markdown",
   "metadata": {},
   "source": [
    "- Dummy Variables Creation"
   ]
  },
  {
   "cell_type": "code",
   "execution_count": 42,
   "metadata": {},
   "outputs": [
    {
     "data": {
      "text/plain": [
       "['outlook', 'temp', 'humidity', 'windy']"
      ]
     },
     "execution_count": 42,
     "metadata": {},
     "output_type": "execute_result"
    }
   ],
   "source": [
    "df_tennis_data.columns.tolist()[:-1]"
   ]
  },
  {
   "cell_type": "code",
   "execution_count": 43,
   "metadata": {},
   "outputs": [
    {
     "data": {
      "text/html": [
       "<div>\n",
       "<style scoped>\n",
       "    .dataframe tbody tr th:only-of-type {\n",
       "        vertical-align: middle;\n",
       "    }\n",
       "\n",
       "    .dataframe tbody tr th {\n",
       "        vertical-align: top;\n",
       "    }\n",
       "\n",
       "    .dataframe thead th {\n",
       "        text-align: right;\n",
       "    }\n",
       "</style>\n",
       "<table border=\"1\" class=\"dataframe\">\n",
       "  <thead>\n",
       "    <tr style=\"text-align: right;\">\n",
       "      <th></th>\n",
       "      <th>play</th>\n",
       "      <th>outlook_overcast</th>\n",
       "      <th>outlook_rainy</th>\n",
       "      <th>outlook_sunny</th>\n",
       "      <th>temp_cool</th>\n",
       "      <th>temp_hot</th>\n",
       "      <th>temp_mild</th>\n",
       "      <th>humidity_high</th>\n",
       "      <th>humidity_normal</th>\n",
       "      <th>windy_False</th>\n",
       "      <th>windy_True</th>\n",
       "    </tr>\n",
       "  </thead>\n",
       "  <tbody>\n",
       "    <tr>\n",
       "      <th>0</th>\n",
       "      <td>no</td>\n",
       "      <td>False</td>\n",
       "      <td>False</td>\n",
       "      <td>True</td>\n",
       "      <td>False</td>\n",
       "      <td>True</td>\n",
       "      <td>False</td>\n",
       "      <td>True</td>\n",
       "      <td>False</td>\n",
       "      <td>True</td>\n",
       "      <td>False</td>\n",
       "    </tr>\n",
       "    <tr>\n",
       "      <th>1</th>\n",
       "      <td>no</td>\n",
       "      <td>False</td>\n",
       "      <td>False</td>\n",
       "      <td>True</td>\n",
       "      <td>False</td>\n",
       "      <td>True</td>\n",
       "      <td>False</td>\n",
       "      <td>True</td>\n",
       "      <td>False</td>\n",
       "      <td>False</td>\n",
       "      <td>True</td>\n",
       "    </tr>\n",
       "    <tr>\n",
       "      <th>2</th>\n",
       "      <td>yes</td>\n",
       "      <td>True</td>\n",
       "      <td>False</td>\n",
       "      <td>False</td>\n",
       "      <td>False</td>\n",
       "      <td>True</td>\n",
       "      <td>False</td>\n",
       "      <td>True</td>\n",
       "      <td>False</td>\n",
       "      <td>True</td>\n",
       "      <td>False</td>\n",
       "    </tr>\n",
       "    <tr>\n",
       "      <th>3</th>\n",
       "      <td>yes</td>\n",
       "      <td>False</td>\n",
       "      <td>True</td>\n",
       "      <td>False</td>\n",
       "      <td>False</td>\n",
       "      <td>False</td>\n",
       "      <td>True</td>\n",
       "      <td>True</td>\n",
       "      <td>False</td>\n",
       "      <td>True</td>\n",
       "      <td>False</td>\n",
       "    </tr>\n",
       "    <tr>\n",
       "      <th>4</th>\n",
       "      <td>yes</td>\n",
       "      <td>False</td>\n",
       "      <td>True</td>\n",
       "      <td>False</td>\n",
       "      <td>True</td>\n",
       "      <td>False</td>\n",
       "      <td>False</td>\n",
       "      <td>False</td>\n",
       "      <td>True</td>\n",
       "      <td>True</td>\n",
       "      <td>False</td>\n",
       "    </tr>\n",
       "    <tr>\n",
       "      <th>5</th>\n",
       "      <td>no</td>\n",
       "      <td>False</td>\n",
       "      <td>True</td>\n",
       "      <td>False</td>\n",
       "      <td>True</td>\n",
       "      <td>False</td>\n",
       "      <td>False</td>\n",
       "      <td>False</td>\n",
       "      <td>True</td>\n",
       "      <td>False</td>\n",
       "      <td>True</td>\n",
       "    </tr>\n",
       "    <tr>\n",
       "      <th>6</th>\n",
       "      <td>yes</td>\n",
       "      <td>True</td>\n",
       "      <td>False</td>\n",
       "      <td>False</td>\n",
       "      <td>True</td>\n",
       "      <td>False</td>\n",
       "      <td>False</td>\n",
       "      <td>False</td>\n",
       "      <td>True</td>\n",
       "      <td>False</td>\n",
       "      <td>True</td>\n",
       "    </tr>\n",
       "    <tr>\n",
       "      <th>7</th>\n",
       "      <td>no</td>\n",
       "      <td>False</td>\n",
       "      <td>False</td>\n",
       "      <td>True</td>\n",
       "      <td>False</td>\n",
       "      <td>False</td>\n",
       "      <td>True</td>\n",
       "      <td>True</td>\n",
       "      <td>False</td>\n",
       "      <td>True</td>\n",
       "      <td>False</td>\n",
       "    </tr>\n",
       "    <tr>\n",
       "      <th>8</th>\n",
       "      <td>yes</td>\n",
       "      <td>False</td>\n",
       "      <td>False</td>\n",
       "      <td>True</td>\n",
       "      <td>True</td>\n",
       "      <td>False</td>\n",
       "      <td>False</td>\n",
       "      <td>False</td>\n",
       "      <td>True</td>\n",
       "      <td>True</td>\n",
       "      <td>False</td>\n",
       "    </tr>\n",
       "    <tr>\n",
       "      <th>9</th>\n",
       "      <td>yes</td>\n",
       "      <td>False</td>\n",
       "      <td>True</td>\n",
       "      <td>False</td>\n",
       "      <td>False</td>\n",
       "      <td>False</td>\n",
       "      <td>True</td>\n",
       "      <td>False</td>\n",
       "      <td>True</td>\n",
       "      <td>True</td>\n",
       "      <td>False</td>\n",
       "    </tr>\n",
       "    <tr>\n",
       "      <th>10</th>\n",
       "      <td>yes</td>\n",
       "      <td>False</td>\n",
       "      <td>False</td>\n",
       "      <td>True</td>\n",
       "      <td>False</td>\n",
       "      <td>False</td>\n",
       "      <td>True</td>\n",
       "      <td>False</td>\n",
       "      <td>True</td>\n",
       "      <td>False</td>\n",
       "      <td>True</td>\n",
       "    </tr>\n",
       "    <tr>\n",
       "      <th>11</th>\n",
       "      <td>yes</td>\n",
       "      <td>True</td>\n",
       "      <td>False</td>\n",
       "      <td>False</td>\n",
       "      <td>False</td>\n",
       "      <td>False</td>\n",
       "      <td>True</td>\n",
       "      <td>True</td>\n",
       "      <td>False</td>\n",
       "      <td>False</td>\n",
       "      <td>True</td>\n",
       "    </tr>\n",
       "    <tr>\n",
       "      <th>12</th>\n",
       "      <td>yes</td>\n",
       "      <td>True</td>\n",
       "      <td>False</td>\n",
       "      <td>False</td>\n",
       "      <td>False</td>\n",
       "      <td>True</td>\n",
       "      <td>False</td>\n",
       "      <td>False</td>\n",
       "      <td>True</td>\n",
       "      <td>True</td>\n",
       "      <td>False</td>\n",
       "    </tr>\n",
       "    <tr>\n",
       "      <th>13</th>\n",
       "      <td>no</td>\n",
       "      <td>False</td>\n",
       "      <td>True</td>\n",
       "      <td>False</td>\n",
       "      <td>False</td>\n",
       "      <td>False</td>\n",
       "      <td>True</td>\n",
       "      <td>True</td>\n",
       "      <td>False</td>\n",
       "      <td>False</td>\n",
       "      <td>True</td>\n",
       "    </tr>\n",
       "  </tbody>\n",
       "</table>\n",
       "</div>"
      ],
      "text/plain": [
       "   play  outlook_overcast  outlook_rainy  outlook_sunny  temp_cool  temp_hot  \\\n",
       "0    no             False          False           True      False      True   \n",
       "1    no             False          False           True      False      True   \n",
       "2   yes              True          False          False      False      True   \n",
       "3   yes             False           True          False      False     False   \n",
       "4   yes             False           True          False       True     False   \n",
       "5    no             False           True          False       True     False   \n",
       "6   yes              True          False          False       True     False   \n",
       "7    no             False          False           True      False     False   \n",
       "8   yes             False          False           True       True     False   \n",
       "9   yes             False           True          False      False     False   \n",
       "10  yes             False          False           True      False     False   \n",
       "11  yes              True          False          False      False     False   \n",
       "12  yes              True          False          False      False      True   \n",
       "13   no             False           True          False      False     False   \n",
       "\n",
       "    temp_mild  humidity_high  humidity_normal  windy_False  windy_True  \n",
       "0       False           True            False         True       False  \n",
       "1       False           True            False        False        True  \n",
       "2       False           True            False         True       False  \n",
       "3        True           True            False         True       False  \n",
       "4       False          False             True         True       False  \n",
       "5       False          False             True        False        True  \n",
       "6       False          False             True        False        True  \n",
       "7        True           True            False         True       False  \n",
       "8       False          False             True         True       False  \n",
       "9        True          False             True         True       False  \n",
       "10       True          False             True        False        True  \n",
       "11       True           True            False        False        True  \n",
       "12      False          False             True         True       False  \n",
       "13       True           True            False        False        True  "
      ]
     },
     "execution_count": 43,
     "metadata": {},
     "output_type": "execute_result"
    }
   ],
   "source": [
    "# Create dummy vars\n",
    "df_dummy = pd.get_dummies(data=df_tennis_data, columns=df_tennis_data.columns.tolist()[:-1])\n",
    "df_dummy"
   ]
  },
  {
   "cell_type": "markdown",
   "metadata": {},
   "source": [
    "<!--  -->"
   ]
  },
  {
   "cell_type": "markdown",
   "metadata": {},
   "source": [
    "### Model Training"
   ]
  },
  {
   "cell_type": "code",
   "execution_count": 72,
   "metadata": {},
   "outputs": [
    {
     "data": {
      "image/png": "[encoded data removed]",
      "text/plain": [
       "<Figure size 1200x600 with 1 Axes>"
      ]
     },
     "metadata": {},
     "output_type": "display_data"
    }
   ],
   "source": [
    "X = df_dummy.drop('play', axis=1)\n",
    "y = df_dummy[\"play\"]\n",
    "\n",
    "# Train and Test split\n",
    "X_train, X_test, y_train, y_test = train_test_split(X, y, test_size=0.20, random_state=101)\n",
    "\n",
    "# Train Model\n",
    "dtree = DecisionTreeClassifier(criterion=\"entropy\", random_state=0)\n",
    "# dtree = DecisionTreeClassifier(max_depth=2, criterion=\"entropy\", random_state=0)\n",
    "# dtree = DecisionTreeClassifier()\n",
    "dtree.fit(X_train, y_train)\n",
    "\n",
    "# Trained Decision Tree Visual\n",
    "fig = plt.figure(figsize=(12, 6))\n",
    "sns.set_style('dark')\n",
    "plot_tree(dtree, \n",
    "            feature_names=X_train.columns.tolist(), \n",
    "            fontsize=12, \n",
    "            filled=True, \n",
    "            rounded=True,\n",
    "            class_names=['no', 'yes'] # This order displays \"no\" on the right side of the tree and \"yes\" on the left side. \n",
    "            )\n",
    "plt.title(\"Trained Decision Tree\", size=16)\n",
    "plt.show()"
   ]
  },
  {
   "cell_type": "markdown",
   "metadata": {},
   "source": [
    "Observation\n",
    "\n",
    "> * Node colour get assigned as per each class label. i.e., orange - not play class, blue - play class. \n",
    "> * Higher the class label counts and then colour would be dominating class label one for node.\n",
    "> * more pure/dominating node with labels more thicker the colour\n",
    "> * Node with same proportion of labels count, then by default colour of the node would be white."
   ]
  },
  {
   "cell_type": "markdown",
   "metadata": {},
   "source": [
    "<!--  -->"
   ]
  },
  {
   "cell_type": "markdown",
   "metadata": {},
   "source": [
    "### Decision Tree Evaluation\n",
    "\n",
    "- First Split --> Humidity Normal"
   ]
  },
  {
   "cell_type": "code",
   "execution_count": 47,
   "metadata": {},
   "outputs": [
    {
     "data": {
      "text/plain": [
       "[13, 10, 5, 0, 4, 8, 9, 7, 6, 1, 11]"
      ]
     },
     "execution_count": 47,
     "metadata": {},
     "output_type": "execute_result"
    }
   ],
   "source": [
    "x_train_index_list = X_train.index.tolist()\n",
    "x_train_index_list"
   ]
  },
  {
   "cell_type": "code",
   "execution_count": 55,
   "metadata": {},
   "outputs": [
    {
     "data": {
      "text/html": [
       "<div>\n",
       "<style scoped>\n",
       "    .dataframe tbody tr th:only-of-type {\n",
       "        vertical-align: middle;\n",
       "    }\n",
       "\n",
       "    .dataframe tbody tr th {\n",
       "        vertical-align: top;\n",
       "    }\n",
       "\n",
       "    .dataframe thead th {\n",
       "        text-align: right;\n",
       "    }\n",
       "</style>\n",
       "<table border=\"1\" class=\"dataframe\">\n",
       "  <thead>\n",
       "    <tr style=\"text-align: right;\">\n",
       "      <th></th>\n",
       "      <th>play</th>\n",
       "      <th>count</th>\n",
       "    </tr>\n",
       "  </thead>\n",
       "  <tbody>\n",
       "    <tr>\n",
       "      <th>0</th>\n",
       "      <td>no</td>\n",
       "      <td>1</td>\n",
       "    </tr>\n",
       "    <tr>\n",
       "      <th>1</th>\n",
       "      <td>yes</td>\n",
       "      <td>5</td>\n",
       "    </tr>\n",
       "  </tbody>\n",
       "</table>\n",
       "</div>"
      ],
      "text/plain": [
       "  play  count\n",
       "0   no      1\n",
       "1  yes      5"
      ]
     },
     "execution_count": 55,
     "metadata": {},
     "output_type": "execute_result"
    }
   ],
   "source": [
    "df_tennis_data.loc[x_train_index_list,:][df_tennis_data[\"humidity\"]==\"normal\"].groupby([\"play\"])[\"play\"].value_counts().reset_index() # no-1, yes-5 --> very high certainity"
   ]
  },
  {
   "cell_type": "code",
   "execution_count": 69,
   "metadata": {},
   "outputs": [
    {
     "data": {
      "text/html": [
       "<div>\n",
       "<style scoped>\n",
       "    .dataframe tbody tr th:only-of-type {\n",
       "        vertical-align: middle;\n",
       "    }\n",
       "\n",
       "    .dataframe tbody tr th {\n",
       "        vertical-align: top;\n",
       "    }\n",
       "\n",
       "    .dataframe thead th {\n",
       "        text-align: right;\n",
       "    }\n",
       "</style>\n",
       "<table border=\"1\" class=\"dataframe\">\n",
       "  <thead>\n",
       "    <tr style=\"text-align: right;\">\n",
       "      <th></th>\n",
       "      <th>play</th>\n",
       "      <th>count</th>\n",
       "    </tr>\n",
       "  </thead>\n",
       "  <tbody>\n",
       "    <tr>\n",
       "      <th>0</th>\n",
       "      <td>no</td>\n",
       "      <td>3</td>\n",
       "    </tr>\n",
       "    <tr>\n",
       "      <th>1</th>\n",
       "      <td>yes</td>\n",
       "      <td>3</td>\n",
       "    </tr>\n",
       "  </tbody>\n",
       "</table>\n",
       "</div>"
      ],
      "text/plain": [
       "  play  count\n",
       "0   no      3\n",
       "1  yes      3"
      ]
     },
     "execution_count": 69,
     "metadata": {},
     "output_type": "execute_result"
    }
   ],
   "source": [
    "# humidity\n",
    "# df_tennis_data.loc[x_train_index_list,:][df_tennis_data[\"humidity\"]==\"high\"].groupby([\"play\"])[\"play\"].value_counts().reset_index() # no-4, yes-1 --> very high certainity\n",
    "\n",
    "# outlook\n",
    "# df_tennis_data.loc[x_train_index_list,:][df_tennis_data[\"outlook\"]==\"sunny\"].groupby([\"play\"])[\"play\"].value_counts().reset_index() # no-3, yes-2 --> high uncertainity\n",
    "# df_tennis_data.loc[x_train_index_list,:][df_tennis_data[\"outlook\"]==\"overcast\"].groupby([\"play\"])[\"play\"].value_counts().reset_index() # yes-2 --> very high certainity\n",
    "# df_tennis_data.loc[x_train_index_list,:][df_tennis_data[\"outlook\"]==\"rainy\"].groupby([\"play\"])[\"play\"].value_counts().reset_index() # no-2, yes-2 --> very high uncertainity\n",
    "\n",
    "# temp\n",
    "# df_tennis_data.loc[x_train_index_list,:][df_tennis_data[\"temp\"]==\"hot\"].groupby([\"play\"])[\"play\"].value_counts().reset_index() # no-2 --> very high certainity\n",
    "# df_tennis_data.loc[x_train_index_list,:][df_tennis_data[\"temp\"]==\"mild\"].groupby([\"play\"])[\"play\"].value_counts().reset_index() # no-2, yes-3 --> high uncertainity\n",
    "# df_tennis_data.loc[x_train_index_list,:][df_tennis_data[\"temp\"]==\"cool\"].groupby([\"play\"])[\"play\"].value_counts().reset_index() # no-1, yes-3 --> low uncertainity\n",
    "\n",
    "# windy\n",
    "# df_tennis_data.loc[x_train_index_list,:][df_tennis_data[\"windy\"]==False].groupby([\"play\"])[\"play\"].value_counts().reset_index() # no-2, yes-3 --> high uncertainity\n",
    "# df_tennis_data.loc[x_train_index_list,:][df_tennis_data[\"windy\"]==True].groupby([\"play\"])[\"play\"].value_counts().reset_index() # no-3, yes-3 --> very high uncertainity"
   ]
  },
  {
   "cell_type": "markdown",
   "metadata": {},
   "source": [
    "Observation\n",
    "\n",
    "- During initial split, on whole data level, may be [\"humidity\"]==\"normal\" has the lowest entropy (very high certainity i.e., most counts belong to one category) that is why this attribute subset was selected to split. "
   ]
  },
  {
   "cell_type": "markdown",
   "metadata": {},
   "source": [
    "<!--  -->"
   ]
  },
  {
   "cell_type": "markdown",
   "metadata": {},
   "source": [
    "### Model Evaluation\n",
    "> * Accuracy = (TP + TN) / (Total number of observation)\n",
    "> * Accuracy = The number of correct predictions made divided by the total number of predictions made."
   ]
  },
  {
   "cell_type": "code",
   "execution_count": 73,
   "metadata": {},
   "outputs": [
    {
     "data": {
      "text/plain": [
       "[12, 2, 3]"
      ]
     },
     "execution_count": 73,
     "metadata": {},
     "output_type": "execute_result"
    }
   ],
   "source": [
    "x_test_index_list = X_test.index.to_list()\n",
    "x_test_index_list"
   ]
  },
  {
   "cell_type": "code",
   "execution_count": 74,
   "metadata": {},
   "outputs": [
    {
     "data": {
      "text/html": [
       "<div>\n",
       "<style scoped>\n",
       "    .dataframe tbody tr th:only-of-type {\n",
       "        vertical-align: middle;\n",
       "    }\n",
       "\n",
       "    .dataframe tbody tr th {\n",
       "        vertical-align: top;\n",
       "    }\n",
       "\n",
       "    .dataframe thead th {\n",
       "        text-align: right;\n",
       "    }\n",
       "</style>\n",
       "<table border=\"1\" class=\"dataframe\">\n",
       "  <thead>\n",
       "    <tr style=\"text-align: right;\">\n",
       "      <th></th>\n",
       "      <th>outlook</th>\n",
       "      <th>temp</th>\n",
       "      <th>humidity</th>\n",
       "      <th>windy</th>\n",
       "      <th>play</th>\n",
       "    </tr>\n",
       "  </thead>\n",
       "  <tbody>\n",
       "    <tr>\n",
       "      <th>12</th>\n",
       "      <td>overcast</td>\n",
       "      <td>hot</td>\n",
       "      <td>normal</td>\n",
       "      <td>False</td>\n",
       "      <td>yes</td>\n",
       "    </tr>\n",
       "    <tr>\n",
       "      <th>2</th>\n",
       "      <td>overcast</td>\n",
       "      <td>hot</td>\n",
       "      <td>high</td>\n",
       "      <td>False</td>\n",
       "      <td>yes</td>\n",
       "    </tr>\n",
       "    <tr>\n",
       "      <th>3</th>\n",
       "      <td>rainy</td>\n",
       "      <td>mild</td>\n",
       "      <td>high</td>\n",
       "      <td>False</td>\n",
       "      <td>yes</td>\n",
       "    </tr>\n",
       "  </tbody>\n",
       "</table>\n",
       "</div>"
      ],
      "text/plain": [
       "     outlook  temp humidity  windy play\n",
       "12  overcast   hot   normal  False  yes\n",
       "2   overcast   hot     high  False  yes\n",
       "3      rainy  mild     high  False  yes"
      ]
     },
     "execution_count": 74,
     "metadata": {},
     "output_type": "execute_result"
    }
   ],
   "source": [
    "df_tennis_data.loc[x_test_index_list,:]"
   ]
  },
  {
   "cell_type": "code",
   "execution_count": 82,
   "metadata": {},
   "outputs": [
    {
     "name": "stdout",
     "output_type": "stream",
     "text": [
      "Accuracy: 0.67\n",
      "Missclassied Counts: 1\n"
     ]
    }
   ],
   "source": [
    "y_pred = dtree.predict(X_test)\n",
    "\n",
    "accuracy = metrics.accuracy_score(y_test, y_pred)\n",
    "count_missclassified = sum(y_test != y_pred)\n",
    "\n",
    "print(\"Accuracy: {:.2f}\".format(accuracy))\n",
    "print(\"Missclassied Counts: {0}\".format(count_missclassified))"
   ]
  },
  {
   "cell_type": "markdown",
   "metadata": {},
   "source": [
    "- Confusion Matrix "
   ]
  },
  {
   "cell_type": "code",
   "execution_count": 100,
   "metadata": {},
   "outputs": [
    {
     "data": {
      "image/png": "[encoded data removed]",
      "text/plain": [
       "<Figure size 640x480 with 2 Axes>"
      ]
     },
     "metadata": {},
     "output_type": "display_data"
    }
   ],
   "source": [
    "# fig, axes = plt.subplots(nrows=1, ncols=1, figsize=(10,5))\n",
    "cm = metrics.confusion_matrix(y_test, y_pred, labels=dtree.classes_)\n",
    "disp = metrics.ConfusionMatrixDisplay(confusion_matrix=cm, display_labels=dtree.classes_)\n",
    "disp.plot()\n",
    "plt.show()"
   ]
  },
  {
   "cell_type": "markdown",
   "metadata": {},
   "source": [
    "Take Away Points :\n",
    "\n",
    "> * Due to very less data points in X_train, our trained decision tree model doesn't performed well, even if we increased or decreased depth of the tree(i.e., hyperparameter).\n",
    "> * Having more data in train dataset can make decision tree get trained with all cases covered and can make decisions on test data set cases accurately."
   ]
  }
 ],
 "metadata": {
  "kernelspec": {
   "display_name": "data_science_env",
   "language": "python",
   "name": "python3"
  },
  "language_info": {
   "codemirror_mode": {
    "name": "ipython",
    "version": 3
   },
   "file_extension": ".py",
   "mimetype": "text/x-python",
   "name": "python",
   "nbconvert_exporter": "python",
   "pygments_lexer": "ipython3",
   "version": "3.12.3"
  }
 },
 "nbformat": 4,
 "nbformat_minor": 2
}
