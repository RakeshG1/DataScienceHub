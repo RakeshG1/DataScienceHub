{
 "cells": [
  {
   "cell_type": "markdown",
   "metadata": {},
   "source": [
    "### Import Libraries"
   ]
  },
  {
   "cell_type": "code",
   "execution_count": 13,
   "metadata": {},
   "outputs": [],
   "source": [
    "import pandas as pd\n",
    "import numpy as np\n",
    "import seaborn as sns \n",
    "import matplotlib.pyplot as plt\n",
    "import warnings\n",
    "from io import StringIO\n",
    "from typing import List, Dict\n",
    "from sklearn.linear_model import LinearRegression\n",
    "from IPython.display import display, HTML\n",
    "\n",
    "%matplotlib inline\n",
    "warnings.filterwarnings(\"ignore\")"
   ]
  },
  {
   "cell_type": "markdown",
   "metadata": {},
   "source": [
    "### Sample Data"
   ]
  },
  {
   "cell_type": "code",
   "execution_count": 9,
   "metadata": {},
   "outputs": [
    {
     "data": {
      "text/html": [
       "<table border=\"1\" class=\"dataframe\">\n",
       "  <thead>\n",
       "    <tr style=\"text-align: right;\">\n",
       "      <th></th>\n",
       "      <th>Product_Sell</th>\n",
       "      <th>Revenue_Generation</th>\n",
       "    </tr>\n",
       "  </thead>\n",
       "  <tbody>\n",
       "    <tr>\n",
       "      <th>0</th>\n",
       "      <td>10</td>\n",
       "      <td>1000</td>\n",
       "    </tr>\n",
       "    <tr>\n",
       "      <th>1</th>\n",
       "      <td>15</td>\n",
       "      <td>1400</td>\n",
       "    </tr>\n",
       "    <tr>\n",
       "      <th>2</th>\n",
       "      <td>18</td>\n",
       "      <td>1800</td>\n",
       "    </tr>\n",
       "    <tr>\n",
       "      <th>3</th>\n",
       "      <td>22</td>\n",
       "      <td>2400</td>\n",
       "    </tr>\n",
       "    <tr>\n",
       "      <th>4</th>\n",
       "      <td>26</td>\n",
       "      <td>2600</td>\n",
       "    </tr>\n",
       "    <tr>\n",
       "      <th>5</th>\n",
       "      <td>30</td>\n",
       "      <td>2800</td>\n",
       "    </tr>\n",
       "    <tr>\n",
       "      <th>6</th>\n",
       "      <td>5</td>\n",
       "      <td>700</td>\n",
       "    </tr>\n",
       "    <tr>\n",
       "      <th>7</th>\n",
       "      <td>31</td>\n",
       "      <td>2900</td>\n",
       "    </tr>\n",
       "  </tbody>\n",
       "</table>"
      ],
      "text/plain": [
       "<IPython.core.display.HTML object>"
      ]
     },
     "metadata": {},
     "output_type": "display_data"
    }
   ],
   "source": [
    "company_sales_data = \"\"\"\n",
    "Product_Sell,Revenue_Generation\n",
    "10,1000\n",
    "15,1400\n",
    "18,1800\n",
    "22,2400\n",
    "26,2600\n",
    "30,2800\n",
    "5,700\n",
    "31,2900\n",
    "\"\"\"\n",
    "\n",
    "df_sample_data = pd.read_table(StringIO(company_sales_data), sep=\",\")\n",
    "display(HTML(df_sample_data.head(10).to_html()))"
   ]
  },
  {
   "cell_type": "markdown",
   "metadata": {},
   "source": [
    "### Required Functions"
   ]
  },
  {
   "cell_type": "code",
   "execution_count": 61,
   "metadata": {},
   "outputs": [],
   "source": [
    "def get_mean(arr): \n",
    "    return np.sum(arr)/len(arr)\n",
    "\n",
    "def get_variance(arr, mean):\n",
    "    return np.sum((arr-mean)**2)\n",
    "\n",
    "def get_covariance(arr_x, mean_x, arr_y, mean_y):\n",
    "    final_arr = (arr_x - mean_x)*(arr_y - mean_y)\n",
    "    return np.sum(final_arr)\n",
    "\n",
    "def get_regression_coefficients(x, y):\n",
    "    x_mean = get_mean(x)\n",
    "    y_mean = get_mean(y)\n",
    "    m = get_covariance(x, x_mean, y, y_mean)/get_variance(x, x_mean)\n",
    "    c = y_mean - x_mean*m\n",
    "    return m, c\n",
    "\n",
    "def train_model(df):\n",
    "    '''\n",
    "    Train Ordinary Least Squares Regression Model\n",
    "    '''\n",
    "    x = df[\"Product_Sell\"]\n",
    "    y = df[\"Revenue_Generation\"]\n",
    "    slope, intercept = get_regression_coefficients(x, y)\n",
    "    return slope, intercept\n",
    "\n",
    "def get_predictions(slope, intercept, indep_arr):\n",
    "    ''' \n",
    "    Get Predictions\n",
    "    '''\n",
    "    predictions_list = [(slope*x + intercept) for x in indep_arr]\n",
    "    return predictions_list\n",
    "\n",
    "def get_plot(df, prediction_flag):\n",
    "    '''\n",
    "    Independent Variables vs Dependent Variables Plot\n",
    "    '''\n",
    "    sns.set_style(\"dark\")\n",
    "    fig, ax = plt.subplots(nrows=1, ncols=1, figsize=(8,4))\n",
    "    sns.scatterplot(x=\"Product_Sell\", y=\"Revenue_Generation\", data=df, markers=\"o\", color=\"steelblue\", ax=ax)\n",
    "    if prediction_flag == True:\n",
    "        ax = sns.lineplot(x=\"Product_Sell\", y=\"Predictions\", data=df, color = \"orange\")\n",
    "        ax.lines[0].set_linestyle(\"--\")\n",
    "        sns.scatterplot(x=\"Product_Sell\", y=\"Revenue_Generation\", data=df, markers=\"o\", color=\"steelblue\", ax=ax)\n",
    "        # ax.get_legend().remove()\n",
    "    plt.xlabel(\"Product_Sell\")\n",
    "    plt.ylabel(\"Revenue_Generation\")\n",
    "    # plt.title(\"Product_Sell vs Revenue_Generation: $Y_i$ vs $\\hat{Y}_i$\")\n",
    "    plt.title(\"Product_Sell vs Revenue_Generation\")\n",
    "    plt.show()\n",
    "\n",
    "def actuals_vs_prediction_plot(df):\n",
    "    '''\n",
    "    Actuals vs Prediction Plot\n",
    "    '''    \n",
    "    fig, ax = plt.subplots(nrows=1, ncols=1, figsize=(8,4))\n",
    "    sns.scatterplot(x=\"Product_Sell\", y=\"Revenue_Generation\", data=df, color = 'blue', label=\"Actual\")\n",
    "    sns.scatterplot(x=\"Product_Sell\", y=\"Predictions\", data=df, color = 'orange', label=\"Prediction\")\n",
    "    plt.xlabel(\"Product_Sell\")\n",
    "    plt.ylabel(\"Revenue_Generation\")\n",
    "    # plt.title(\"Product_Sell vs Revenue_Generation: $Y_i$ vs $\\hat{Y}_i$\")\n",
    "    plt.title(\"Actuals vs Predictions\")\n",
    "    plt.show()\n",
    "\n",
    "def mse(true,pred):\n",
    "    ''' \n",
    "    Calculate MSE value\n",
    "    '''    \n",
    "    return np.mean((pred-true)**2)\n",
    "\n",
    "def rmse(true,pred):\n",
    "    ''' \n",
    "    Calculate RMSE value\n",
    "    '''\n",
    "    return mse(true,pred)**0.5\n",
    "\n",
    "def r_squared(true,pred):\n",
    "    ''' \n",
    "    Calculate r_squared value\n",
    "    '''    \n",
    "    true_mean=true.mean()\n",
    "    pred_mean=pred.mean()\n",
    "    tot=((true-true_mean)**2).sum(axis=0)\n",
    "    obs=((true-pred)**2).sum(axis=0)\n",
    "    return 1-(obs/tot)"
   ]
  },
  {
   "cell_type": "markdown",
   "metadata": {},
   "source": [
    "### EDA"
   ]
  },
  {
   "cell_type": "code",
   "execution_count": 62,
   "metadata": {},
   "outputs": [
    {
     "data": {
      "image/png": "[encoded data removed]",
      "text/plain": [
       "<Figure size 800x400 with 1 Axes>"
      ]
     },
     "metadata": {},
     "output_type": "display_data"
    }
   ],
   "source": [
    "get_plot(df_sample_data, prediction_flag=False)"
   ]
  },
  {
   "cell_type": "markdown",
   "metadata": {},
   "source": [
    "### Train Model From Scratch"
   ]
  },
  {
   "cell_type": "markdown",
   "metadata": {},
   "source": [
    "- **Train Ordinary Least Squares Regression Model**"
   ]
  },
  {
   "cell_type": "code",
   "execution_count": 63,
   "metadata": {},
   "outputs": [
    {
     "name": "stdout",
     "output_type": "stream",
     "text": [
      "Slope : 95.97024178549286\n",
      "intercept : 64.60012399256061\n"
     ]
    }
   ],
   "source": [
    "# Train Ordinary Least Squares Regression Model & Get its Coeffcients #####\n",
    "df_train = df_sample_data.loc[:len(df_sample_data)-3]\n",
    "slope, intercept = train_model(df_train)\n",
    "print(f\"Slope : {slope}\")\n",
    "print(\"intercept : {}\".format(intercept))"
   ]
  },
  {
   "cell_type": "markdown",
   "metadata": {},
   "source": [
    "- **Get Predictions**"
   ]
  },
  {
   "cell_type": "code",
   "execution_count": 64,
   "metadata": {},
   "outputs": [
    {
     "data": {
      "text/html": [
       "<table border=\"1\" class=\"dataframe\">\n",
       "  <thead>\n",
       "    <tr style=\"text-align: right;\">\n",
       "      <th></th>\n",
       "      <th>Product_Sell</th>\n",
       "      <th>Revenue_Generation</th>\n",
       "      <th>Predictions</th>\n",
       "    </tr>\n",
       "  </thead>\n",
       "  <tbody>\n",
       "    <tr>\n",
       "      <th>0</th>\n",
       "      <td>10</td>\n",
       "      <td>1000</td>\n",
       "      <td>1024.302542</td>\n",
       "    </tr>\n",
       "    <tr>\n",
       "      <th>1</th>\n",
       "      <td>15</td>\n",
       "      <td>1400</td>\n",
       "      <td>1504.153751</td>\n",
       "    </tr>\n",
       "    <tr>\n",
       "      <th>2</th>\n",
       "      <td>18</td>\n",
       "      <td>1800</td>\n",
       "      <td>1792.064476</td>\n",
       "    </tr>\n",
       "    <tr>\n",
       "      <th>3</th>\n",
       "      <td>22</td>\n",
       "      <td>2400</td>\n",
       "      <td>2175.945443</td>\n",
       "    </tr>\n",
       "    <tr>\n",
       "      <th>4</th>\n",
       "      <td>26</td>\n",
       "      <td>2600</td>\n",
       "      <td>2559.826410</td>\n",
       "    </tr>\n",
       "    <tr>\n",
       "      <th>5</th>\n",
       "      <td>30</td>\n",
       "      <td>2800</td>\n",
       "      <td>2943.707378</td>\n",
       "    </tr>\n",
       "  </tbody>\n",
       "</table>"
      ],
      "text/plain": [
       "<IPython.core.display.HTML object>"
      ]
     },
     "metadata": {},
     "output_type": "display_data"
    }
   ],
   "source": [
    "# Get Predictions\n",
    "predictions_list = get_predictions(slope, intercept, df_train[\"Product_Sell\"].tolist())\n",
    "df_train[\"Predictions\"] = predictions_list\n",
    "\n",
    "display(HTML(df_train.to_html()))"
   ]
  },
  {
   "cell_type": "markdown",
   "metadata": {},
   "source": [
    "- **Product_Sell vs Revenue_Generation + Regression Plot**"
   ]
  },
  {
   "cell_type": "code",
   "execution_count": 65,
   "metadata": {},
   "outputs": [
    {
     "data": {
      "image/png": "[encoded data removed]",
      "text/plain": [
       "<Figure size 800x400 with 1 Axes>"
      ]
     },
     "metadata": {},
     "output_type": "display_data"
    }
   ],
   "source": [
    "# Plot\n",
    "get_plot(df_train, prediction_flag=True)"
   ]
  },
  {
   "cell_type": "markdown",
   "metadata": {},
   "source": [
    "- **Predictions on Test Data**"
   ]
  },
  {
   "cell_type": "code",
   "execution_count": 66,
   "metadata": {},
   "outputs": [
    {
     "data": {
      "text/html": [
       "<table border=\"1\" class=\"dataframe\">\n",
       "  <thead>\n",
       "    <tr style=\"text-align: right;\">\n",
       "      <th></th>\n",
       "      <th>Product_Sell</th>\n",
       "      <th>Revenue_Generation</th>\n",
       "      <th>Predictions</th>\n",
       "    </tr>\n",
       "  </thead>\n",
       "  <tbody>\n",
       "    <tr>\n",
       "      <th>6</th>\n",
       "      <td>5</td>\n",
       "      <td>700</td>\n",
       "      <td>544.451333</td>\n",
       "    </tr>\n",
       "    <tr>\n",
       "      <th>7</th>\n",
       "      <td>31</td>\n",
       "      <td>2900</td>\n",
       "      <td>3039.677619</td>\n",
       "    </tr>\n",
       "  </tbody>\n",
       "</table>"
      ],
      "text/plain": [
       "<IPython.core.display.HTML object>"
      ]
     },
     "metadata": {},
     "output_type": "display_data"
    }
   ],
   "source": [
    "# Predictions on unseen data #####\n",
    "df_test = df_sample_data.loc[max(df_train.index.tolist())+1:]\n",
    "predictions_list = get_predictions(slope, intercept, df_test[\"Product_Sell\"].tolist())\n",
    "# print(\"Revenue_Generation Predictions --> \", predictions_list)\n",
    "df_test[\"Predictions\"] = predictions_list\n",
    "\n",
    "display(HTML(df_test.to_html()))"
   ]
  },
  {
   "cell_type": "markdown",
   "metadata": {},
   "source": [
    "- **Actuals vs Predictions Plot[Test Data]**"
   ]
  },
  {
   "cell_type": "code",
   "execution_count": 67,
   "metadata": {},
   "outputs": [
    {
     "data": {
      "image/png": "[encoded data removed]",
      "text/plain": [
       "<Figure size 800x400 with 1 Axes>"
      ]
     },
     "metadata": {},
     "output_type": "display_data"
    }
   ],
   "source": [
    "actuals_vs_prediction_plot(df_test)"
   ]
  },
  {
   "cell_type": "markdown",
   "metadata": {},
   "source": [
    "- **Predictions on unseen data**"
   ]
  },
  {
   "cell_type": "code",
   "execution_count": 68,
   "metadata": {},
   "outputs": [
    {
     "name": "stdout",
     "output_type": "stream",
     "text": [
      "Revenue_Generation Predictions -->  [160.57036577805349, 1984.0049597024179]\n"
     ]
    }
   ],
   "source": [
    "''' \n",
    "Product_Sell = [1, 20]\n",
    "'''\n",
    "predictions_list = get_predictions(slope, intercept, [1, 20])\n",
    "print(\"Revenue_Generation Predictions --> \", predictions_list)"
   ]
  },
  {
   "cell_type": "markdown",
   "metadata": {},
   "source": [
    "- **`Model Performance Evaluation`**"
   ]
  },
  {
   "cell_type": "markdown",
   "metadata": {},
   "source": [
    "- **RMSE Value**"
   ]
  },
  {
   "cell_type": "code",
   "execution_count": 69,
   "metadata": {},
   "outputs": [
    {
     "data": {
      "text/plain": [
       "147.82629193692188"
      ]
     },
     "execution_count": 69,
     "metadata": {},
     "output_type": "execute_result"
    }
   ],
   "source": [
    "rmse(df_test[\"Revenue_Generation\"],df_test[\"Predictions\"])"
   ]
  },
  {
   "cell_type": "markdown",
   "metadata": {},
   "source": [
    "- `Observation`\n",
    "  - Actual values are located 147.82 units away from the predicted values"
   ]
  },
  {
   "cell_type": "markdown",
   "metadata": {},
   "source": [
    "- **R_Squared Value**"
   ]
  },
  {
   "cell_type": "code",
   "execution_count": 70,
   "metadata": {},
   "outputs": [
    {
     "data": {
      "text/plain": [
       "0.9819399895968429"
      ]
     },
     "execution_count": 70,
     "metadata": {},
     "output_type": "execute_result"
    }
   ],
   "source": [
    "r_squared(df_test[\"Revenue_Generation\"],df_test[\"Predictions\"])"
   ]
  },
  {
   "cell_type": "markdown",
   "metadata": {},
   "source": [
    "- `Observation`\n",
    "  - Model is able to observe 98.19% of the total variability of the data set."
   ]
  },
  {
   "cell_type": "markdown",
   "metadata": {},
   "source": [
    "### Train Model Using Sklearn"
   ]
  },
  {
   "cell_type": "code",
   "execution_count": 72,
   "metadata": {},
   "outputs": [
    {
     "name": "stdout",
     "output_type": "stream",
     "text": [
      "Coefficient -->  [[95.97024179]]\n",
      "Intercept -->  [64.60012399]\n"
     ]
    }
   ],
   "source": [
    "lm = LinearRegression()\n",
    "\n",
    "X_train = np.array(df_train['Product_Sell']).reshape(-1, 1)\n",
    "Y_train = np.array(df_train['Revenue_Generation']).reshape(-1, 1)\n",
    "\n",
    "# Train Model\n",
    "lm.fit(X_train, Y_train)\n",
    "print(\"Coefficient --> \", lm.coef_)\n",
    "print(\"Intercept --> \", lm.intercept_)"
   ]
  },
  {
   "cell_type": "markdown",
   "metadata": {},
   "source": [
    "- `Observation`\n",
    "  - Above Sklearn Model Coefficient & Intercept are matching with our manually trained model parameters."
   ]
  },
  {
   "cell_type": "code",
   "execution_count": 76,
   "metadata": {},
   "outputs": [
    {
     "data": {
      "text/html": [
       "<table border=\"1\" class=\"dataframe\">\n",
       "  <thead>\n",
       "    <tr style=\"text-align: right;\">\n",
       "      <th></th>\n",
       "      <th>Product_Sell</th>\n",
       "      <th>Revenue_Generation</th>\n",
       "      <th>Predictions</th>\n",
       "    </tr>\n",
       "  </thead>\n",
       "  <tbody>\n",
       "    <tr>\n",
       "      <th>6</th>\n",
       "      <td>5</td>\n",
       "      <td>700</td>\n",
       "      <td>544.451333</td>\n",
       "    </tr>\n",
       "    <tr>\n",
       "      <th>7</th>\n",
       "      <td>31</td>\n",
       "      <td>2900</td>\n",
       "      <td>3039.677619</td>\n",
       "    </tr>\n",
       "  </tbody>\n",
       "</table>"
      ],
      "text/plain": [
       "<IPython.core.display.HTML object>"
      ]
     },
     "metadata": {},
     "output_type": "display_data"
    }
   ],
   "source": [
    "# Get Predictions on Test Data \n",
    "X_test = np.array(df_test[\"Product_Sell\"]).reshape(-1, 1)\n",
    "Y_pred = lm.predict(X_test)\n",
    "df_test[\"Predictions\"] = Y_pred\n",
    "\n",
    "display(HTML(df_test.to_html()))"
   ]
  },
  {
   "cell_type": "markdown",
   "metadata": {},
   "source": [
    "- **Actuals vs Predictions Plot[Test Data]**"
   ]
  },
  {
   "cell_type": "code",
   "execution_count": 77,
   "metadata": {},
   "outputs": [
    {
     "data": {
      "image/png": "[encoded data removed]",
      "text/plain": [
       "<Figure size 800x400 with 1 Axes>"
      ]
     },
     "metadata": {},
     "output_type": "display_data"
    }
   ],
   "source": [
    "actuals_vs_prediction_plot(df_test)"
   ]
  },
  {
   "cell_type": "markdown",
   "metadata": {},
   "source": [
    "- **Predictions on unseen data**"
   ]
  },
  {
   "cell_type": "code",
   "execution_count": 78,
   "metadata": {},
   "outputs": [
    {
     "data": {
      "text/plain": [
       "array([[ 160.57036578],\n",
       "       [1984.0049597 ]])"
      ]
     },
     "execution_count": 78,
     "metadata": {},
     "output_type": "execute_result"
    }
   ],
   "source": [
    "''' \n",
    "Product_Sell = [1, 20]\n",
    "'''\n",
    "df_unseen_data = np.array([1, 20]).reshape(-1, 1)\n",
    "lm.predict(df_unseen_data)"
   ]
  },
  {
   "cell_type": "markdown",
   "metadata": {},
   "source": [
    "- **RMSE Value**"
   ]
  },
  {
   "cell_type": "code",
   "execution_count": 79,
   "metadata": {},
   "outputs": [
    {
     "data": {
      "text/plain": [
       "147.8262919369221"
      ]
     },
     "execution_count": 79,
     "metadata": {},
     "output_type": "execute_result"
    }
   ],
   "source": [
    "rmse(df_test[\"Revenue_Generation\"],df_test[\"Predictions\"])"
   ]
  },
  {
   "cell_type": "markdown",
   "metadata": {},
   "source": [
    "- `Observation`\n",
    "  - Actual values are located 147.82 units away from the predicted values"
   ]
  },
  {
   "cell_type": "markdown",
   "metadata": {},
   "source": [
    "- **R_Squared Value**"
   ]
  },
  {
   "cell_type": "code",
   "execution_count": 80,
   "metadata": {},
   "outputs": [
    {
     "data": {
      "text/plain": [
       "0.9819399895968429"
      ]
     },
     "execution_count": 80,
     "metadata": {},
     "output_type": "execute_result"
    }
   ],
   "source": [
    "r_squared(df_test[\"Revenue_Generation\"],df_test[\"Predictions\"])"
   ]
  },
  {
   "cell_type": "markdown",
   "metadata": {},
   "source": [
    "- `Observation`\n",
    "  - As both Sklearn model & our manually trained model parameters are matching. So, both model's RMSE & R_Squared values are also matching."
   ]
  }
 ],
 "metadata": {
  "kernelspec": {
   "display_name": "data_science_env",
   "language": "python",
   "name": "python3"
  },
  "language_info": {
   "codemirror_mode": {
    "name": "ipython",
    "version": 3
   },
   "file_extension": ".py",
   "mimetype": "text/x-python",
   "name": "python",
   "nbconvert_exporter": "python",
   "pygments_lexer": "ipython3",
   "version": "3.12.3"
  }
 },
 "nbformat": 4,
 "nbformat_minor": 2
}
